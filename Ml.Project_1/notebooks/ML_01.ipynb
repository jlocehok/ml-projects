{
 "cells": [
  {
   "cell_type": "markdown",
   "id": "cd403884",
   "metadata": {},
   "source": [
    "# Introduction. \n",
    "##  Запиши свои ответы в раздел Intro своего ноутбука.\n"
   ]
  },
  {
   "cell_type": "markdown",
   "id": "a462a3dc",
   "metadata": {},
   "source": [
    "### 1.a Для начала приведи 5 примеров применения методов машинного обучения в жизни. В чём заключается польза использования методов ML в каждом из этих примеров?"
   ]
  },
  {
   "cell_type": "markdown",
   "id": "c8b88042",
   "metadata": {},
   "source": [
    "### Рекомендации фильмов и сериалов\n",
    "\n",
    "Польза: персональные рекомендации ускоряют выбор контента, повышают вовлечённость пользователя и удержание аудитории.\n",
    "\n",
    "\n",
    "### Рекомендации музыки\n",
    "\n",
    "Польза: пользователь быстрее находит понравившиеся треки, дольше остаётся в сервисе, слушает больше музыки.\n",
    "\n",
    "\n",
    "### Прогноз цен на такси, авиабилеты\n",
    "\n",
    "Польза: можно выбрать лучшее время для покупки, экономить деньги, сервис оптимизирует доход.\n",
    "\n",
    "\n",
    "### Сортировка писем в электронной почте (спам/не спам)\n",
    "\n",
    "Польза: фильтрация спама, пользователь не тратит время на мусорные письма.\n",
    "\n",
    "\n",
    "### Оценка профита руки в покере на префлопе\n",
    "\n",
    "Польза: принятие более выгодных решений в игре, рост прибыли игрока.\n"
   ]
  },
  {
   "cell_type": "markdown",
   "id": "6882543c",
   "metadata": {},
   "source": [
    "## 1.b Для своих 5 и для задач из таблицы — \n",
    "### определить, к какому классу (регрессия, классификация и т.д.) они относятся"
   ]
  },
  {
   "cell_type": "markdown",
   "id": "be96555d",
   "metadata": {},
   "source": [
    "| №  | Задача (Task T)                                                               | Метрика качества (Performance measure P)                                          | Опыт (Experience E)                                                                                       | Тип задачи             |\n",
    "|----|-------------------------------------------------------------------------------|-----------------------------------------------------------------------------------|----------------------------------------------------------------------------------------------------------|------------------------|\n",
    "| 1  | Предсказать цену жилья                                                        | Насколько точно угадана цена                                                      | Описание каждой квартиры в городе с фиксированными характеристиками и ценой                              |Регрессия                        |\n",
    "| 2  | Предсказать, вернёт ли клиент кредит                                          | Правильность предсказания<br>или сумма потерь банка, если кредит не вернули        | Зарплата клиентов и их кредитная история                                                                 |Правильность предсказания - классификация, сумма потерь банка - регрессия                        |\n",
    "| 3  | Предсказать, когда пациенту нужно принимать лекарство                         | Помогает ли лекарство выздороветь                                                 | Медицинские данные пациента. Результаты рандомизированного исследования. Медкарты других пациентов       |Регрессия                        |\n",
    "| 4  | Выбрать, какое из доступных лекарств дать пациенту                            | Помогает ли лекарство выздороветь                                                 | То же, что выше, но для разных лекарств                                                                  |Классификация                        |\n",
    "| 5  | Подобрать сегмент клиентов для промо-рассылки                                 | Открываемость писем<br>или рост прибыли                                           | Состав промо, история покупок клиентов, характеристики товаров                                           |Кластеризация                        |\n",
    "| 6  | Распознавание бракованных изделий на производстве (по фото)                   | Количество пропущенных дефектов                                                   | Фото бракованных и нормальных изделий                                                                    |Классификация                        |\n",
    "| 7  | Определить, как расставить товары на полке                                    | Количество проданных товаров<br>или рост прибыли                                  | История предыдущих выкладок, заказы с количеством товаров                                                |Регрессия                        |\n",
    "| 8  | Поиск сайтов по текстовому запросу                                            | Доля успешных поисков<br>или средний ранг успешного ответа                        | Поисковые запросы других пользователей, текстовое описание сайтов                                        |Классификация                        |\n",
    "| 9  | Разделить покупателей на сегменты для анализа различий поведения              | Насколько хорошо можно интерпретировать сегменты                                  | Характеристики покупателей и история покупок                                                             |Кластеризация                        |\n",
    "| 10 | Обнаружить аномалию в трафике сайта                                           | Количество предотвращённых DDoS-атак                                              | Поток запросов к серверу                                                                                 |Классификация                        |\n",
    "| 11 |Рекомендации фильмов и сериалов                                                                               |                                                                                   Просмотрен ли рекомендованный фильм или сериал, если да то какая оценка поставлена|Фильмы и сериалы просмотренные пользователями с такими же предпочтениями                                                                                                         |                        Кластеризация|\n",
    "| 12 |Рекомендации музыки                                                                               |Добавлен ли этот трек  в личные аудиозаписи,прослушан ли до конца                                                                                   |Музыка добавленная в личные аудиозапизи пользователями с такими же предпочтениями                                                                                                           |                        Кластеризация|\n",
    "| 13 |Прогноз цен на такси, авиабилеты                                                                               |                                                                                   На сколько точно угадана цена   | Цены на за предыдущие сроки, погодные условия, время дня, день недели, дата                                                                                           |Регрессия                        |\n",
    "| 14 |Сортировка писем в электронной почте (спам/не спам)                                                                               |                                                                                   Количество правильно сортированных писем|Содержание писем,  разметка спам/не спам                                                                                                          |Классификация                        |\n",
    "| 15 |Оценка профита руки в покере на префлопе                                                                               |                                                                                   Прибыль на длинной дистанции                                                                                                       |                        Характеристики руки (карты, позиция, действия, размер блайнда) и исторические результаты аналогичных ситуаций    |Мат.ожидание - Регрессия, Действие(Limp, raise, fold )-классификация \n"
   ]
  },
  {
   "cell_type": "markdown",
   "id": "e69840bd",
   "metadata": {},
   "source": [
    "## 1.c Think about what the difference is between multiclass and multilabel.\n",
    "### Подумай, в чём разница между мультиклассовой (multiclass) и мультиметочной (multilabel) задачей.\n",
    "\n",
    "Multiclass classification - каждому объекту можно присвоить только один класс(одна метка) из множества возможных. Один жанр конкретного трека\n",
    "\n",
    "Multilabel classification - одному объекту можно присвоить сразу несколько классов(несколько меток) одновременно. Например теги для одного фильма"
   ]
  },
  {
   "cell_type": "markdown",
   "id": "8c053db5",
   "metadata": {},
   "source": [
    "## 1.d Является ли пример с ценами на жильё из теории задачей классификации или регрессии?\n",
    "Предсказание цен на квартиры является задачей регрессии так как цена - непрерывное число\n",
    "\n"
   ]
  },
  {
   "cell_type": "markdown",
   "id": "13f057a2",
   "metadata": {},
   "source": [
    "## Можно ли превратить задачу регрессии в задачу классификации?\n",
    "Да, можно разбить значения цены на диапазоны (интервалы) и решать задачу классификации по этим категориям.\n",
    "\n"
   ]
  },
  {
   "cell_type": "markdown",
   "id": "22f06179",
   "metadata": {},
   "source": [
    "# Introduction to Data Analysis"
   ]
  },
  {
   "cell_type": "markdown",
   "id": "87831a65",
   "metadata": {},
   "source": [
    "## Import the libraries pandas, numpy, sklearn, lightgbm, scipy, statsmodels, matplotlib, seaborn. Use pip install if necessary.\n",
    "## Load data from kaggle using pandas. You only need the table data, which is in train.json."
   ]
  },
  {
   "cell_type": "code",
   "execution_count": 981,
   "id": "56419e01",
   "metadata": {},
   "outputs": [],
   "source": [
    "import pandas as pd\n",
    "import numpy as np\n",
    "import matplotlib.pyplot as plt\n",
    "import seaborn as sns\n",
    "from sklearn.preprocessing import PolynomialFeatures,StandardScaler\n",
    "from sklearn.linear_model import LinearRegression\n",
    "from sklearn.tree import DecisionTreeRegressor\n",
    "from sklearn.metrics import mean_absolute_error, mean_squared_error\n",
    "import warnings\n",
    "warnings.filterwarnings('ignore')\n"
   ]
  },
  {
   "cell_type": "code",
   "execution_count": 982,
   "id": "7e9a921a",
   "metadata": {},
   "outputs": [],
   "source": [
    "raw_df = pd.read_json('data/train.json')"
   ]
  },
  {
   "cell_type": "code",
   "execution_count": 983,
   "id": "32bff0d2",
   "metadata": {},
   "outputs": [
    {
     "name": "stdout",
     "output_type": "stream",
     "text": [
      "<class 'pandas.core.frame.DataFrame'>\n",
      "Index: 49352 entries, 4 to 124009\n",
      "Data columns (total 15 columns):\n",
      " #   Column           Non-Null Count  Dtype  \n",
      "---  ------           --------------  -----  \n",
      " 0   bathrooms        49352 non-null  float64\n",
      " 1   bedrooms         49352 non-null  int64  \n",
      " 2   building_id      49352 non-null  object \n",
      " 3   created          49352 non-null  object \n",
      " 4   description      49352 non-null  object \n",
      " 5   display_address  49352 non-null  object \n",
      " 6   features         49352 non-null  object \n",
      " 7   latitude         49352 non-null  float64\n",
      " 8   listing_id       49352 non-null  int64  \n",
      " 9   longitude        49352 non-null  float64\n",
      " 10  manager_id       49352 non-null  object \n",
      " 11  photos           49352 non-null  object \n",
      " 12  price            49352 non-null  int64  \n",
      " 13  street_address   49352 non-null  object \n",
      " 14  interest_level   49352 non-null  object \n",
      "dtypes: float64(3), int64(3), object(9)\n",
      "memory usage: 6.0+ MB\n"
     ]
    }
   ],
   "source": [
    "raw_df.info()"
   ]
  },
  {
   "cell_type": "markdown",
   "id": "74e2c052",
   "metadata": {},
   "source": [
    "## 2.a What is the size (the number of rows and columns) of your data?\n",
    "49352 rows × 15 columns"
   ]
  },
  {
   "cell_type": "markdown",
   "id": "f3ceaa12",
   "metadata": {},
   "source": [
    "## 2.d Print the list of columns. Which column is a target?"
   ]
  },
  {
   "cell_type": "code",
   "execution_count": 984,
   "id": "b08e9379",
   "metadata": {},
   "outputs": [
    {
     "name": "stdout",
     "output_type": "stream",
     "text": [
      "bathrooms bedrooms building_id created description display_address features latitude listing_id longitude manager_id photos price street_address interest_level\n"
     ]
    }
   ],
   "source": [
    "print(*raw_df.columns)"
   ]
  },
  {
   "cell_type": "markdown",
   "id": "709a1ea0",
   "metadata": {},
   "source": [
    "### Target column is Price"
   ]
  },
  {
   "cell_type": "markdown",
   "id": "40cab72a",
   "metadata": {},
   "source": [
    "## Make a quick analysis of the data:\n",
    "### use the methods info(), describe(), corr(). Explain the results of the outputs. Are there any empty columns?"
   ]
  },
  {
   "cell_type": "code",
   "execution_count": 985,
   "id": "0cb5be41",
   "metadata": {},
   "outputs": [
    {
     "name": "stdout",
     "output_type": "stream",
     "text": [
      "<class 'pandas.core.frame.DataFrame'>\n",
      "Index: 49352 entries, 4 to 124009\n",
      "Data columns (total 15 columns):\n",
      " #   Column           Non-Null Count  Dtype  \n",
      "---  ------           --------------  -----  \n",
      " 0   bathrooms        49352 non-null  float64\n",
      " 1   bedrooms         49352 non-null  int64  \n",
      " 2   building_id      49352 non-null  object \n",
      " 3   created          49352 non-null  object \n",
      " 4   description      49352 non-null  object \n",
      " 5   display_address  49352 non-null  object \n",
      " 6   features         49352 non-null  object \n",
      " 7   latitude         49352 non-null  float64\n",
      " 8   listing_id       49352 non-null  int64  \n",
      " 9   longitude        49352 non-null  float64\n",
      " 10  manager_id       49352 non-null  object \n",
      " 11  photos           49352 non-null  object \n",
      " 12  price            49352 non-null  int64  \n",
      " 13  street_address   49352 non-null  object \n",
      " 14  interest_level   49352 non-null  object \n",
      "dtypes: float64(3), int64(3), object(9)\n",
      "memory usage: 6.0+ MB\n"
     ]
    }
   ],
   "source": [
    "raw_df.info()"
   ]
  },
  {
   "cell_type": "code",
   "execution_count": 986,
   "id": "4af7c0cc",
   "metadata": {},
   "outputs": [
    {
     "data": {
      "text/html": [
       "<div>\n",
       "<style scoped>\n",
       "    .dataframe tbody tr th:only-of-type {\n",
       "        vertical-align: middle;\n",
       "    }\n",
       "\n",
       "    .dataframe tbody tr th {\n",
       "        vertical-align: top;\n",
       "    }\n",
       "\n",
       "    .dataframe thead th {\n",
       "        text-align: right;\n",
       "    }\n",
       "</style>\n",
       "<table border=\"1\" class=\"dataframe\">\n",
       "  <thead>\n",
       "    <tr style=\"text-align: right;\">\n",
       "      <th></th>\n",
       "      <th>bathrooms</th>\n",
       "      <th>bedrooms</th>\n",
       "      <th>latitude</th>\n",
       "      <th>listing_id</th>\n",
       "      <th>longitude</th>\n",
       "      <th>price</th>\n",
       "    </tr>\n",
       "  </thead>\n",
       "  <tbody>\n",
       "    <tr>\n",
       "      <th>count</th>\n",
       "      <td>49352.00000</td>\n",
       "      <td>49352.000000</td>\n",
       "      <td>49352.000000</td>\n",
       "      <td>4.935200e+04</td>\n",
       "      <td>49352.000000</td>\n",
       "      <td>4.935200e+04</td>\n",
       "    </tr>\n",
       "    <tr>\n",
       "      <th>mean</th>\n",
       "      <td>1.21218</td>\n",
       "      <td>1.541640</td>\n",
       "      <td>40.741545</td>\n",
       "      <td>7.024055e+06</td>\n",
       "      <td>-73.955716</td>\n",
       "      <td>3.830174e+03</td>\n",
       "    </tr>\n",
       "    <tr>\n",
       "      <th>std</th>\n",
       "      <td>0.50142</td>\n",
       "      <td>1.115018</td>\n",
       "      <td>0.638535</td>\n",
       "      <td>1.262746e+05</td>\n",
       "      <td>1.177912</td>\n",
       "      <td>2.206687e+04</td>\n",
       "    </tr>\n",
       "    <tr>\n",
       "      <th>min</th>\n",
       "      <td>0.00000</td>\n",
       "      <td>0.000000</td>\n",
       "      <td>0.000000</td>\n",
       "      <td>6.811957e+06</td>\n",
       "      <td>-118.271000</td>\n",
       "      <td>4.300000e+01</td>\n",
       "    </tr>\n",
       "    <tr>\n",
       "      <th>25%</th>\n",
       "      <td>1.00000</td>\n",
       "      <td>1.000000</td>\n",
       "      <td>40.728300</td>\n",
       "      <td>6.915888e+06</td>\n",
       "      <td>-73.991700</td>\n",
       "      <td>2.500000e+03</td>\n",
       "    </tr>\n",
       "    <tr>\n",
       "      <th>50%</th>\n",
       "      <td>1.00000</td>\n",
       "      <td>1.000000</td>\n",
       "      <td>40.751800</td>\n",
       "      <td>7.021070e+06</td>\n",
       "      <td>-73.977900</td>\n",
       "      <td>3.150000e+03</td>\n",
       "    </tr>\n",
       "    <tr>\n",
       "      <th>75%</th>\n",
       "      <td>1.00000</td>\n",
       "      <td>2.000000</td>\n",
       "      <td>40.774300</td>\n",
       "      <td>7.128733e+06</td>\n",
       "      <td>-73.954800</td>\n",
       "      <td>4.100000e+03</td>\n",
       "    </tr>\n",
       "    <tr>\n",
       "      <th>max</th>\n",
       "      <td>10.00000</td>\n",
       "      <td>8.000000</td>\n",
       "      <td>44.883500</td>\n",
       "      <td>7.753784e+06</td>\n",
       "      <td>0.000000</td>\n",
       "      <td>4.490000e+06</td>\n",
       "    </tr>\n",
       "  </tbody>\n",
       "</table>\n",
       "</div>"
      ],
      "text/plain": [
       "         bathrooms      bedrooms      latitude    listing_id     longitude  \\\n",
       "count  49352.00000  49352.000000  49352.000000  4.935200e+04  49352.000000   \n",
       "mean       1.21218      1.541640     40.741545  7.024055e+06    -73.955716   \n",
       "std        0.50142      1.115018      0.638535  1.262746e+05      1.177912   \n",
       "min        0.00000      0.000000      0.000000  6.811957e+06   -118.271000   \n",
       "25%        1.00000      1.000000     40.728300  6.915888e+06    -73.991700   \n",
       "50%        1.00000      1.000000     40.751800  7.021070e+06    -73.977900   \n",
       "75%        1.00000      2.000000     40.774300  7.128733e+06    -73.954800   \n",
       "max       10.00000      8.000000     44.883500  7.753784e+06      0.000000   \n",
       "\n",
       "              price  \n",
       "count  4.935200e+04  \n",
       "mean   3.830174e+03  \n",
       "std    2.206687e+04  \n",
       "min    4.300000e+01  \n",
       "25%    2.500000e+03  \n",
       "50%    3.150000e+03  \n",
       "75%    4.100000e+03  \n",
       "max    4.490000e+06  "
      ]
     },
     "execution_count": 986,
     "metadata": {},
     "output_type": "execute_result"
    }
   ],
   "source": [
    "raw_df.describe()"
   ]
  },
  {
   "cell_type": "markdown",
   "id": "a1f61b04",
   "metadata": {},
   "source": [
    "### We'll work with only 3 features: 'bathrooms', 'bedrooms', 'interest_level' and with the target column 'price'. \n",
    "### Create a dataframe with only these columns."
   ]
  },
  {
   "cell_type": "code",
   "execution_count": 987,
   "id": "18304472",
   "metadata": {},
   "outputs": [],
   "source": [
    "df = raw_df[['bathrooms','bedrooms','interest_level','price']]"
   ]
  },
  {
   "cell_type": "code",
   "execution_count": 988,
   "id": "4ea1b24b",
   "metadata": {},
   "outputs": [
    {
     "data": {
      "text/html": [
       "<div>\n",
       "<style scoped>\n",
       "    .dataframe tbody tr th:only-of-type {\n",
       "        vertical-align: middle;\n",
       "    }\n",
       "\n",
       "    .dataframe tbody tr th {\n",
       "        vertical-align: top;\n",
       "    }\n",
       "\n",
       "    .dataframe thead th {\n",
       "        text-align: right;\n",
       "    }\n",
       "</style>\n",
       "<table border=\"1\" class=\"dataframe\">\n",
       "  <thead>\n",
       "    <tr style=\"text-align: right;\">\n",
       "      <th></th>\n",
       "      <th>bathrooms</th>\n",
       "      <th>bedrooms</th>\n",
       "      <th>price</th>\n",
       "    </tr>\n",
       "  </thead>\n",
       "  <tbody>\n",
       "    <tr>\n",
       "      <th>bathrooms</th>\n",
       "      <td>1.000000</td>\n",
       "      <td>0.533446</td>\n",
       "      <td>0.069661</td>\n",
       "    </tr>\n",
       "    <tr>\n",
       "      <th>bedrooms</th>\n",
       "      <td>0.533446</td>\n",
       "      <td>1.000000</td>\n",
       "      <td>0.051788</td>\n",
       "    </tr>\n",
       "    <tr>\n",
       "      <th>price</th>\n",
       "      <td>0.069661</td>\n",
       "      <td>0.051788</td>\n",
       "      <td>1.000000</td>\n",
       "    </tr>\n",
       "  </tbody>\n",
       "</table>\n",
       "</div>"
      ],
      "text/plain": [
       "           bathrooms  bedrooms     price\n",
       "bathrooms   1.000000  0.533446  0.069661\n",
       "bedrooms    0.533446  1.000000  0.051788\n",
       "price       0.069661  0.051788  1.000000"
      ]
     },
     "execution_count": 988,
     "metadata": {},
     "output_type": "execute_result"
    }
   ],
   "source": [
    "df[['bathrooms','bedrooms','price']].corr()"
   ]
  },
  {
   "cell_type": "markdown",
   "id": "62339eb6",
   "metadata": {},
   "source": [
    "## 2.3 Explain the results of the outputs. Are there any empty columns?\n",
    "**Анализ данных:**\n",
    "- В данных 15 признаков и 49 352 строки, пропусков нет.\n",
    "- describe() показывает, что большинство квартир имеют 1 спальню и 1 ванную, но встречаются и экстремальные значения (до 10 ванных, 8 спален), что может быть выбросами.\n",
    "- Для цены разброс огромный: от 43 до 4,490,000. Медиана ниже среднего, что свидетельствует о наличии выбросов.\n",
    "- Корреляция между количеством спален/ванных и ценой почти отсутствует (≤ 0.07), между `bathrooms` и `bedrooms` — умеренная (0.53).\n",
    "- Вывод: признаки содержат выбросы, линейная связь между базовыми признаками и ценой слабая, пропусков нет.\n"
   ]
  },
  {
   "cell_type": "markdown",
   "id": "811ecfb5",
   "metadata": {},
   "source": [
    "## Statistical Data Analysis"
   ]
  },
  {
   "cell_type": "markdown",
   "id": "2a04afab",
   "metadata": {},
   "source": [
    "Чтобы приступить к статистическому анализу данных, рекомендуем повторить базовые понятия статистики: среднее (Mean), медиана (Median), мода (Mode), дисперсия (Variance), стандартное отклонение (Standard Deviation). Также желательно знать распределения: дискретное равномерное (Discrete uniform), распределение Бернулли (Bernoulli), биномиальное (Binomial), Пуассона (Poisson), нормальное (Normal), экспоненциальное (Exponential).\n",
    "Убедитесь, что знаете определения: выброс (outlier), процентиль (percentile), доверительный интервал (confidence interval)."
   ]
  },
  {
   "cell_type": "markdown",
   "id": "3b42b4b7",
   "metadata": {},
   "source": [
    "1. Mean (Среднее арифметическое):\n",
    "Сумма всех значений, делённая на их количество.\n",
    "\n",
    "2. Median (Медиана):\n",
    "Значение, которое делит отсортированный ряд на две равные части (50% ниже, 50% выше).\n",
    "\n",
    "3. Mode (Мода):\n",
    "Значение, которое встречается чаще всего в наборе данных.\n",
    "\n",
    "4. Variance (Дисперсия):\n",
    "Средний квадрат отклонения значений от среднего. Характеризует разброс данных.\n",
    "\n",
    "5. Standard Deviation (Стандартное отклонение):\n",
    "Квадратный корень из дисперсии. Измеряет среднее отклонение от среднего значения.\n",
    "\n",
    "6. Discrete Uniform Distribution (Дискретное равномерное распределение):\n",
    "Все значения из конечного множества равновероятны.\n",
    "Пример: бросок честного кубика (шанс каждой грани = 1/6).\n",
    "\n",
    "7. Bernoulli Distribution (Распределение Бернулли):\n",
    "Распределение для случайной величины, принимающей два значения: 0 или 1 (успех/неудача) с вероятностью p и 1-p.\n",
    "\n",
    "8. Binomial Distribution (Биномиальное распределение):\n",
    "Количество успехов в серии из n независимых экспериментов, каждый с вероятностью успеха p.\n",
    "\n",
    "9. Poisson Distribution (Распределение Пуассона):\n",
    "Вероятность того, что за фиксированный интервал произойдёт k событий, если события происходят независимо с постоянной средней скоростью.\n",
    "\n",
    "10. Normal Distribution (Нормальное распределение):\n",
    "“Колокол” (гауссово распределение). Большинство значений около среднего, отклонения симметричны.\n",
    "\n",
    "11. Exponential Distribution (Экспоненциальное распределение):\n",
    "Модель времени ожидания между независимыми случайными событиями (например, время между звонками).\n",
    "\n",
    "12. Outlier (Выброс):\n",
    "Значение, которое сильно выделяется из общей массы данных (очень большое или очень маленькое относительно остальных).\n",
    "\n",
    "13. Percentile (Процентиль):\n",
    "Значение, ниже которого находится заданный процент наблюдений (например, 99-й процентиль — значение, ниже которого 99% данных).\n",
    "\n",
    "14. Confidence Interval (Доверительный интервал):\n",
    "Интервал, который с заданной вероятностью содержит истинное значение параметра (например, “95% уверены, что среднее лежит в этом диапазоне”)."
   ]
  },
  {
   "cell_type": "markdown",
   "id": "e2dde525",
   "metadata": {},
   "source": [
    "### Target analysis"
   ]
  },
  {
   "cell_type": "markdown",
   "id": "788b3ff1",
   "metadata": {},
   "source": [
    "### Plot a histogram to understand the distribution of the target. Is it all clear?"
   ]
  },
  {
   "cell_type": "code",
   "execution_count": 989,
   "id": "c9d69a3c",
   "metadata": {},
   "outputs": [
    {
     "data": {
      "image/png": "[encoded data removed]",
      "text/plain": [
       "<Figure size 640x480 with 1 Axes>"
      ]
     },
     "metadata": {},
     "output_type": "display_data"
    }
   ],
   "source": [
    "plt.hist(df['price'])\n",
    "plt.xlabel(\"Price\")\n",
    "plt.ylabel(\"Count\")\n",
    "plt.title(\"Распределение цен до удаления выбросов\")\n",
    "plt.tight_layout()\n",
    "plt.show()\n"
   ]
  },
  {
   "cell_type": "code",
   "execution_count": 990,
   "id": "b5823c01",
   "metadata": {},
   "outputs": [
    {
     "data": {
      "image/png": "[encoded data removed]",
      "text/plain": [
       "<Figure size 640x480 with 1 Axes>"
      ]
     },
     "metadata": {},
     "output_type": "display_data"
    }
   ],
   "source": [
    "plt.boxplot(df['price'])\n",
    "plt.title('Boxplot до удаления выбросов')\n",
    "plt.show()"
   ]
  },
  {
   "cell_type": "markdown",
   "id": "518b4036",
   "metadata": {},
   "source": [
    "Drop the rows that are outside the 1 and 99 percentiles from the target column."
   ]
  },
  {
   "cell_type": "code",
   "execution_count": 991,
   "id": "f420b77c",
   "metadata": {},
   "outputs": [
    {
     "name": "stdout",
     "output_type": "stream",
     "text": [
      "43 4490000\n"
     ]
    }
   ],
   "source": [
    "print(df['price'].min(),df['price'].max())"
   ]
  },
  {
   "cell_type": "markdown",
   "id": "b6ab0572",
   "metadata": {},
   "source": [
    "Минимальное значение до удаления 1 и 99 перцентиля  = 43\n",
    "Максимальное значение = 4490000"
   ]
  },
  {
   "cell_type": "code",
   "execution_count": 992,
   "id": "5bad2e75",
   "metadata": {},
   "outputs": [],
   "source": [
    "low = df['price'].quantile(0.01)\n",
    "high = df['price'].quantile(0.99)\n",
    "df = df[(df['price'] >= low) & (df['price'] <= high)]\n"
   ]
  },
  {
   "cell_type": "code",
   "execution_count": 993,
   "id": "e52791bc",
   "metadata": {},
   "outputs": [
    {
     "data": {
      "image/png": "[encoded data removed]",
      "text/plain": [
       "<Figure size 640x480 with 1 Axes>"
      ]
     },
     "metadata": {},
     "output_type": "display_data"
    }
   ],
   "source": [
    "plt.hist(df['price'],bins=50)\n",
    "plt.xlabel(\"Price\")\n",
    "plt.ylabel(\"Count\")\n",
    "plt.title(\"Распределение цен после удаления выбросов\")\n",
    "plt.show()\n"
   ]
  },
  {
   "cell_type": "code",
   "execution_count": 994,
   "id": "8519ff25",
   "metadata": {},
   "outputs": [
    {
     "data": {
      "image/png": "[encoded data removed]",
      "text/plain": [
       "<Figure size 640x480 with 1 Axes>"
      ]
     },
     "metadata": {},
     "output_type": "display_data"
    }
   ],
   "source": [
    "plt.boxplot(df['price'])\n",
    "plt.title('Boxplot после удаления выбросов')\n",
    "plt.show()"
   ]
  },
  {
   "cell_type": "code",
   "execution_count": 995,
   "id": "a69ddb3e",
   "metadata": {},
   "outputs": [
    {
     "name": "stdout",
     "output_type": "stream",
     "text": [
      "1475 13000\n"
     ]
    }
   ],
   "source": [
    "print(df['price'].min(),df['price'].max())"
   ]
  },
  {
   "cell_type": "markdown",
   "id": "49e5b29f",
   "metadata": {},
   "source": [
    "После удаления выбросов гистограмма показывает основное распределение цен: большинство значений лежит в диапазоне 1475-13000, форма распределения — скошенная вправо, без экстремальных выбросов."
   ]
  },
  {
   "cell_type": "markdown",
   "id": "7fe4d734",
   "metadata": {},
   "source": [
    "## Characteristics Analysis\n",
    "### What is the type of column 'interest_level'?"
   ]
  },
  {
   "cell_type": "code",
   "execution_count": 996,
   "id": "dad0be55",
   "metadata": {},
   "outputs": [
    {
     "data": {
      "text/plain": [
       "'object'"
      ]
     },
     "execution_count": 996,
     "metadata": {},
     "output_type": "execute_result"
    }
   ],
   "source": [
    "df['interest_level'].dtype.name"
   ]
  },
  {
   "cell_type": "markdown",
   "id": "14d632f0",
   "metadata": {},
   "source": [
    "### Print the values in this column. How many entries does each value contain?"
   ]
  },
  {
   "cell_type": "code",
   "execution_count": 997,
   "id": "9cb7ea22",
   "metadata": {},
   "outputs": [
    {
     "data": {
      "text/plain": [
       "interest_level\n",
       "low       33697\n",
       "medium    11116\n",
       "high       3566\n",
       "Name: count, dtype: int64"
      ]
     },
     "execution_count": 997,
     "metadata": {},
     "output_type": "execute_result"
    }
   ],
   "source": [
    "df['interest_level'].value_counts()"
   ]
  },
  {
   "cell_type": "markdown",
   "id": "24c4f7e8",
   "metadata": {},
   "source": [
    "### Encode these values. For example, you can replace each value with 0, 1, or 2."
   ]
  },
  {
   "cell_type": "code",
   "execution_count": 998,
   "id": "5c5629c3",
   "metadata": {},
   "outputs": [
    {
     "data": {
      "text/plain": [
       "interest_level\n",
       "1    33697\n",
       "2    11116\n",
       "3     3566\n",
       "Name: count, dtype: int64"
      ]
     },
     "execution_count": 998,
     "metadata": {},
     "output_type": "execute_result"
    }
   ],
   "source": [
    "df['interest_level'] = df['interest_level'].replace({'low': 1, 'medium': 2, 'high': 3}).astype(int)\n",
    "df['interest_level'].value_counts()"
   ]
  },
  {
   "cell_type": "markdown",
   "id": "888d8771",
   "metadata": {},
   "source": [
    "### Plot histograms for the features 'bathrooms', 'bedrooms'. Are there any outliers?"
   ]
  },
  {
   "cell_type": "code",
   "execution_count": 999,
   "id": "5fa70550",
   "metadata": {},
   "outputs": [
    {
     "data": {
      "image/png": "[encoded data removed]",
      "text/plain": [
       "<Figure size 1200x500 with 2 Axes>"
      ]
     },
     "metadata": {},
     "output_type": "display_data"
    }
   ],
   "source": [
    "\n",
    "fig, axes = plt.subplots(1, 2, figsize=(12, 5))\n",
    "axes[0].hist(df['bathrooms'],bins=12, edgecolor='red')\n",
    "axes[0].set_ylabel('Count')\n",
    "axes[0].set_xlabel('Number of bathrooms')\n",
    "axes[0].set_title('Histogram of bathrooms')\n",
    "axes[1].boxplot(df['bathrooms'], vert=True, patch_artist=True)\n",
    "axes[1].set_ylabel('Number of bathrooms')\n",
    "axes[1].set_title('Boxplot of bathrooms')\n",
    "plt.show()\n"
   ]
  },
  {
   "cell_type": "code",
   "execution_count": 1000,
   "id": "3b99dd01",
   "metadata": {},
   "outputs": [
    {
     "data": {
      "image/png": "[encoded data removed]",
      "text/plain": [
       "<Figure size 1200x500 with 2 Axes>"
      ]
     },
     "metadata": {},
     "output_type": "display_data"
    }
   ],
   "source": [
    "\n",
    "fig, axes = plt.subplots(1, 2, figsize=(12, 5))\n",
    "axes[0].hist(df['bedrooms'],bins=10, edgecolor='red')\n",
    "axes[0].set_ylabel('Count')\n",
    "axes[0].set_xlabel('Number of bedrooms')\n",
    "axes[0].set_title('Histogram of bedrooms')\n",
    "axes[1].boxplot(df['bedrooms'], vert=True, patch_artist=True)\n",
    "axes[1].set_ylabel('Number of bedrooms')\n",
    "axes[1].set_title('Boxplot of bedrooms')\n",
    "plt.show()\n"
   ]
  },
  {
   "cell_type": "markdown",
   "id": "8525da25",
   "metadata": {},
   "source": [
    "Экстремальных выбросов нет"
   ]
  },
  {
   "cell_type": "markdown",
   "id": "32ebf602",
   "metadata": {},
   "source": [
    "## Complex analysis"
   ]
  },
  {
   "cell_type": "markdown",
   "id": "6c436049",
   "metadata": {},
   "source": [
    "### Plot a correlation matrix\n",
    "#### to understand the correlation between features and target. Plot a heat map for the correlation matrix. Is there a correlation?"
   ]
  },
  {
   "cell_type": "code",
   "execution_count": 1001,
   "id": "75ae45cc",
   "metadata": {},
   "outputs": [
    {
     "data": {
      "text/html": [
       "<div>\n",
       "<style scoped>\n",
       "    .dataframe tbody tr th:only-of-type {\n",
       "        vertical-align: middle;\n",
       "    }\n",
       "\n",
       "    .dataframe tbody tr th {\n",
       "        vertical-align: top;\n",
       "    }\n",
       "\n",
       "    .dataframe thead th {\n",
       "        text-align: right;\n",
       "    }\n",
       "</style>\n",
       "<table border=\"1\" class=\"dataframe\">\n",
       "  <thead>\n",
       "    <tr style=\"text-align: right;\">\n",
       "      <th></th>\n",
       "      <th>bathrooms</th>\n",
       "      <th>bedrooms</th>\n",
       "      <th>interest_level</th>\n",
       "      <th>price</th>\n",
       "    </tr>\n",
       "  </thead>\n",
       "  <tbody>\n",
       "    <tr>\n",
       "      <th>bathrooms</th>\n",
       "      <td>1.000000</td>\n",
       "      <td>0.517574</td>\n",
       "      <td>-0.063635</td>\n",
       "      <td>0.671943</td>\n",
       "    </tr>\n",
       "    <tr>\n",
       "      <th>bedrooms</th>\n",
       "      <td>0.517574</td>\n",
       "      <td>1.000000</td>\n",
       "      <td>0.050654</td>\n",
       "      <td>0.545948</td>\n",
       "    </tr>\n",
       "    <tr>\n",
       "      <th>interest_level</th>\n",
       "      <td>-0.063635</td>\n",
       "      <td>0.050654</td>\n",
       "      <td>1.000000</td>\n",
       "      <td>-0.200111</td>\n",
       "    </tr>\n",
       "    <tr>\n",
       "      <th>price</th>\n",
       "      <td>0.671943</td>\n",
       "      <td>0.545948</td>\n",
       "      <td>-0.200111</td>\n",
       "      <td>1.000000</td>\n",
       "    </tr>\n",
       "  </tbody>\n",
       "</table>\n",
       "</div>"
      ],
      "text/plain": [
       "                bathrooms  bedrooms  interest_level     price\n",
       "bathrooms        1.000000  0.517574       -0.063635  0.671943\n",
       "bedrooms         0.517574  1.000000        0.050654  0.545948\n",
       "interest_level  -0.063635  0.050654        1.000000 -0.200111\n",
       "price            0.671943  0.545948       -0.200111  1.000000"
      ]
     },
     "execution_count": 1001,
     "metadata": {},
     "output_type": "execute_result"
    }
   ],
   "source": [
    "df.corr()"
   ]
  },
  {
   "cell_type": "code",
   "execution_count": 1002,
   "id": "3a59c088",
   "metadata": {},
   "outputs": [
    {
     "data": {
      "text/plain": [
       "<Axes: title={'center': 'Correlation matrix heatmap'}>"
      ]
     },
     "execution_count": 1002,
     "metadata": {},
     "output_type": "execute_result"
    },
    {
     "data": {
      "image/png": "[encoded data removed]",
      "text/plain": [
       "<Figure size 600x500 with 2 Axes>"
      ]
     },
     "metadata": {},
     "output_type": "display_data"
    }
   ],
   "source": [
    "corr = df.corr()\n",
    "plt.figure(figsize=(6,5))\n",
    "plt.title('Correlation matrix heatmap')\n",
    "sns.heatmap(corr,cmap='Reds',annot=True,vmin=-1,vmax=1)"
   ]
  },
  {
   "cell_type": "markdown",
   "id": "a588e8fa",
   "metadata": {},
   "source": [
    "### Plot a scatterplot \n",
    "#### to visualize the correlation between the features and the target. You should return 3 plots where the X-axis is the target and the Y-axis is a feature."
   ]
  },
  {
   "cell_type": "code",
   "execution_count": 1003,
   "id": "0b30fe09",
   "metadata": {},
   "outputs": [
    {
     "data": {
      "image/png": "[encoded data removed]",
      "text/plain": [
       "<Figure size 1200x400 with 3 Axes>"
      ]
     },
     "metadata": {},
     "output_type": "display_data"
    }
   ],
   "source": [
    "import matplotlib.pyplot as plt\n",
    "\n",
    "fig, axes = plt.subplots(1, 3, figsize=(12, 4))\n",
    "\n",
    "axes[0].scatter(df['price'], df['bathrooms'], alpha=0.2,s=5)\n",
    "axes[0].set_xlabel('Price')\n",
    "axes[0].set_ylabel('Bathrooms')\n",
    "axes[0].set_title('Bathrooms vs Price')\n",
    "\n",
    "axes[1].scatter(df['price'], df['bedrooms'], alpha=0.2,s=5)\n",
    "axes[1].set_xlabel('Price')\n",
    "axes[1].set_ylabel('Bedrooms')\n",
    "axes[1].set_title('Bedrooms vs Price')\n",
    "\n",
    "axes[2].scatter(df['price'], df['interest_level'], alpha=0.2,s=5)\n",
    "axes[2].set_xlabel('Price')\n",
    "axes[2].set_ylabel('Interest level')\n",
    "axes[2].set_title('Interest level vs Price')\n",
    "\n",
    "plt.tight_layout()\n",
    "plt.show()\n"
   ]
  },
  {
   "cell_type": "markdown",
   "id": "171ef101",
   "metadata": {},
   "source": [
    "## Creating Features\n",
    "### 4.a This step is very broad. You can create as many features as you want. For example, you can add 3 new features that are squared: 'bathrooms_squared', 'bedrooms_squared', ''interest_level_squared'. Plot a correlation matrix with the new features. Are the new features more correlated with the target than the basic features?"
   ]
  },
  {
   "cell_type": "code",
   "execution_count": 1004,
   "id": "00f210c5",
   "metadata": {},
   "outputs": [],
   "source": [
    "new_df = pd.DataFrame(df[['price','bathrooms','bedrooms', 'interest_level']])\n",
    "columns = df.drop('price', axis=1).columns\n",
    "\n",
    "for i, col1 in enumerate(columns):\n",
    "    new_df[col1 + '_squared'] = df[col1] * df[col1]\n",
    "    for j in range(i+1, len(columns)):\n",
    "        col2 = columns[j]\n",
    "        new_df[col1 + '*' + col2] = df[col1] * df[col2]\n"
   ]
  },
  {
   "cell_type": "code",
   "execution_count": 1005,
   "id": "7f74fdae",
   "metadata": {},
   "outputs": [
    {
     "data": {
      "image/png": "[encoded data removed]",
      "text/plain": [
       "<Figure size 800x700 with 2 Axes>"
      ]
     },
     "metadata": {},
     "output_type": "display_data"
    }
   ],
   "source": [
    "new_corr = new_df.corr()\n",
    "plt.figure(figsize=(8,7))\n",
    "plt.title('Correlation matrix heatmap')\n",
    "sns.heatmap(new_corr,cmap='Reds',annot=True,vmin=-1,vmax=1)\n",
    "plt.show()"
   ]
  },
  {
   "cell_type": "code",
   "execution_count": 1006,
   "id": "6e9fda56",
   "metadata": {},
   "outputs": [
    {
     "data": {
      "text/html": [
       "<div>\n",
       "<style scoped>\n",
       "    .dataframe tbody tr th:only-of-type {\n",
       "        vertical-align: middle;\n",
       "    }\n",
       "\n",
       "    .dataframe tbody tr th {\n",
       "        vertical-align: top;\n",
       "    }\n",
       "\n",
       "    .dataframe thead th {\n",
       "        text-align: right;\n",
       "    }\n",
       "</style>\n",
       "<table border=\"1\" class=\"dataframe\">\n",
       "  <thead>\n",
       "    <tr style=\"text-align: right;\">\n",
       "      <th></th>\n",
       "      <th>price</th>\n",
       "      <th>bathrooms</th>\n",
       "      <th>bedrooms</th>\n",
       "      <th>interest_level</th>\n",
       "      <th>bathrooms_squared</th>\n",
       "      <th>bathrooms*bedrooms</th>\n",
       "      <th>bathrooms*interest_level</th>\n",
       "      <th>bedrooms_squared</th>\n",
       "      <th>bedrooms*interest_level</th>\n",
       "      <th>interest_level_squared</th>\n",
       "    </tr>\n",
       "  </thead>\n",
       "  <tbody>\n",
       "    <tr>\n",
       "      <th>price</th>\n",
       "      <td>1.000000</td>\n",
       "      <td>0.671943</td>\n",
       "      <td>0.545948</td>\n",
       "      <td>-0.200111</td>\n",
       "      <td>0.648486</td>\n",
       "      <td>0.683230</td>\n",
       "      <td>0.248578</td>\n",
       "      <td>0.543406</td>\n",
       "      <td>0.303995</td>\n",
       "      <td>-0.194773</td>\n",
       "    </tr>\n",
       "    <tr>\n",
       "      <th>bathrooms</th>\n",
       "      <td>0.671943</td>\n",
       "      <td>1.000000</td>\n",
       "      <td>0.517574</td>\n",
       "      <td>-0.063635</td>\n",
       "      <td>0.956023</td>\n",
       "      <td>0.844062</td>\n",
       "      <td>0.574840</td>\n",
       "      <td>0.548760</td>\n",
       "      <td>0.339857</td>\n",
       "      <td>-0.062557</td>\n",
       "    </tr>\n",
       "    <tr>\n",
       "      <th>bedrooms</th>\n",
       "      <td>0.545948</td>\n",
       "      <td>0.517574</td>\n",
       "      <td>1.000000</td>\n",
       "      <td>0.050654</td>\n",
       "      <td>0.478817</td>\n",
       "      <td>0.853574</td>\n",
       "      <td>0.373422</td>\n",
       "      <td>0.928277</td>\n",
       "      <td>0.797214</td>\n",
       "      <td>0.046145</td>\n",
       "    </tr>\n",
       "    <tr>\n",
       "      <th>interest_level</th>\n",
       "      <td>-0.200111</td>\n",
       "      <td>-0.063635</td>\n",
       "      <td>0.050654</td>\n",
       "      <td>1.000000</td>\n",
       "      <td>-0.068558</td>\n",
       "      <td>-0.007247</td>\n",
       "      <td>0.737679</td>\n",
       "      <td>0.046340</td>\n",
       "      <td>0.534725</td>\n",
       "      <td>0.987944</td>\n",
       "    </tr>\n",
       "    <tr>\n",
       "      <th>bathrooms_squared</th>\n",
       "      <td>0.648486</td>\n",
       "      <td>0.956023</td>\n",
       "      <td>0.478817</td>\n",
       "      <td>-0.068558</td>\n",
       "      <td>1.000000</td>\n",
       "      <td>0.823661</td>\n",
       "      <td>0.536338</td>\n",
       "      <td>0.522227</td>\n",
       "      <td>0.305481</td>\n",
       "      <td>-0.066568</td>\n",
       "    </tr>\n",
       "    <tr>\n",
       "      <th>bathrooms*bedrooms</th>\n",
       "      <td>0.683230</td>\n",
       "      <td>0.844062</td>\n",
       "      <td>0.853574</td>\n",
       "      <td>-0.007247</td>\n",
       "      <td>0.823661</td>\n",
       "      <td>1.000000</td>\n",
       "      <td>0.530389</td>\n",
       "      <td>0.881970</td>\n",
       "      <td>0.636352</td>\n",
       "      <td>-0.009129</td>\n",
       "    </tr>\n",
       "    <tr>\n",
       "      <th>bathrooms*interest_level</th>\n",
       "      <td>0.248578</td>\n",
       "      <td>0.574840</td>\n",
       "      <td>0.373422</td>\n",
       "      <td>0.737679</td>\n",
       "      <td>0.536338</td>\n",
       "      <td>0.530389</td>\n",
       "      <td>1.000000</td>\n",
       "      <td>0.392544</td>\n",
       "      <td>0.679646</td>\n",
       "      <td>0.726359</td>\n",
       "    </tr>\n",
       "    <tr>\n",
       "      <th>bedrooms_squared</th>\n",
       "      <td>0.543406</td>\n",
       "      <td>0.548760</td>\n",
       "      <td>0.928277</td>\n",
       "      <td>0.046340</td>\n",
       "      <td>0.522227</td>\n",
       "      <td>0.881970</td>\n",
       "      <td>0.392544</td>\n",
       "      <td>1.000000</td>\n",
       "      <td>0.733122</td>\n",
       "      <td>0.042015</td>\n",
       "    </tr>\n",
       "    <tr>\n",
       "      <th>bedrooms*interest_level</th>\n",
       "      <td>0.303995</td>\n",
       "      <td>0.339857</td>\n",
       "      <td>0.797214</td>\n",
       "      <td>0.534725</td>\n",
       "      <td>0.305481</td>\n",
       "      <td>0.636352</td>\n",
       "      <td>0.679646</td>\n",
       "      <td>0.733122</td>\n",
       "      <td>1.000000</td>\n",
       "      <td>0.525608</td>\n",
       "    </tr>\n",
       "    <tr>\n",
       "      <th>interest_level_squared</th>\n",
       "      <td>-0.194773</td>\n",
       "      <td>-0.062557</td>\n",
       "      <td>0.046145</td>\n",
       "      <td>0.987944</td>\n",
       "      <td>-0.066568</td>\n",
       "      <td>-0.009129</td>\n",
       "      <td>0.726359</td>\n",
       "      <td>0.042015</td>\n",
       "      <td>0.525608</td>\n",
       "      <td>1.000000</td>\n",
       "    </tr>\n",
       "  </tbody>\n",
       "</table>\n",
       "</div>"
      ],
      "text/plain": [
       "                             price  bathrooms  bedrooms  interest_level  \\\n",
       "price                     1.000000   0.671943  0.545948       -0.200111   \n",
       "bathrooms                 0.671943   1.000000  0.517574       -0.063635   \n",
       "bedrooms                  0.545948   0.517574  1.000000        0.050654   \n",
       "interest_level           -0.200111  -0.063635  0.050654        1.000000   \n",
       "bathrooms_squared         0.648486   0.956023  0.478817       -0.068558   \n",
       "bathrooms*bedrooms        0.683230   0.844062  0.853574       -0.007247   \n",
       "bathrooms*interest_level  0.248578   0.574840  0.373422        0.737679   \n",
       "bedrooms_squared          0.543406   0.548760  0.928277        0.046340   \n",
       "bedrooms*interest_level   0.303995   0.339857  0.797214        0.534725   \n",
       "interest_level_squared   -0.194773  -0.062557  0.046145        0.987944   \n",
       "\n",
       "                          bathrooms_squared  bathrooms*bedrooms  \\\n",
       "price                              0.648486            0.683230   \n",
       "bathrooms                          0.956023            0.844062   \n",
       "bedrooms                           0.478817            0.853574   \n",
       "interest_level                    -0.068558           -0.007247   \n",
       "bathrooms_squared                  1.000000            0.823661   \n",
       "bathrooms*bedrooms                 0.823661            1.000000   \n",
       "bathrooms*interest_level           0.536338            0.530389   \n",
       "bedrooms_squared                   0.522227            0.881970   \n",
       "bedrooms*interest_level            0.305481            0.636352   \n",
       "interest_level_squared            -0.066568           -0.009129   \n",
       "\n",
       "                          bathrooms*interest_level  bedrooms_squared  \\\n",
       "price                                     0.248578          0.543406   \n",
       "bathrooms                                 0.574840          0.548760   \n",
       "bedrooms                                  0.373422          0.928277   \n",
       "interest_level                            0.737679          0.046340   \n",
       "bathrooms_squared                         0.536338          0.522227   \n",
       "bathrooms*bedrooms                        0.530389          0.881970   \n",
       "bathrooms*interest_level                  1.000000          0.392544   \n",
       "bedrooms_squared                          0.392544          1.000000   \n",
       "bedrooms*interest_level                   0.679646          0.733122   \n",
       "interest_level_squared                    0.726359          0.042015   \n",
       "\n",
       "                          bedrooms*interest_level  interest_level_squared  \n",
       "price                                    0.303995               -0.194773  \n",
       "bathrooms                                0.339857               -0.062557  \n",
       "bedrooms                                 0.797214                0.046145  \n",
       "interest_level                           0.534725                0.987944  \n",
       "bathrooms_squared                        0.305481               -0.066568  \n",
       "bathrooms*bedrooms                       0.636352               -0.009129  \n",
       "bathrooms*interest_level                 0.679646                0.726359  \n",
       "bedrooms_squared                         0.733122                0.042015  \n",
       "bedrooms*interest_level                  1.000000                0.525608  \n",
       "interest_level_squared                   0.525608                1.000000  "
      ]
     },
     "execution_count": 1006,
     "metadata": {},
     "output_type": "execute_result"
    }
   ],
   "source": [
    "new_corr"
   ]
  },
  {
   "cell_type": "markdown",
   "id": "95c40606",
   "metadata": {},
   "source": [
    "Новых признаков с большей корреляцией с целевым значением нет"
   ]
  },
  {
   "cell_type": "markdown",
   "id": "32116cb2",
   "metadata": {},
   "source": [
    "### To use PolynomialFeatures, \n",
    "#### we first need to split the data into training and test samples. We have already done this for you, please read the training and test data.\n"
   ]
  },
  {
   "cell_type": "markdown",
   "id": "0c544fda",
   "metadata": {},
   "source": [
    "### To train the model here,\n",
    "#### we will not use your new features. Remember this example and use it in Lecture 2. To train the model, we will only consider the features 'bathrooms' and 'bedrooms'."
   ]
  },
  {
   "cell_type": "code",
   "execution_count": 1007,
   "id": "2b8b72e7",
   "metadata": {},
   "outputs": [],
   "source": [
    "df_train = pd.read_json('data/train.json')\n",
    "df_test = pd.read_json('data/test.json')\n"
   ]
  },
  {
   "cell_type": "code",
   "execution_count": 1008,
   "id": "bbcaae0f",
   "metadata": {},
   "outputs": [
    {
     "data": {
      "text/html": [
       "<div>\n",
       "<style scoped>\n",
       "    .dataframe tbody tr th:only-of-type {\n",
       "        vertical-align: middle;\n",
       "    }\n",
       "\n",
       "    .dataframe tbody tr th {\n",
       "        vertical-align: top;\n",
       "    }\n",
       "\n",
       "    .dataframe thead th {\n",
       "        text-align: right;\n",
       "    }\n",
       "</style>\n",
       "<table border=\"1\" class=\"dataframe\">\n",
       "  <thead>\n",
       "    <tr style=\"text-align: right;\">\n",
       "      <th></th>\n",
       "      <th>bathrooms</th>\n",
       "      <th>bedrooms</th>\n",
       "      <th>latitude</th>\n",
       "      <th>listing_id</th>\n",
       "      <th>longitude</th>\n",
       "      <th>price</th>\n",
       "    </tr>\n",
       "  </thead>\n",
       "  <tbody>\n",
       "    <tr>\n",
       "      <th>count</th>\n",
       "      <td>74659.000000</td>\n",
       "      <td>74659.000000</td>\n",
       "      <td>74659.000000</td>\n",
       "      <td>7.465900e+04</td>\n",
       "      <td>74659.000000</td>\n",
       "      <td>7.465900e+04</td>\n",
       "    </tr>\n",
       "    <tr>\n",
       "      <th>mean</th>\n",
       "      <td>1.212915</td>\n",
       "      <td>1.544663</td>\n",
       "      <td>40.735060</td>\n",
       "      <td>7.024001e+06</td>\n",
       "      <td>-73.945282</td>\n",
       "      <td>3.749033e+03</td>\n",
       "    </tr>\n",
       "    <tr>\n",
       "      <th>std</th>\n",
       "      <td>0.649820</td>\n",
       "      <td>1.107014</td>\n",
       "      <td>0.806687</td>\n",
       "      <td>1.264496e+05</td>\n",
       "      <td>1.487795</td>\n",
       "      <td>9.713092e+03</td>\n",
       "    </tr>\n",
       "    <tr>\n",
       "      <th>min</th>\n",
       "      <td>0.000000</td>\n",
       "      <td>0.000000</td>\n",
       "      <td>0.000000</td>\n",
       "      <td>6.811958e+06</td>\n",
       "      <td>-121.488000</td>\n",
       "      <td>1.000000e+00</td>\n",
       "    </tr>\n",
       "    <tr>\n",
       "      <th>25%</th>\n",
       "      <td>1.000000</td>\n",
       "      <td>1.000000</td>\n",
       "      <td>40.727800</td>\n",
       "      <td>6.915516e+06</td>\n",
       "      <td>-73.991800</td>\n",
       "      <td>2.495000e+03</td>\n",
       "    </tr>\n",
       "    <tr>\n",
       "      <th>50%</th>\n",
       "      <td>1.000000</td>\n",
       "      <td>1.000000</td>\n",
       "      <td>40.751600</td>\n",
       "      <td>7.021738e+06</td>\n",
       "      <td>-73.977700</td>\n",
       "      <td>3.150000e+03</td>\n",
       "    </tr>\n",
       "    <tr>\n",
       "      <th>75%</th>\n",
       "      <td>1.000000</td>\n",
       "      <td>2.000000</td>\n",
       "      <td>40.774300</td>\n",
       "      <td>7.129166e+06</td>\n",
       "      <td>-73.954700</td>\n",
       "      <td>4.100000e+03</td>\n",
       "    </tr>\n",
       "    <tr>\n",
       "      <th>max</th>\n",
       "      <td>112.000000</td>\n",
       "      <td>7.000000</td>\n",
       "      <td>42.872700</td>\n",
       "      <td>7.761779e+06</td>\n",
       "      <td>0.000000</td>\n",
       "      <td>1.675000e+06</td>\n",
       "    </tr>\n",
       "  </tbody>\n",
       "</table>\n",
       "</div>"
      ],
      "text/plain": [
       "          bathrooms      bedrooms      latitude    listing_id     longitude  \\\n",
       "count  74659.000000  74659.000000  74659.000000  7.465900e+04  74659.000000   \n",
       "mean       1.212915      1.544663     40.735060  7.024001e+06    -73.945282   \n",
       "std        0.649820      1.107014      0.806687  1.264496e+05      1.487795   \n",
       "min        0.000000      0.000000      0.000000  6.811958e+06   -121.488000   \n",
       "25%        1.000000      1.000000     40.727800  6.915516e+06    -73.991800   \n",
       "50%        1.000000      1.000000     40.751600  7.021738e+06    -73.977700   \n",
       "75%        1.000000      2.000000     40.774300  7.129166e+06    -73.954700   \n",
       "max      112.000000      7.000000     42.872700  7.761779e+06      0.000000   \n",
       "\n",
       "              price  \n",
       "count  7.465900e+04  \n",
       "mean   3.749033e+03  \n",
       "std    9.713092e+03  \n",
       "min    1.000000e+00  \n",
       "25%    2.495000e+03  \n",
       "50%    3.150000e+03  \n",
       "75%    4.100000e+03  \n",
       "max    1.675000e+06  "
      ]
     },
     "execution_count": 1008,
     "metadata": {},
     "output_type": "execute_result"
    }
   ],
   "source": [
    "df_test.describe()"
   ]
  },
  {
   "cell_type": "code",
   "execution_count": 1009,
   "id": "211c004c",
   "metadata": {},
   "outputs": [],
   "source": [
    "df_train = df_train[['bathrooms','bedrooms','price']]\n",
    "df_test = df_test[['bathrooms','bedrooms','price']]\n",
    "low_train = df_train['price'].quantile(0.01)\n",
    "high_train = df_train['price'].quantile(0.99)\n",
    "df_train = df_train[(df_train['price'] >= low_train) & (df_train['price'] <= high_train)]\n",
    "low_test = df_test['price'].quantile(0.01)\n",
    "high_test = df_test['price'].quantile(0.99)\n",
    "df_test = df_test[(df_test['price'] >= low_test) & (df_test['price'] <= high_test)]\n"
   ]
  },
  {
   "cell_type": "code",
   "execution_count": 1010,
   "id": "dd5f54b9",
   "metadata": {},
   "outputs": [
    {
     "data": {
      "text/html": [
       "<div>\n",
       "<style scoped>\n",
       "    .dataframe tbody tr th:only-of-type {\n",
       "        vertical-align: middle;\n",
       "    }\n",
       "\n",
       "    .dataframe tbody tr th {\n",
       "        vertical-align: top;\n",
       "    }\n",
       "\n",
       "    .dataframe thead th {\n",
       "        text-align: right;\n",
       "    }\n",
       "</style>\n",
       "<table border=\"1\" class=\"dataframe\">\n",
       "  <thead>\n",
       "    <tr style=\"text-align: right;\">\n",
       "      <th></th>\n",
       "      <th>bathrooms</th>\n",
       "      <th>bedrooms</th>\n",
       "      <th>price</th>\n",
       "    </tr>\n",
       "  </thead>\n",
       "  <tbody>\n",
       "    <tr>\n",
       "      <th>count</th>\n",
       "      <td>73216.000000</td>\n",
       "      <td>73216.000000</td>\n",
       "      <td>73216.000000</td>\n",
       "    </tr>\n",
       "    <tr>\n",
       "      <th>mean</th>\n",
       "      <td>1.196193</td>\n",
       "      <td>1.536700</td>\n",
       "      <td>3532.189262</td>\n",
       "    </tr>\n",
       "    <tr>\n",
       "      <th>std</th>\n",
       "      <td>0.617745</td>\n",
       "      <td>1.091494</td>\n",
       "      <td>1590.100768</td>\n",
       "    </tr>\n",
       "    <tr>\n",
       "      <th>min</th>\n",
       "      <td>0.000000</td>\n",
       "      <td>0.000000</td>\n",
       "      <td>1495.000000</td>\n",
       "    </tr>\n",
       "    <tr>\n",
       "      <th>25%</th>\n",
       "      <td>1.000000</td>\n",
       "      <td>1.000000</td>\n",
       "      <td>2500.000000</td>\n",
       "    </tr>\n",
       "    <tr>\n",
       "      <th>50%</th>\n",
       "      <td>1.000000</td>\n",
       "      <td>1.000000</td>\n",
       "      <td>3150.000000</td>\n",
       "    </tr>\n",
       "    <tr>\n",
       "      <th>75%</th>\n",
       "      <td>1.000000</td>\n",
       "      <td>2.000000</td>\n",
       "      <td>4090.000000</td>\n",
       "    </tr>\n",
       "    <tr>\n",
       "      <th>max</th>\n",
       "      <td>112.000000</td>\n",
       "      <td>7.000000</td>\n",
       "      <td>13000.000000</td>\n",
       "    </tr>\n",
       "  </tbody>\n",
       "</table>\n",
       "</div>"
      ],
      "text/plain": [
       "          bathrooms      bedrooms         price\n",
       "count  73216.000000  73216.000000  73216.000000\n",
       "mean       1.196193      1.536700   3532.189262\n",
       "std        0.617745      1.091494   1590.100768\n",
       "min        0.000000      0.000000   1495.000000\n",
       "25%        1.000000      1.000000   2500.000000\n",
       "50%        1.000000      1.000000   3150.000000\n",
       "75%        1.000000      2.000000   4090.000000\n",
       "max      112.000000      7.000000  13000.000000"
      ]
     },
     "execution_count": 1010,
     "metadata": {},
     "output_type": "execute_result"
    }
   ],
   "source": [
    "df_test.describe()"
   ]
  },
  {
   "cell_type": "code",
   "execution_count": 1011,
   "id": "5e3e5a25",
   "metadata": {},
   "outputs": [],
   "source": [
    "X_train = df_train.drop('price',axis=1)\n",
    "y_train = df_train['price']\n",
    "X_test = df_test.drop('price',axis=1)\n",
    "y_test = df_test['price']"
   ]
  },
  {
   "cell_type": "markdown",
   "id": "24a24e91",
   "metadata": {},
   "source": [
    "### Initialize PolynomialFeatures() with a degree of 10."
   ]
  },
  {
   "cell_type": "code",
   "execution_count": 1012,
   "id": "fb9e19a9",
   "metadata": {},
   "outputs": [],
   "source": [
    "poly = PolynomialFeatures(10)\n"
   ]
  },
  {
   "cell_type": "markdown",
   "id": "571a4618",
   "metadata": {},
   "source": [
    "### Apply PolynomialFeatures() to fit and transform your training and test data."
   ]
  },
  {
   "cell_type": "code",
   "execution_count": 1013,
   "id": "92a1d392",
   "metadata": {},
   "outputs": [],
   "source": [
    "X_train_poly = poly.fit_transform(X_train)\n",
    "X_test_poly = poly.transform(X_test)"
   ]
  },
  {
   "cell_type": "code",
   "execution_count": 1014,
   "id": "ec8ea9a9",
   "metadata": {},
   "outputs": [
    {
     "data": {
      "text/plain": [
       "array(['1', 'bathrooms', 'bedrooms', 'bathrooms^2', 'bathrooms bedrooms',\n",
       "       'bedrooms^2', 'bathrooms^3', 'bathrooms^2 bedrooms',\n",
       "       'bathrooms bedrooms^2', 'bedrooms^3', 'bathrooms^4',\n",
       "       'bathrooms^3 bedrooms', 'bathrooms^2 bedrooms^2',\n",
       "       'bathrooms bedrooms^3', 'bedrooms^4', 'bathrooms^5',\n",
       "       'bathrooms^4 bedrooms', 'bathrooms^3 bedrooms^2',\n",
       "       'bathrooms^2 bedrooms^3', 'bathrooms bedrooms^4', 'bedrooms^5',\n",
       "       'bathrooms^6', 'bathrooms^5 bedrooms', 'bathrooms^4 bedrooms^2',\n",
       "       'bathrooms^3 bedrooms^3', 'bathrooms^2 bedrooms^4',\n",
       "       'bathrooms bedrooms^5', 'bedrooms^6', 'bathrooms^7',\n",
       "       'bathrooms^6 bedrooms', 'bathrooms^5 bedrooms^2',\n",
       "       'bathrooms^4 bedrooms^3', 'bathrooms^3 bedrooms^4',\n",
       "       'bathrooms^2 bedrooms^5', 'bathrooms bedrooms^6', 'bedrooms^7',\n",
       "       'bathrooms^8', 'bathrooms^7 bedrooms', 'bathrooms^6 bedrooms^2',\n",
       "       'bathrooms^5 bedrooms^3', 'bathrooms^4 bedrooms^4',\n",
       "       'bathrooms^3 bedrooms^5', 'bathrooms^2 bedrooms^6',\n",
       "       'bathrooms bedrooms^7', 'bedrooms^8', 'bathrooms^9',\n",
       "       'bathrooms^8 bedrooms', 'bathrooms^7 bedrooms^2',\n",
       "       'bathrooms^6 bedrooms^3', 'bathrooms^5 bedrooms^4',\n",
       "       'bathrooms^4 bedrooms^5', 'bathrooms^3 bedrooms^6',\n",
       "       'bathrooms^2 bedrooms^7', 'bathrooms bedrooms^8', 'bedrooms^9',\n",
       "       'bathrooms^10', 'bathrooms^9 bedrooms', 'bathrooms^8 bedrooms^2',\n",
       "       'bathrooms^7 bedrooms^3', 'bathrooms^6 bedrooms^4',\n",
       "       'bathrooms^5 bedrooms^5', 'bathrooms^4 bedrooms^6',\n",
       "       'bathrooms^3 bedrooms^7', 'bathrooms^2 bedrooms^8',\n",
       "       'bathrooms bedrooms^9', 'bedrooms^10'], dtype=object)"
      ]
     },
     "execution_count": 1014,
     "metadata": {},
     "output_type": "execute_result"
    }
   ],
   "source": [
    "feature_names = poly.get_feature_names_out(X_train.columns)\n",
    "feature_names"
   ]
  },
  {
   "cell_type": "code",
   "execution_count": 1015,
   "id": "b6fddda7",
   "metadata": {},
   "outputs": [
    {
     "data": {
      "text/html": [
       "<div>\n",
       "<style scoped>\n",
       "    .dataframe tbody tr th:only-of-type {\n",
       "        vertical-align: middle;\n",
       "    }\n",
       "\n",
       "    .dataframe tbody tr th {\n",
       "        vertical-align: top;\n",
       "    }\n",
       "\n",
       "    .dataframe thead th {\n",
       "        text-align: right;\n",
       "    }\n",
       "</style>\n",
       "<table border=\"1\" class=\"dataframe\">\n",
       "  <thead>\n",
       "    <tr style=\"text-align: right;\">\n",
       "      <th></th>\n",
       "      <th>1</th>\n",
       "      <th>bathrooms</th>\n",
       "      <th>bedrooms</th>\n",
       "      <th>bathrooms^2</th>\n",
       "      <th>bathrooms bedrooms</th>\n",
       "      <th>bedrooms^2</th>\n",
       "      <th>bathrooms^3</th>\n",
       "      <th>bathrooms^2 bedrooms</th>\n",
       "      <th>bathrooms bedrooms^2</th>\n",
       "      <th>bedrooms^3</th>\n",
       "      <th>...</th>\n",
       "      <th>bathrooms^9 bedrooms</th>\n",
       "      <th>bathrooms^8 bedrooms^2</th>\n",
       "      <th>bathrooms^7 bedrooms^3</th>\n",
       "      <th>bathrooms^6 bedrooms^4</th>\n",
       "      <th>bathrooms^5 bedrooms^5</th>\n",
       "      <th>bathrooms^4 bedrooms^6</th>\n",
       "      <th>bathrooms^3 bedrooms^7</th>\n",
       "      <th>bathrooms^2 bedrooms^8</th>\n",
       "      <th>bathrooms bedrooms^9</th>\n",
       "      <th>bedrooms^10</th>\n",
       "    </tr>\n",
       "  </thead>\n",
       "  <tbody>\n",
       "    <tr>\n",
       "      <th>4</th>\n",
       "      <td>1.0</td>\n",
       "      <td>1.0</td>\n",
       "      <td>1.0</td>\n",
       "      <td>1.00</td>\n",
       "      <td>1.0</td>\n",
       "      <td>1.0</td>\n",
       "      <td>1.000</td>\n",
       "      <td>1.00</td>\n",
       "      <td>1.0</td>\n",
       "      <td>1.0</td>\n",
       "      <td>...</td>\n",
       "      <td>1.000000</td>\n",
       "      <td>1.000000</td>\n",
       "      <td>1.000000</td>\n",
       "      <td>1.000000</td>\n",
       "      <td>1.00000</td>\n",
       "      <td>1.0000</td>\n",
       "      <td>1.000</td>\n",
       "      <td>1.00</td>\n",
       "      <td>1.0</td>\n",
       "      <td>1.0</td>\n",
       "    </tr>\n",
       "    <tr>\n",
       "      <th>6</th>\n",
       "      <td>1.0</td>\n",
       "      <td>1.0</td>\n",
       "      <td>2.0</td>\n",
       "      <td>1.00</td>\n",
       "      <td>2.0</td>\n",
       "      <td>4.0</td>\n",
       "      <td>1.000</td>\n",
       "      <td>2.00</td>\n",
       "      <td>4.0</td>\n",
       "      <td>8.0</td>\n",
       "      <td>...</td>\n",
       "      <td>2.000000</td>\n",
       "      <td>4.000000</td>\n",
       "      <td>8.000000</td>\n",
       "      <td>16.000000</td>\n",
       "      <td>32.00000</td>\n",
       "      <td>64.0000</td>\n",
       "      <td>128.000</td>\n",
       "      <td>256.00</td>\n",
       "      <td>512.0</td>\n",
       "      <td>1024.0</td>\n",
       "    </tr>\n",
       "    <tr>\n",
       "      <th>9</th>\n",
       "      <td>1.0</td>\n",
       "      <td>1.0</td>\n",
       "      <td>2.0</td>\n",
       "      <td>1.00</td>\n",
       "      <td>2.0</td>\n",
       "      <td>4.0</td>\n",
       "      <td>1.000</td>\n",
       "      <td>2.00</td>\n",
       "      <td>4.0</td>\n",
       "      <td>8.0</td>\n",
       "      <td>...</td>\n",
       "      <td>2.000000</td>\n",
       "      <td>4.000000</td>\n",
       "      <td>8.000000</td>\n",
       "      <td>16.000000</td>\n",
       "      <td>32.00000</td>\n",
       "      <td>64.0000</td>\n",
       "      <td>128.000</td>\n",
       "      <td>256.00</td>\n",
       "      <td>512.0</td>\n",
       "      <td>1024.0</td>\n",
       "    </tr>\n",
       "    <tr>\n",
       "      <th>10</th>\n",
       "      <td>1.0</td>\n",
       "      <td>1.5</td>\n",
       "      <td>3.0</td>\n",
       "      <td>2.25</td>\n",
       "      <td>4.5</td>\n",
       "      <td>9.0</td>\n",
       "      <td>3.375</td>\n",
       "      <td>6.75</td>\n",
       "      <td>13.5</td>\n",
       "      <td>27.0</td>\n",
       "      <td>...</td>\n",
       "      <td>115.330078</td>\n",
       "      <td>230.660156</td>\n",
       "      <td>461.320312</td>\n",
       "      <td>922.640625</td>\n",
       "      <td>1845.28125</td>\n",
       "      <td>3690.5625</td>\n",
       "      <td>7381.125</td>\n",
       "      <td>14762.25</td>\n",
       "      <td>29524.5</td>\n",
       "      <td>59049.0</td>\n",
       "    </tr>\n",
       "    <tr>\n",
       "      <th>15</th>\n",
       "      <td>1.0</td>\n",
       "      <td>1.0</td>\n",
       "      <td>0.0</td>\n",
       "      <td>1.00</td>\n",
       "      <td>0.0</td>\n",
       "      <td>0.0</td>\n",
       "      <td>1.000</td>\n",
       "      <td>0.00</td>\n",
       "      <td>0.0</td>\n",
       "      <td>0.0</td>\n",
       "      <td>...</td>\n",
       "      <td>0.000000</td>\n",
       "      <td>0.000000</td>\n",
       "      <td>0.000000</td>\n",
       "      <td>0.000000</td>\n",
       "      <td>0.00000</td>\n",
       "      <td>0.0000</td>\n",
       "      <td>0.000</td>\n",
       "      <td>0.00</td>\n",
       "      <td>0.0</td>\n",
       "      <td>0.0</td>\n",
       "    </tr>\n",
       "  </tbody>\n",
       "</table>\n",
       "<p>5 rows × 66 columns</p>\n",
       "</div>"
      ],
      "text/plain": [
       "      1  bathrooms  bedrooms  bathrooms^2  bathrooms bedrooms  bedrooms^2  \\\n",
       "4   1.0        1.0       1.0         1.00                 1.0         1.0   \n",
       "6   1.0        1.0       2.0         1.00                 2.0         4.0   \n",
       "9   1.0        1.0       2.0         1.00                 2.0         4.0   \n",
       "10  1.0        1.5       3.0         2.25                 4.5         9.0   \n",
       "15  1.0        1.0       0.0         1.00                 0.0         0.0   \n",
       "\n",
       "    bathrooms^3  bathrooms^2 bedrooms  bathrooms bedrooms^2  bedrooms^3  ...  \\\n",
       "4         1.000                  1.00                   1.0         1.0  ...   \n",
       "6         1.000                  2.00                   4.0         8.0  ...   \n",
       "9         1.000                  2.00                   4.0         8.0  ...   \n",
       "10        3.375                  6.75                  13.5        27.0  ...   \n",
       "15        1.000                  0.00                   0.0         0.0  ...   \n",
       "\n",
       "    bathrooms^9 bedrooms  bathrooms^8 bedrooms^2  bathrooms^7 bedrooms^3  \\\n",
       "4               1.000000                1.000000                1.000000   \n",
       "6               2.000000                4.000000                8.000000   \n",
       "9               2.000000                4.000000                8.000000   \n",
       "10            115.330078              230.660156              461.320312   \n",
       "15              0.000000                0.000000                0.000000   \n",
       "\n",
       "    bathrooms^6 bedrooms^4  bathrooms^5 bedrooms^5  bathrooms^4 bedrooms^6  \\\n",
       "4                 1.000000                 1.00000                  1.0000   \n",
       "6                16.000000                32.00000                 64.0000   \n",
       "9                16.000000                32.00000                 64.0000   \n",
       "10              922.640625              1845.28125               3690.5625   \n",
       "15                0.000000                 0.00000                  0.0000   \n",
       "\n",
       "    bathrooms^3 bedrooms^7  bathrooms^2 bedrooms^8  bathrooms bedrooms^9  \\\n",
       "4                    1.000                    1.00                   1.0   \n",
       "6                  128.000                  256.00                 512.0   \n",
       "9                  128.000                  256.00                 512.0   \n",
       "10                7381.125                14762.25               29524.5   \n",
       "15                   0.000                    0.00                   0.0   \n",
       "\n",
       "    bedrooms^10  \n",
       "4           1.0  \n",
       "6        1024.0  \n",
       "9        1024.0  \n",
       "10      59049.0  \n",
       "15          0.0  \n",
       "\n",
       "[5 rows x 66 columns]"
      ]
     },
     "execution_count": 1015,
     "metadata": {},
     "output_type": "execute_result"
    }
   ],
   "source": [
    "X_poly_train_df = pd.DataFrame(X_train_poly, columns=feature_names, index=X_train.index)\n",
    "X_poly_train_df.head()\n"
   ]
  },
  {
   "cell_type": "markdown",
   "id": "8a3a4851",
   "metadata": {},
   "source": [
    "## Now you need to train 3 models:\n",
    "### linear regression, decision tree and naive model. We will use them as black boxes without deep understanding."
   ]
  },
  {
   "cell_type": "markdown",
   "id": "39846d97",
   "metadata": {},
   "source": [
    "### Results table\n",
    "#### Create two empty Pandas DataFrames with columns 'model', 'train', 'test'. Let's call the first one result_MAE and the second one result_RMSE. We will fill these tables with the results of the models."
   ]
  },
  {
   "cell_type": "code",
   "execution_count": 1016,
   "id": "7a01fde1",
   "metadata": {},
   "outputs": [],
   "source": [
    "result_MAE = pd.DataFrame(columns=['model','train','test'])\n",
    "result_RMSE = pd.DataFrame(columns=['model','train','test'])"
   ]
  },
  {
   "cell_type": "markdown",
   "id": "6ea3dde1",
   "metadata": {},
   "source": [
    "### Linear Regression"
   ]
  },
  {
   "cell_type": "markdown",
   "id": "16a7918d",
   "metadata": {},
   "source": [
    "#### Initialize linear regression from sklearn with no parameters.\n",
    "#### Fit your model and make predictions on training and test features. Save it as new columns in data.\n",
    "#### Compute MAE (Mean Absolute Error) on training and test targets.\n",
    "#### Calculate RMSE (Root Mean Square Error) on training and test objectives.\n",
    "#### Insert your metrics into tables result_MAE and result_RMSE with model name 'linear_regression'."
   ]
  },
  {
   "cell_type": "code",
   "execution_count": 1017,
   "id": "f8e1e61a",
   "metadata": {},
   "outputs": [],
   "source": [
    "def add_metrics(model_name,y_true_train,y_true_test,y_pred_train,y_pred_test):\n",
    "    rmse_train = round(float(np.sqrt(mean_squared_error(y_true_train,y_pred_train))),6)\n",
    "    mae_train = round(float(mean_absolute_error(y_true_train,y_pred_train)),6)\n",
    "    rmse_test = round(float(np.sqrt(mean_squared_error(y_true_test,y_pred_test))),6)\n",
    "    mae_test = round(float(mean_absolute_error(y_true_test,y_pred_test)),6)\n",
    "    print(f\"{model_name}\\nRMSE test: {rmse_test},RMSE train: {rmse_train},\\n MAE test: {mae_test},MAE train: {mae_train}\")\n",
    "    result_RMSE.loc[len(result_RMSE)]= {'model':model_name,'train':rmse_train,'test':rmse_test} \n",
    "    result_MAE.loc[len(result_MAE)] = {'model':model_name,'train':mae_train,'test':mae_test}"
   ]
  },
  {
   "cell_type": "code",
   "execution_count": 1018,
   "id": "9841a1ac",
   "metadata": {},
   "outputs": [],
   "source": [
    "lr_model = LinearRegression()\n",
    "lr_model.fit(X_train,y_train)\n",
    "df_test['lr_y_pred'] = lr_model.predict(X_test)\n",
    "df_train['lr_y_pred'] = lr_model.predict(X_train)\n"
   ]
  },
  {
   "cell_type": "code",
   "execution_count": 1019,
   "id": "3806064d",
   "metadata": {},
   "outputs": [
    {
     "name": "stdout",
     "output_type": "stream",
     "text": [
      "linear_regression\n",
      "RMSE test: 1368.570772,RMSE train: 1123.877748,\n",
      " MAE test: 790.478922,MAE train: 784.563837\n"
     ]
    }
   ],
   "source": [
    "add_metrics('linear_regression',df_train['price'],df_test['price'],df_train['lr_y_pred'],df_test['lr_y_pred'])"
   ]
  },
  {
   "cell_type": "markdown",
   "id": "fa10813a",
   "metadata": {},
   "source": [
    "### Decision Tree\n",
    "\n",
    "#### Initialize decision tree regressor from sklearn with fixed random_state=21.\n",
    "#### Fit it to train features and train target and make prediction on train and test features. Save it as a new column in data.\n",
    "#### Compute MAE (Mean Absolute Error) on train and test targets.\n",
    "#### Compute RMSE (Root Mean Square Error) on train and test targets.\n",
    "#### Insert your metrics into tables result_MAE and result_RMSE with model name 'decision_tree'."
   ]
  },
  {
   "cell_type": "code",
   "execution_count": 1020,
   "id": "2470b34d",
   "metadata": {},
   "outputs": [],
   "source": [
    "dt_model = DecisionTreeRegressor(random_state=21)\n",
    "dt_model.fit(X_train,y_train)\n",
    "df_test['dt_y_pred'] = dt_model.predict(X_test)\n",
    "df_train['dt_y_pred'] = dt_model.predict(X_train)"
   ]
  },
  {
   "cell_type": "code",
   "execution_count": 1021,
   "id": "a0741ece",
   "metadata": {},
   "outputs": [
    {
     "name": "stdout",
     "output_type": "stream",
     "text": [
      "decision_tree\n",
      "RMSE test: 1081.050194,RMSE train: 1077.483596,\n",
      " MAE test: 759.294165,MAE train: 756.044735\n"
     ]
    }
   ],
   "source": [
    "add_metrics('decision_tree',df_train['price'],df_test['price'],df_train['dt_y_pred'],df_test['dt_y_pred'])"
   ]
  },
  {
   "cell_type": "markdown",
   "id": "9aea265d",
   "metadata": {},
   "source": [
    "### Naive Models\n",
    "\n",
    "#### Calculate the mean and median of 'price' on the training and test data and create a column with these values.\n",
    "#### Calculate the MAE on the training and test targets between your target and the calculated mean and median.\n",
    "#### Calculate the RMSE on the training and test targets between your target and the calculated mean and median.\n",
    "#### Insert your metrics into tables result_MAE and result_RMSE with model names 'naive_mean' and 'naive_median'."
   ]
  },
  {
   "cell_type": "code",
   "execution_count": 1022,
   "id": "84638aed",
   "metadata": {},
   "outputs": [],
   "source": [
    "df_test['y_mean'] = df_train['price'].mean() \n",
    "df_train['y_mean'] = df_train['price'].mean() \n",
    "df_test['y_median'] = df_train['price'].median() \n",
    "df_train['y_median'] = df_train['price'].median() "
   ]
  },
  {
   "cell_type": "code",
   "execution_count": 1023,
   "id": "18d662db",
   "metadata": {},
   "outputs": [
    {
     "name": "stdout",
     "output_type": "stream",
     "text": [
      "naive_mean\n",
      "RMSE test: 1590.102981,RMSE train: 1597.646655,\n",
      " MAE test: 1137.339895,MAE train: 1139.192515\n",
      "naive_median\n",
      "RMSE test: 1635.375966,RMSE train: 1644.236439,\n",
      " MAE test: 1084.274571,MAE train: 1086.210505\n"
     ]
    }
   ],
   "source": [
    "add_metrics('naive_mean',df_train['price'],df_test['price'],df_train['y_mean'],df_test['y_mean'])\n",
    "add_metrics('naive_median',df_train['price'],df_test['price'],df_train['y_median'],df_test['y_median'])"
   ]
  },
  {
   "cell_type": "code",
   "execution_count": 1024,
   "id": "0f38085d",
   "metadata": {},
   "outputs": [
    {
     "data": {
      "text/html": [
       "<div>\n",
       "<style scoped>\n",
       "    .dataframe tbody tr th:only-of-type {\n",
       "        vertical-align: middle;\n",
       "    }\n",
       "\n",
       "    .dataframe tbody tr th {\n",
       "        vertical-align: top;\n",
       "    }\n",
       "\n",
       "    .dataframe thead th {\n",
       "        text-align: right;\n",
       "    }\n",
       "</style>\n",
       "<table border=\"1\" class=\"dataframe\">\n",
       "  <thead>\n",
       "    <tr style=\"text-align: right;\">\n",
       "      <th></th>\n",
       "      <th>bathrooms</th>\n",
       "      <th>bedrooms</th>\n",
       "      <th>price</th>\n",
       "      <th>lr_y_pred</th>\n",
       "      <th>dt_y_pred</th>\n",
       "      <th>y_mean</th>\n",
       "      <th>y_median</th>\n",
       "    </tr>\n",
       "  </thead>\n",
       "  <tbody>\n",
       "    <tr>\n",
       "      <th>4</th>\n",
       "      <td>1.0</td>\n",
       "      <td>1</td>\n",
       "      <td>2400</td>\n",
       "      <td>2965.395744</td>\n",
       "      <td>3038.673625</td>\n",
       "      <td>3538.636888</td>\n",
       "      <td>3150.0</td>\n",
       "    </tr>\n",
       "    <tr>\n",
       "      <th>6</th>\n",
       "      <td>1.0</td>\n",
       "      <td>2</td>\n",
       "      <td>3800</td>\n",
       "      <td>3358.006383</td>\n",
       "      <td>3202.066470</td>\n",
       "      <td>3538.636888</td>\n",
       "      <td>3150.0</td>\n",
       "    </tr>\n",
       "    <tr>\n",
       "      <th>9</th>\n",
       "      <td>1.0</td>\n",
       "      <td>2</td>\n",
       "      <td>3495</td>\n",
       "      <td>3358.006383</td>\n",
       "      <td>3202.066470</td>\n",
       "      <td>3538.636888</td>\n",
       "      <td>3150.0</td>\n",
       "    </tr>\n",
       "    <tr>\n",
       "      <th>10</th>\n",
       "      <td>1.5</td>\n",
       "      <td>3</td>\n",
       "      <td>3000</td>\n",
       "      <td>4681.307926</td>\n",
       "      <td>4100.918269</td>\n",
       "      <td>3538.636888</td>\n",
       "      <td>3150.0</td>\n",
       "    </tr>\n",
       "    <tr>\n",
       "      <th>15</th>\n",
       "      <td>1.0</td>\n",
       "      <td>0</td>\n",
       "      <td>2795</td>\n",
       "      <td>2572.785106</td>\n",
       "      <td>2478.608522</td>\n",
       "      <td>3538.636888</td>\n",
       "      <td>3150.0</td>\n",
       "    </tr>\n",
       "  </tbody>\n",
       "</table>\n",
       "</div>"
      ],
      "text/plain": [
       "    bathrooms  bedrooms  price    lr_y_pred    dt_y_pred       y_mean  \\\n",
       "4         1.0         1   2400  2965.395744  3038.673625  3538.636888   \n",
       "6         1.0         2   3800  3358.006383  3202.066470  3538.636888   \n",
       "9         1.0         2   3495  3358.006383  3202.066470  3538.636888   \n",
       "10        1.5         3   3000  4681.307926  4100.918269  3538.636888   \n",
       "15        1.0         0   2795  2572.785106  2478.608522  3538.636888   \n",
       "\n",
       "    y_median  \n",
       "4     3150.0  \n",
       "6     3150.0  \n",
       "9     3150.0  \n",
       "10    3150.0  \n",
       "15    3150.0  "
      ]
     },
     "execution_count": 1024,
     "metadata": {},
     "output_type": "execute_result"
    }
   ],
   "source": [
    "df_train.head()"
   ]
  },
  {
   "cell_type": "code",
   "execution_count": 1025,
   "id": "56cf8060",
   "metadata": {},
   "outputs": [
    {
     "data": {
      "text/html": [
       "<div>\n",
       "<style scoped>\n",
       "    .dataframe tbody tr th:only-of-type {\n",
       "        vertical-align: middle;\n",
       "    }\n",
       "\n",
       "    .dataframe tbody tr th {\n",
       "        vertical-align: top;\n",
       "    }\n",
       "\n",
       "    .dataframe thead th {\n",
       "        text-align: right;\n",
       "    }\n",
       "</style>\n",
       "<table border=\"1\" class=\"dataframe\">\n",
       "  <thead>\n",
       "    <tr style=\"text-align: right;\">\n",
       "      <th></th>\n",
       "      <th>bathrooms</th>\n",
       "      <th>bedrooms</th>\n",
       "      <th>price</th>\n",
       "      <th>lr_y_pred</th>\n",
       "      <th>dt_y_pred</th>\n",
       "      <th>y_mean</th>\n",
       "      <th>y_median</th>\n",
       "    </tr>\n",
       "  </thead>\n",
       "  <tbody>\n",
       "    <tr>\n",
       "      <th>0</th>\n",
       "      <td>1.0</td>\n",
       "      <td>1</td>\n",
       "      <td>2950</td>\n",
       "      <td>2965.395744</td>\n",
       "      <td>3038.673625</td>\n",
       "      <td>3538.636888</td>\n",
       "      <td>3150.0</td>\n",
       "    </tr>\n",
       "    <tr>\n",
       "      <th>1</th>\n",
       "      <td>1.0</td>\n",
       "      <td>2</td>\n",
       "      <td>2850</td>\n",
       "      <td>3358.006383</td>\n",
       "      <td>3202.066470</td>\n",
       "      <td>3538.636888</td>\n",
       "      <td>3150.0</td>\n",
       "    </tr>\n",
       "    <tr>\n",
       "      <th>2</th>\n",
       "      <td>1.0</td>\n",
       "      <td>0</td>\n",
       "      <td>2295</td>\n",
       "      <td>2572.785106</td>\n",
       "      <td>2478.608522</td>\n",
       "      <td>3538.636888</td>\n",
       "      <td>3150.0</td>\n",
       "    </tr>\n",
       "    <tr>\n",
       "      <th>3</th>\n",
       "      <td>1.0</td>\n",
       "      <td>2</td>\n",
       "      <td>2900</td>\n",
       "      <td>3358.006383</td>\n",
       "      <td>3202.066470</td>\n",
       "      <td>3538.636888</td>\n",
       "      <td>3150.0</td>\n",
       "    </tr>\n",
       "    <tr>\n",
       "      <th>5</th>\n",
       "      <td>1.0</td>\n",
       "      <td>1</td>\n",
       "      <td>3254</td>\n",
       "      <td>2965.395744</td>\n",
       "      <td>3038.673625</td>\n",
       "      <td>3538.636888</td>\n",
       "      <td>3150.0</td>\n",
       "    </tr>\n",
       "  </tbody>\n",
       "</table>\n",
       "</div>"
      ],
      "text/plain": [
       "   bathrooms  bedrooms  price    lr_y_pred    dt_y_pred       y_mean  y_median\n",
       "0        1.0         1   2950  2965.395744  3038.673625  3538.636888    3150.0\n",
       "1        1.0         2   2850  3358.006383  3202.066470  3538.636888    3150.0\n",
       "2        1.0         0   2295  2572.785106  2478.608522  3538.636888    3150.0\n",
       "3        1.0         2   2900  3358.006383  3202.066470  3538.636888    3150.0\n",
       "5        1.0         1   3254  2965.395744  3038.673625  3538.636888    3150.0"
      ]
     },
     "execution_count": 1025,
     "metadata": {},
     "output_type": "execute_result"
    }
   ],
   "source": [
    "df_test.head()"
   ]
  },
  {
   "cell_type": "markdown",
   "id": "ccabde24",
   "metadata": {},
   "source": [
    "### Compare the results\n",
    "\n",
    "#### Print your final result_MAE and result_RMSE tables.\n",
    "#### Which is the best model?"
   ]
  },
  {
   "cell_type": "code",
   "execution_count": 1026,
   "id": "9b7cac73",
   "metadata": {},
   "outputs": [
    {
     "data": {
      "text/html": [
       "<div>\n",
       "<style scoped>\n",
       "    .dataframe tbody tr th:only-of-type {\n",
       "        vertical-align: middle;\n",
       "    }\n",
       "\n",
       "    .dataframe tbody tr th {\n",
       "        vertical-align: top;\n",
       "    }\n",
       "\n",
       "    .dataframe thead th {\n",
       "        text-align: right;\n",
       "    }\n",
       "</style>\n",
       "<table border=\"1\" class=\"dataframe\">\n",
       "  <thead>\n",
       "    <tr style=\"text-align: right;\">\n",
       "      <th></th>\n",
       "      <th>model</th>\n",
       "      <th>train</th>\n",
       "      <th>test</th>\n",
       "    </tr>\n",
       "  </thead>\n",
       "  <tbody>\n",
       "    <tr>\n",
       "      <th>0</th>\n",
       "      <td>linear_regression</td>\n",
       "      <td>784.563837</td>\n",
       "      <td>790.478922</td>\n",
       "    </tr>\n",
       "    <tr>\n",
       "      <th>1</th>\n",
       "      <td>decision_tree</td>\n",
       "      <td>756.044735</td>\n",
       "      <td>759.294165</td>\n",
       "    </tr>\n",
       "    <tr>\n",
       "      <th>2</th>\n",
       "      <td>naive_mean</td>\n",
       "      <td>1139.192515</td>\n",
       "      <td>1137.339895</td>\n",
       "    </tr>\n",
       "    <tr>\n",
       "      <th>3</th>\n",
       "      <td>naive_median</td>\n",
       "      <td>1086.210505</td>\n",
       "      <td>1084.274571</td>\n",
       "    </tr>\n",
       "  </tbody>\n",
       "</table>\n",
       "</div>"
      ],
      "text/plain": [
       "               model        train         test\n",
       "0  linear_regression   784.563837   790.478922\n",
       "1      decision_tree   756.044735   759.294165\n",
       "2         naive_mean  1139.192515  1137.339895\n",
       "3       naive_median  1086.210505  1084.274571"
      ]
     },
     "execution_count": 1026,
     "metadata": {},
     "output_type": "execute_result"
    }
   ],
   "source": [
    "result_MAE"
   ]
  },
  {
   "cell_type": "code",
   "execution_count": 1027,
   "id": "369089c4",
   "metadata": {},
   "outputs": [
    {
     "data": {
      "text/html": [
       "<div>\n",
       "<style scoped>\n",
       "    .dataframe tbody tr th:only-of-type {\n",
       "        vertical-align: middle;\n",
       "    }\n",
       "\n",
       "    .dataframe tbody tr th {\n",
       "        vertical-align: top;\n",
       "    }\n",
       "\n",
       "    .dataframe thead th {\n",
       "        text-align: right;\n",
       "    }\n",
       "</style>\n",
       "<table border=\"1\" class=\"dataframe\">\n",
       "  <thead>\n",
       "    <tr style=\"text-align: right;\">\n",
       "      <th></th>\n",
       "      <th>model</th>\n",
       "      <th>train</th>\n",
       "      <th>test</th>\n",
       "    </tr>\n",
       "  </thead>\n",
       "  <tbody>\n",
       "    <tr>\n",
       "      <th>0</th>\n",
       "      <td>linear_regression</td>\n",
       "      <td>1123.877748</td>\n",
       "      <td>1368.570772</td>\n",
       "    </tr>\n",
       "    <tr>\n",
       "      <th>1</th>\n",
       "      <td>decision_tree</td>\n",
       "      <td>1077.483596</td>\n",
       "      <td>1081.050194</td>\n",
       "    </tr>\n",
       "    <tr>\n",
       "      <th>2</th>\n",
       "      <td>naive_mean</td>\n",
       "      <td>1597.646655</td>\n",
       "      <td>1590.102981</td>\n",
       "    </tr>\n",
       "    <tr>\n",
       "      <th>3</th>\n",
       "      <td>naive_median</td>\n",
       "      <td>1644.236439</td>\n",
       "      <td>1635.375966</td>\n",
       "    </tr>\n",
       "  </tbody>\n",
       "</table>\n",
       "</div>"
      ],
      "text/plain": [
       "               model        train         test\n",
       "0  linear_regression  1123.877748  1368.570772\n",
       "1      decision_tree  1077.483596  1081.050194\n",
       "2         naive_mean  1597.646655  1590.102981\n",
       "3       naive_median  1644.236439  1635.375966"
      ]
     },
     "execution_count": 1027,
     "metadata": {},
     "output_type": "execute_result"
    }
   ],
   "source": [
    "result_RMSE"
   ]
  },
  {
   "cell_type": "markdown",
   "id": "ccb1ad71",
   "metadata": {},
   "source": [
    "Лучшая модель — Decision Tree Regressor с показателями RMSE 1077.5 и 1081.1, а также MAE 756.0 и 759.3 на тренировочной и тестовой выборках соответственно.\n",
    "\n",
    "Немного хуже себя показала модель линейной регрессии: RMSE 1123.9 и 1368.6, MAE 784.6 и 790.5.\n",
    "\n",
    "Но обе ML-модели показали лучшие результаты относительно наивных моделей (mean/median): ошибки по MAE и RMSE оказались примерно в 1.5 раза ниже на тестовой выборке."
   ]
  },
  {
   "cell_type": "markdown",
   "id": "8f5f4d27",
   "metadata": {},
   "source": [
    "### Additional\n",
    "\n",
    "#### You can practice with all the data in your starting dataset. Use and generate all the features you want."
   ]
  },
  {
   "cell_type": "code",
   "execution_count": 1028,
   "id": "4e7441f6",
   "metadata": {},
   "outputs": [],
   "source": [
    "dt_model_poly = DecisionTreeRegressor()\n",
    "dt_model_poly.fit(X_train_poly,df_train['price'])\n",
    "df_train['y_pred_dt_poly']=dt_model_poly.predict(X_train_poly)\n",
    "df_test['y_pred_dt_poly']=dt_model_poly.predict(X_test_poly)\n"
   ]
  },
  {
   "cell_type": "code",
   "execution_count": 1029,
   "id": "c69bbfdd",
   "metadata": {},
   "outputs": [
    {
     "name": "stdout",
     "output_type": "stream",
     "text": [
      "dt_poly\n",
      "RMSE test: 1081.313907,RMSE train: 1077.483596,\n",
      " MAE test: 759.345053,MAE train: 756.044735\n"
     ]
    }
   ],
   "source": [
    "add_metrics('dt_poly',df_train['price'],df_test['price'],df_train['y_pred_dt_poly'],df_test['y_pred_dt_poly'])"
   ]
  },
  {
   "cell_type": "code",
   "execution_count": 1030,
   "id": "56fdd1d5",
   "metadata": {},
   "outputs": [
    {
     "data": {
      "text/html": [
       "<div>\n",
       "<style scoped>\n",
       "    .dataframe tbody tr th:only-of-type {\n",
       "        vertical-align: middle;\n",
       "    }\n",
       "\n",
       "    .dataframe tbody tr th {\n",
       "        vertical-align: top;\n",
       "    }\n",
       "\n",
       "    .dataframe thead th {\n",
       "        text-align: right;\n",
       "    }\n",
       "</style>\n",
       "<table border=\"1\" class=\"dataframe\">\n",
       "  <thead>\n",
       "    <tr style=\"text-align: right;\">\n",
       "      <th></th>\n",
       "      <th>bathrooms</th>\n",
       "      <th>bedrooms</th>\n",
       "      <th>price</th>\n",
       "      <th>lr_y_pred</th>\n",
       "      <th>dt_y_pred</th>\n",
       "      <th>y_mean</th>\n",
       "      <th>y_median</th>\n",
       "      <th>y_pred_dt_poly</th>\n",
       "    </tr>\n",
       "  </thead>\n",
       "  <tbody>\n",
       "    <tr>\n",
       "      <th>0</th>\n",
       "      <td>1.0</td>\n",
       "      <td>1</td>\n",
       "      <td>2950</td>\n",
       "      <td>2965.395744</td>\n",
       "      <td>3038.673625</td>\n",
       "      <td>3538.636888</td>\n",
       "      <td>3150.0</td>\n",
       "      <td>3038.673625</td>\n",
       "    </tr>\n",
       "    <tr>\n",
       "      <th>1</th>\n",
       "      <td>1.0</td>\n",
       "      <td>2</td>\n",
       "      <td>2850</td>\n",
       "      <td>3358.006383</td>\n",
       "      <td>3202.066470</td>\n",
       "      <td>3538.636888</td>\n",
       "      <td>3150.0</td>\n",
       "      <td>3202.066470</td>\n",
       "    </tr>\n",
       "    <tr>\n",
       "      <th>2</th>\n",
       "      <td>1.0</td>\n",
       "      <td>0</td>\n",
       "      <td>2295</td>\n",
       "      <td>2572.785106</td>\n",
       "      <td>2478.608522</td>\n",
       "      <td>3538.636888</td>\n",
       "      <td>3150.0</td>\n",
       "      <td>2478.608522</td>\n",
       "    </tr>\n",
       "    <tr>\n",
       "      <th>3</th>\n",
       "      <td>1.0</td>\n",
       "      <td>2</td>\n",
       "      <td>2900</td>\n",
       "      <td>3358.006383</td>\n",
       "      <td>3202.066470</td>\n",
       "      <td>3538.636888</td>\n",
       "      <td>3150.0</td>\n",
       "      <td>3202.066470</td>\n",
       "    </tr>\n",
       "    <tr>\n",
       "      <th>5</th>\n",
       "      <td>1.0</td>\n",
       "      <td>1</td>\n",
       "      <td>3254</td>\n",
       "      <td>2965.395744</td>\n",
       "      <td>3038.673625</td>\n",
       "      <td>3538.636888</td>\n",
       "      <td>3150.0</td>\n",
       "      <td>3038.673625</td>\n",
       "    </tr>\n",
       "    <tr>\n",
       "      <th>...</th>\n",
       "      <td>...</td>\n",
       "      <td>...</td>\n",
       "      <td>...</td>\n",
       "      <td>...</td>\n",
       "      <td>...</td>\n",
       "      <td>...</td>\n",
       "      <td>...</td>\n",
       "      <td>...</td>\n",
       "    </tr>\n",
       "    <tr>\n",
       "      <th>124003</th>\n",
       "      <td>1.0</td>\n",
       "      <td>1</td>\n",
       "      <td>1700</td>\n",
       "      <td>2965.395744</td>\n",
       "      <td>3038.673625</td>\n",
       "      <td>3538.636888</td>\n",
       "      <td>3150.0</td>\n",
       "      <td>3038.673625</td>\n",
       "    </tr>\n",
       "    <tr>\n",
       "      <th>124005</th>\n",
       "      <td>1.0</td>\n",
       "      <td>2</td>\n",
       "      <td>4195</td>\n",
       "      <td>3358.006383</td>\n",
       "      <td>3202.066470</td>\n",
       "      <td>3538.636888</td>\n",
       "      <td>3150.0</td>\n",
       "      <td>3202.066470</td>\n",
       "    </tr>\n",
       "    <tr>\n",
       "      <th>124006</th>\n",
       "      <td>1.0</td>\n",
       "      <td>0</td>\n",
       "      <td>2400</td>\n",
       "      <td>2572.785106</td>\n",
       "      <td>2478.608522</td>\n",
       "      <td>3538.636888</td>\n",
       "      <td>3150.0</td>\n",
       "      <td>2478.608522</td>\n",
       "    </tr>\n",
       "    <tr>\n",
       "      <th>124007</th>\n",
       "      <td>2.0</td>\n",
       "      <td>2</td>\n",
       "      <td>6895</td>\n",
       "      <td>5219.388193</td>\n",
       "      <td>5404.020871</td>\n",
       "      <td>3538.636888</td>\n",
       "      <td>3150.0</td>\n",
       "      <td>5404.020871</td>\n",
       "    </tr>\n",
       "    <tr>\n",
       "      <th>124010</th>\n",
       "      <td>1.0</td>\n",
       "      <td>3</td>\n",
       "      <td>4695</td>\n",
       "      <td>3750.617021</td>\n",
       "      <td>3885.496377</td>\n",
       "      <td>3538.636888</td>\n",
       "      <td>3150.0</td>\n",
       "      <td>3885.496377</td>\n",
       "    </tr>\n",
       "  </tbody>\n",
       "</table>\n",
       "<p>73216 rows × 8 columns</p>\n",
       "</div>"
      ],
      "text/plain": [
       "        bathrooms  bedrooms  price    lr_y_pred    dt_y_pred       y_mean  \\\n",
       "0             1.0         1   2950  2965.395744  3038.673625  3538.636888   \n",
       "1             1.0         2   2850  3358.006383  3202.066470  3538.636888   \n",
       "2             1.0         0   2295  2572.785106  2478.608522  3538.636888   \n",
       "3             1.0         2   2900  3358.006383  3202.066470  3538.636888   \n",
       "5             1.0         1   3254  2965.395744  3038.673625  3538.636888   \n",
       "...           ...       ...    ...          ...          ...          ...   \n",
       "124003        1.0         1   1700  2965.395744  3038.673625  3538.636888   \n",
       "124005        1.0         2   4195  3358.006383  3202.066470  3538.636888   \n",
       "124006        1.0         0   2400  2572.785106  2478.608522  3538.636888   \n",
       "124007        2.0         2   6895  5219.388193  5404.020871  3538.636888   \n",
       "124010        1.0         3   4695  3750.617021  3885.496377  3538.636888   \n",
       "\n",
       "        y_median  y_pred_dt_poly  \n",
       "0         3150.0     3038.673625  \n",
       "1         3150.0     3202.066470  \n",
       "2         3150.0     2478.608522  \n",
       "3         3150.0     3202.066470  \n",
       "5         3150.0     3038.673625  \n",
       "...          ...             ...  \n",
       "124003    3150.0     3038.673625  \n",
       "124005    3150.0     3202.066470  \n",
       "124006    3150.0     2478.608522  \n",
       "124007    3150.0     5404.020871  \n",
       "124010    3150.0     3885.496377  \n",
       "\n",
       "[73216 rows x 8 columns]"
      ]
     },
     "execution_count": 1030,
     "metadata": {},
     "output_type": "execute_result"
    }
   ],
   "source": [
    "df_test"
   ]
  },
  {
   "cell_type": "code",
   "execution_count": 1031,
   "id": "2220bdb6",
   "metadata": {},
   "outputs": [
    {
     "data": {
      "text/html": [
       "<div>\n",
       "<style scoped>\n",
       "    .dataframe tbody tr th:only-of-type {\n",
       "        vertical-align: middle;\n",
       "    }\n",
       "\n",
       "    .dataframe tbody tr th {\n",
       "        vertical-align: top;\n",
       "    }\n",
       "\n",
       "    .dataframe thead th {\n",
       "        text-align: right;\n",
       "    }\n",
       "</style>\n",
       "<table border=\"1\" class=\"dataframe\">\n",
       "  <thead>\n",
       "    <tr style=\"text-align: right;\">\n",
       "      <th></th>\n",
       "      <th>model</th>\n",
       "      <th>train</th>\n",
       "      <th>test</th>\n",
       "    </tr>\n",
       "  </thead>\n",
       "  <tbody>\n",
       "    <tr>\n",
       "      <th>0</th>\n",
       "      <td>linear_regression</td>\n",
       "      <td>784.563837</td>\n",
       "      <td>790.478922</td>\n",
       "    </tr>\n",
       "    <tr>\n",
       "      <th>1</th>\n",
       "      <td>decision_tree</td>\n",
       "      <td>756.044735</td>\n",
       "      <td>759.294165</td>\n",
       "    </tr>\n",
       "    <tr>\n",
       "      <th>2</th>\n",
       "      <td>naive_mean</td>\n",
       "      <td>1139.192515</td>\n",
       "      <td>1137.339895</td>\n",
       "    </tr>\n",
       "    <tr>\n",
       "      <th>3</th>\n",
       "      <td>naive_median</td>\n",
       "      <td>1086.210505</td>\n",
       "      <td>1084.274571</td>\n",
       "    </tr>\n",
       "    <tr>\n",
       "      <th>4</th>\n",
       "      <td>dt_poly</td>\n",
       "      <td>756.044735</td>\n",
       "      <td>759.345053</td>\n",
       "    </tr>\n",
       "  </tbody>\n",
       "</table>\n",
       "</div>"
      ],
      "text/plain": [
       "               model        train         test\n",
       "0  linear_regression   784.563837   790.478922\n",
       "1      decision_tree   756.044735   759.294165\n",
       "2         naive_mean  1139.192515  1137.339895\n",
       "3       naive_median  1086.210505  1084.274571\n",
       "4            dt_poly   756.044735   759.345053"
      ]
     },
     "execution_count": 1031,
     "metadata": {},
     "output_type": "execute_result"
    }
   ],
   "source": [
    "result_MAE"
   ]
  },
  {
   "cell_type": "code",
   "execution_count": 1032,
   "id": "55e450dc",
   "metadata": {},
   "outputs": [
    {
     "data": {
      "text/html": [
       "<div>\n",
       "<style scoped>\n",
       "    .dataframe tbody tr th:only-of-type {\n",
       "        vertical-align: middle;\n",
       "    }\n",
       "\n",
       "    .dataframe tbody tr th {\n",
       "        vertical-align: top;\n",
       "    }\n",
       "\n",
       "    .dataframe thead th {\n",
       "        text-align: right;\n",
       "    }\n",
       "</style>\n",
       "<table border=\"1\" class=\"dataframe\">\n",
       "  <thead>\n",
       "    <tr style=\"text-align: right;\">\n",
       "      <th></th>\n",
       "      <th>model</th>\n",
       "      <th>train</th>\n",
       "      <th>test</th>\n",
       "    </tr>\n",
       "  </thead>\n",
       "  <tbody>\n",
       "    <tr>\n",
       "      <th>0</th>\n",
       "      <td>linear_regression</td>\n",
       "      <td>1123.877748</td>\n",
       "      <td>1368.570772</td>\n",
       "    </tr>\n",
       "    <tr>\n",
       "      <th>1</th>\n",
       "      <td>decision_tree</td>\n",
       "      <td>1077.483596</td>\n",
       "      <td>1081.050194</td>\n",
       "    </tr>\n",
       "    <tr>\n",
       "      <th>2</th>\n",
       "      <td>naive_mean</td>\n",
       "      <td>1597.646655</td>\n",
       "      <td>1590.102981</td>\n",
       "    </tr>\n",
       "    <tr>\n",
       "      <th>3</th>\n",
       "      <td>naive_median</td>\n",
       "      <td>1644.236439</td>\n",
       "      <td>1635.375966</td>\n",
       "    </tr>\n",
       "    <tr>\n",
       "      <th>4</th>\n",
       "      <td>dt_poly</td>\n",
       "      <td>1077.483596</td>\n",
       "      <td>1081.313907</td>\n",
       "    </tr>\n",
       "  </tbody>\n",
       "</table>\n",
       "</div>"
      ],
      "text/plain": [
       "               model        train         test\n",
       "0  linear_regression  1123.877748  1368.570772\n",
       "1      decision_tree  1077.483596  1081.050194\n",
       "2         naive_mean  1597.646655  1590.102981\n",
       "3       naive_median  1644.236439  1635.375966\n",
       "4            dt_poly  1077.483596  1081.313907"
      ]
     },
     "execution_count": 1032,
     "metadata": {},
     "output_type": "execute_result"
    }
   ],
   "source": [
    "result_RMSE"
   ]
  },
  {
   "cell_type": "markdown",
   "id": "5cf5bb47",
   "metadata": {},
   "source": [
    "После использования PolynomialFeatures(10) для дерева решений\n",
    "\n",
    "RMSE уменьшилось на 0.06842, MAE уменьшилось на 0.01081 на тестовых выборках, а на тренировочных значения не изменились\n"
   ]
  }
 ],
 "metadata": {
  "kernelspec": {
   "display_name": "Python 3",
   "language": "python",
   "name": "python3"
  },
  "language_info": {
   "codemirror_mode": {
    "name": "ipython",
    "version": 3
   },
   "file_extension": ".py",
   "mimetype": "text/x-python",
   "name": "python",
   "nbconvert_exporter": "python",
   "pygments_lexer": "ipython3",
   "version": "3.13.3"
  }
 },
 "nbformat": 4,
 "nbformat_minor": 5
}
