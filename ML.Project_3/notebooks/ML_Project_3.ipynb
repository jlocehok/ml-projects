{
 "cells": [
  {
   "cell_type": "markdown",
   "id": "05612306",
   "metadata": {},
   "source": [
    "## 1. Answer the questions from the introduction\n",
    "### 1.1 What is leave-one-out? Provide limitations and strengths.\n"
   ]
  },
  {
   "cell_type": "markdown",
   "id": "389bb90d",
   "metadata": {},
   "source": [
    "#### Leave-One-Out (LOO) — кросс-валидация, где на каждом шаге один объект берётся как тестовый, а остальные $n−1$  как обучающая выборка\n",
    "\n",
    "#### Плюсы:\n",
    "•почти все данные участвуют в обучении → низкое смещение оценки;\n",
    "\n",
    "•разбиение однозначное (без рандома).\n",
    "\n",
    "#### Минусы:\n",
    "\n",
    "•нужно обучить модель $n$ раз → дорого для тяжёлых моделей;\n",
    "\n",
    "•высокая дисперсия оценки и чувствительность к выбросам (в каждом фолде всего 1 тестовый объект);\n",
    "\n",
    "•неприменимо к не IID(независимые и одинаково распределённые) данным (временные ряды, группы) — будет утечка.\n",
    "\n",
    "#### Когда уместно: очень маленькие датасеты и/или быстрые модели (линейная/логистическая регрессия)."
   ]
  },
  {
   "cell_type": "markdown",
   "id": "6b560955",
   "metadata": {},
   "source": [
    "### 1.2 How do Grid Search, Randomized Grid Search, and Bayesian optimization work?\n",
    "#### Grid Search - строгий перебор всех комбинаций гиперпараметров из заранее заданной сетки с оценкой качества по выбранной схеме кросс-валидации.\n",
    "##### Плюсы: гарантированно находит лучшее внутри сетки, прозрачен.\n",
    "##### Минусы: вычислительно дорог при больших сетках и «тяжёлых» моделях, не исследует значения между узлами сетки, чувствителен к грубо заданной сетке.\n",
    "\n",
    "\n",
    "#### Randomized Search - вместо фиксированной сетки задаются распределения/диапазоны параметров; выбирается ровно n_iter случайных комбинаций и оценивается их качество.\n",
    "##### Плюсы: \n",
    "•лучше масштабируется на больших пространствах\n",
    "\n",
    "•позволяет контролировать бюджет вычислений \n",
    "\n",
    "•часто достигает сопоставимого качества быстрее, чем полный перебор\n",
    "\n",
    "##### Минусы: \n",
    "•нет гарантии абсолютного оптимума \n",
    "\n",
    "•результат зависит от корректного выбора распределений (для «масштабных» параметров — лог-распределения).\n",
    "\n",
    "#### Bayesian optimization - моделирует зависимость «гиперпараметры → метрика» по уже полученным результатам и целенаправленно выбирает следующую точку там, где ожидается улучшение (через функцию выбора/приобретения).\n",
    "##### Плюсы: \n",
    "\n",
    "•требует меньше запусков модели, быстрее выходит в «хорошие» области\n",
    "\n",
    "•особенно полезна для дорогих («тяжёлых») моделей.\n",
    "##### Минусы:\n",
    "\n",
    "•более сложная настройка и контроль\n",
    "\n",
    "•выигрыш снижается на сильно дискретных пространствах и при очень высокой размерности.\n"
   ]
  },
  {
   "cell_type": "markdown",
   "id": "58ba93d2",
   "metadata": {},
   "source": [
    "### 1.3 Explain classification of feature selection methods. Explain how Pearson and Chi2 work. Explain how Lasso works. Explain what permutation significance is. Become familiar with SHAP."
   ]
  },
  {
   "cell_type": "markdown",
   "id": "9172999b",
   "metadata": {},
   "source": [
    "![Feature selection methods](../images/feature_selection_methods.png)"
   ]
  },
  {
   "cell_type": "markdown",
   "id": "2cc7fa25",
   "metadata": {},
   "source": [
    "#### Unsupervised methods  - методы отбора признаков в которых не используется целевой вектор\n",
    "##### Удаление неполных признаков  - признаков с определенным долей NaN значений.\n",
    "##### Удаление признаков с высокой мультиколлинеарностью - если признак можно (приблизительно) выразить линейной комбинацией других или он сильно с ними коррелирует, его можно удалить как избыточный. Дубликаты признаков — частный случай мультиколлинеарности (полная линейная зависимость).\n",
    "##### Удаление признаков с низкой или нулевой дисперсией - если дисперсия признака ~ 0, то признак константа/квазиконстанта и не несет в себе информации о изменении целевого столбца"
   ]
  },
  {
   "cell_type": "markdown",
   "id": "5ece3469",
   "metadata": {},
   "source": [
    "\n",
    "\n",
    "#### Supervised methods — методы отбора признаков, в которых используется целевой вектор $y$\n",
    "\n",
    "#### Wrappers — отбор подмножеств признаков через многократное обучение модели и оценку метрики; выбирается лучшее подмножество по CV/валидации.\n",
    "\n",
    "##### Forward selection (прямой пошаговый отбор)\n",
    "\n",
    "Старт: **пустое** множество признаков.\n",
    "Шаг: по очереди **добавляем** тот признак, который даёт наибольшее улучшение метрики при добавлении к текущему набору.\n",
    "Стоп: достигли нужного числа признаков / улучшение перестало быть значимым / сработал критерий остановки.\n",
    "\n",
    "##### Backward elimination (обратный пошаговый отбор)\n",
    "\n",
    "Старт: **все** признаки.\n",
    "Шаг: по очереди **удаляем** наименее полезный признак (по метрике/критерию), переобучаем модель и проверяем метрику.\n",
    "Стоп: осталась нужная мощность набора / дальнейшее удаление ухудшает качество.\n",
    "\n",
    "##### Recursive Feature Elimination (RFE)\n",
    "\n",
    "Старт: полный набор признаков.\n",
    "Шаг: обучаем модель, **ранжируем** признаки по «вкладу» (для линейных — по |weights| после нормализации, для деревьев/бустинга — `feature_importance`). **Удаляем** самый слабый (или группу слабых) и повторяем.\n",
    "Стоп: когда осталось нужное число признаков. Вариант **RFECV** подбирает это число по кросс-валидации автоматически.\n",
    "\n",
    "**Замечания к wrapper-подходам:**\n",
    "\n",
    "* Требуют **много обучений** (дорого при больших $p$).\n",
    "* Чувствительны к **коррелированным** признакам (выбор «лучшего» из схожих может быть нестабилен).\n",
    "* Делать **внутри CV/Pipeline**, чтобы не получить утечку (selection выполняется на каждом фолде отдельно).\n"
   ]
  },
  {
   "cell_type": "markdown",
   "id": "bcc8bf5b",
   "metadata": {},
   "source": [
    "#### Filters — методы отбора признаков до обучения модели, оценивают связь каждого признака с целевым вектором по отдельности (univariate)\n",
    "##### Pearson’s r - Оценивает силу линейной связи между числовым признаком и числовой целью; значение в [-1,1]: -1 сильная отрицательная связь, +1 - сильная положительная , 0 линейной связи нет.\n",
    "##### Когда применять: регрессия (y — числовой). Для бинарной цели допустим как point-biserial (эквивалент Пирсона при 𝑦 ∈{0,1})\n",
    "##### Ограничения: чувствителен к выбросам; не ловит нелинейные связи (для монотонных — лучше Spearman).\n",
    "##### Практика отбора: сортировать признаки по  ∣r∣ и брать топ-k (или порог по ∣r∣); считать на train внутри CV/Pipeline, чтобы не было утечки.\n",
    "$$\n",
    "r = \\frac{\\sum_{i=1}^{n} (x_i - \\bar{x})(y_i - \\bar{y})}\n",
    "{\\sqrt{\\sum_{i=1}^{n} (x_i - \\bar{x})^2 \\;\\sum_{i=1}^{n} (y_i - \\bar{y})^2}} = \\frac{\\operatorname{cov}(X,Y)}{s_X\\, s_Y}\n",
    "$$\n"
   ]
  },
  {
   "cell_type": "markdown",
   "id": "069cc5d4",
   "metadata": {},
   "source": [
    "#### Chi-square (χ²) - тест на независимость между двумя категориальными переменными по таблице сопряжённости. В отборе признаков используется для проверки связи между категориальным (или дискретизированным/one-hot) признаком и категориальной целевой переменной: признаки с большим χ² (и маленьким p-value) считаются более информативными, работает для категориального y -  для регрессии (непрерывный y) не применим. Не показывает \"силу\" связи - только начиличие или отсутсвие, Желательны достаточные ожидаемые частоты в ячейках ((обычное правило ≥5))\n",
    "\n",
    "#### Chi-square (χ²): формула и обозначения\n",
    "\n",
    "$$\n",
    "\\chi^2 \\;=\\; \\sum_{i=1}^{R}\\sum_{j=1}^{C}\n",
    "\\frac{(O_{ij} - E_{ij})^2}{E_{ij}}\n",
    "$$\n",
    "|                     | B1                  | B2                  | … | Итого (строка) |\n",
    "| ------------------- | ------------------- | ------------------- | - | -------------- |\n",
    "| A1                  | $O_{11}$ ($E_{11}$) | $O_{12}$ ($E_{12}$) | … | $r_1$          |\n",
    "| A2                  | $O_{21}$ ($E_{21}$) | $O_{22}$ ($E_{22}$) | … | $r_2$          |\n",
    "| …                   | …                   | …                   | … | …              |\n",
    "| **Итого (столбец)** | $c_1$               | $c_2$               | … | $n$            |\n",
    "\n",
    "где\n",
    "\n",
    "- $O_{ij}$ — наблюдаемое число объектов в ячейке \\((i,j)\\) таблицы сопряжённости,\n",
    "- $E_{ij}$ — ожидаемое число при независимости признаков:\n",
    "  $E_{ij}=\\frac{(\\text{итог по строке } r)\\cdot(\\text{итог по столбцу } c)}{n}$\n",
    "- $R, C$ — число строк и столбцов таблицы,\n",
    "- $n$ — общий объём выборки.\n",
    "\n",
    "Степени свободы: $(R-1)(C-1)$\n",
    "Критерий: большое $\\chi^2$ (и малое $p$-value по распределению $chi^2$ ⇒ отвергаем $H_0$ о независимости.\n",
    "Условие применимости: ожидаемые частоты $E_{ij}$ обычно $ ≥5$.\n"
   ]
  },
  {
   "cell_type": "markdown",
   "id": "5a430381",
   "metadata": {},
   "source": [
    "#### Embedded — встроенные методы отбора (модель сама обнуляет/сжимает веса) Примеры: Lasso (L1), ElasticNet (L1+L2), деревья/бустинг (важности признаков). Ridge (L2) — сжимает веса, но обычно не делает их ровно нулём.\n",
    "L1-регуляризация (Lasso) добавляет к функции потерь штраф в виде суммы модулей весов:\n",
    "$$L_{\\text{Lasso}}(w) = \\|(Xw-y)\\|^2 + \\lambda ||w||_1  $$\n",
    "Алгоритм выбирает Lasso оставить слабый признак и заплатить штраф или занулить вес и $\\lambda||w|_1|$.\n",
    "Если признак не коррелирует с таргетом → модель не может использовать его для предсказания\n",
    "\n",
    "Значит, изменение ошибки $\\|(Xw-y)\\|^2$ при его включении почти нулевое\n",
    "\n",
    "Тогда штраф $\\lambda||w|_1|$ становится доминирующим, и признак зануляется\n",
    "\n",
    "Другими если снижение ошибки $\\|(Xw-y)\\|^2$ от признака меньше  , чем штраф чем штраф за его вес $\\lambda||w|_1|$, то алгоритм зануляет вес признака\n",
    "\n",
    "### Вывод:\n",
    "Если признак плохо влияет на предсказание (например, слабо коррелирует с таргетом), то добавление его веса мало влияет на ошибку, но увеличивает штраф. Алгоритм Lasso решает, что выгоднее обнулить вес, чем держать слабый признак, и таким образом автоматически выполняет отбор признаков.\n",
    "\n",
    "\n",
    "С геометрической точки зрения, L1-норма образует ромбовидные области уровня с острыми углами на осях. Минимум функции часто \"прилипает\" к этим углам — то есть к точкам, где один или несколько весов точно равны нулю.\n",
    "\n",
    "В результате модель становится разреженной, проще для интерпретации и менее подверженной переобучению.\n"
   ]
  },
  {
   "cell_type": "markdown",
   "id": "ce99498d",
   "metadata": {},
   "source": [
    "#### Permutation significance(importance) — оценка важности признака через перестановки \n",
    "\n",
    "Модель фиксируем (не дообучаем). На валидации/тесте перемешиваем значения одного признака, разрушая его связь с целью, и считаем, насколько падает метрика относительно базовой. Большое падение ⇒ признак важный.\n",
    "\n",
    "Обучаем модель на train.\n",
    "\n",
    "Считаем базовую метрику на валидации/тесте: score_base.\n",
    "\n",
    "Для каждого признака j: перемешиваем его столбец (остальные оставляем как есть), считаем score_perm(j).\n",
    "\n",
    "Важность: $Δ_j = score_{base} - score_{perm(j)}$. Усредняем по нескольким перестановкам."
   ]
  },
  {
   "cell_type": "markdown",
   "id": "36cb139b",
   "metadata": {},
   "source": [
    "### 2 Introduction — do all the preprocessing from the previous lesson\n",
    "\n",
    "#### 2.1 Read all the data.\n",
    "#### 2.2 Preprocess the \"Interest Level\" feature.\n",
    "#### 2.3 Create features:  'Elevator', 'HardwoodFloors', 'CatsAllowed', 'DogsAllowed', 'Doorman', 'Dishwasher', 'NoFee', 'LaundryinBuilding', 'FitnessCenter', 'Pre-War', 'LaundryinUnit', 'RoofDeck', 'OutdoorSpace', 'DiningRoom', 'HighSpeedInternet', 'Balcony', 'SwimmingPool', 'LaundryInBuilding', 'NewConstruction', 'Terrace'."
   ]
  },
  {
   "cell_type": "code",
   "execution_count": 128,
   "id": "b0341be4",
   "metadata": {},
   "outputs": [],
   "source": [
    "import pandas as pd\n",
    "import numpy as np\n",
    "from typing import Sequence\n",
    "import warnings, re\n",
    "from sklearn.model_selection import KFold, GroupKFold, StratifiedKFold, TimeSeriesSplit\n",
    "from sklearn.preprocessing import StandardScaler, MinMaxScaler\n",
    "from sklearn.linear_model import Lasso, ElasticNet\n",
    "from sklearn.metrics import mean_absolute_error,root_mean_squared_error,r2_score\n",
    "import shap\n",
    "import optuna\n",
    "from sklearn.pipeline import Pipeline\n",
    "\n",
    "\n",
    "warnings.filterwarnings('ignore')"
   ]
  },
  {
   "cell_type": "code",
   "execution_count": 129,
   "id": "3eb58a94",
   "metadata": {},
   "outputs": [],
   "source": [
    "df_train = pd.read_json('data/train.json')\n",
    "df_test = pd.read_json('data/test.json')\n"
   ]
  },
  {
   "cell_type": "code",
   "execution_count": 130,
   "id": "0d041b9f",
   "metadata": {},
   "outputs": [],
   "source": [
    "low_train = df_train['price'].quantile(0.01)\n",
    "high_train = df_train['price'].quantile(0.99)\n",
    "\n",
    "df_train=df_train[(df_train['price']>low_train)&(df_train['price']<high_train)]\n",
    "df_test=df_test[(df_test['price']>low_train)&(df_test['price']<high_train)]\n",
    "\n",
    "\n",
    "df_train['interest_level']=df_train['interest_level'].map({'low':1,'medium':2,'high':3})\n",
    "\n"
   ]
  },
  {
   "cell_type": "code",
   "execution_count": 131,
   "id": "946b27b5",
   "metadata": {},
   "outputs": [],
   "source": [
    "df_train['features']=df_train['features'].apply(lambda features: [re.sub(f'[\\]\\]\\[\\'\\\"\\s]','',feature) for feature in features])\n",
    "df_test['features']=df_test['features'].apply(lambda features: [re.sub(f'[\\]\\]\\[\\'\\\"\\s]','',feature) for feature in features])"
   ]
  },
  {
   "cell_type": "code",
   "execution_count": 132,
   "id": "cbe27c02",
   "metadata": {},
   "outputs": [],
   "source": [
    "top20_features = ['Elevator', 'HardwoodFloors', 'CatsAllowed', 'DogsAllowed', 'Doorman',\n",
    "                 'Dishwasher', 'NoFee', 'LaundryinBuilding', 'FitnessCenter', 'Pre-War',\n",
    "                'LaundryinUnit', 'RoofDeck', 'OutdoorSpace', 'DiningRoom', 'HighSpeedInternet',\n",
    "                 'Balcony', 'SwimmingPool', 'LaundryInBuilding', 'NewConstruction', 'Terrace']"
   ]
  },
  {
   "cell_type": "code",
   "execution_count": 133,
   "id": "ac57fe1c",
   "metadata": {},
   "outputs": [],
   "source": [
    "for feature_name in top20_features:\n",
    "    df_train[feature_name] = df_train['features'].apply(lambda x: int(feature_name in x))\n",
    "    df_test[feature_name] = df_test['features'].apply(lambda x: int(feature_name in x))"
   ]
  },
  {
   "cell_type": "code",
   "execution_count": 134,
   "id": "a02dc604",
   "metadata": {},
   "outputs": [],
   "source": [
    "feature_list = top20_features + ['bathrooms'] + ['bedrooms'] + ['created'] "
   ]
  },
  {
   "cell_type": "code",
   "execution_count": 135,
   "id": "c13f4f76",
   "metadata": {},
   "outputs": [],
   "source": [
    "X_train = df_train[[f for f in feature_list+['interest_level']]]\n",
    "y_train = df_train['price']\n",
    "X_test = df_test[[f for f in feature_list]]\n",
    "y_test = df_test['price']\n"
   ]
  },
  {
   "cell_type": "markdown",
   "id": "53651f36",
   "metadata": {},
   "source": [
    "#### 3. Implement the next methods\n",
    "##### 3.1 Split data into 2 parts randomly with parameter test_size (ratio from 0 to 1), return training and test samples."
   ]
  },
  {
   "cell_type": "code",
   "execution_count": 136,
   "id": "9b0da1e2",
   "metadata": {},
   "outputs": [],
   "source": [
    "\n",
    "def train_test_split21(X, y, test_size: float, random_state: int = 21, shuffle: bool = True):\n",
    "\n",
    "    n = len(X) \n",
    "    if n<2:\n",
    "        raise ValueError('Need at least 2 samples to split')                                          \n",
    "    if len(y) != n:                                      \n",
    "        raise ValueError(f\"X and y have different lengths: {n} vs {len(y)}\")\n",
    "    if not (0.0 < float(test_size) < 1.0):                \n",
    "        raise ValueError(f\"test_size must be in (0,1), got {test_size}\")\n",
    "    rng = np.random.RandomState(random_state)             \n",
    "    idx = np.arange(n)                                   \n",
    "    perm = rng.permutation(idx) if shuffle else idx      \n",
    "    n_test = int(np.ceil(n * float(test_size))) \n",
    "    n_test = min(n-1,n_test)                       \n",
    "    test_idx = perm[:n_test]                              \n",
    "    train_idx = perm[n_test:]                             \n",
    "    X_train = X.iloc[train_idx] if hasattr(X, \"iloc\") else X[train_idx]\n",
    "    X_test  = X.iloc[test_idx]  if hasattr(X, \"iloc\") else X[test_idx]\n",
    "    y_train = y.iloc[train_idx] if hasattr(y, \"iloc\") else y[train_idx]\n",
    "    y_test  = y.iloc[test_idx]  if hasattr(y, \"iloc\") else y[test_idx]\n",
    "    return X_train, X_test, y_train, y_test               \n"
   ]
  },
  {
   "cell_type": "code",
   "execution_count": 137,
   "id": "a605c808",
   "metadata": {},
   "outputs": [],
   "source": [
    "xtrain,xtest,ytrain,ytest = train_test_split21(X_train,y_train,test_size=0.2,random_state=21)"
   ]
  },
  {
   "cell_type": "code",
   "execution_count": 138,
   "id": "863e9b98",
   "metadata": {},
   "outputs": [
    {
     "name": "stdout",
     "output_type": "stream",
     "text": [
      "Совпадают ли индексы TRAIN: xtrain vs ytrain? -> True\n",
      "Совпадают ли индексы TEST: xtest vs ytest? -> True\n",
      "Проверка размеров по X: |X_train| == |xtrain| + |xtest| -> True\n",
      "Проверка размеров по y: |y_train| == |ytrain| + |ytest| -> True\n",
      "Нет ли пересечений индексов между TRAIN и TEST? -> True\n",
      "Полное покрытие: TRAIN ∪ TEST == все индексы X_train? -> True\n"
     ]
    }
   ],
   "source": [
    "print(\"Совпадают ли индексы TRAIN: xtrain vs ytrain? ->\",\n",
    "      xtrain.index.equals(ytrain.index))\n",
    "\n",
    "print(\"Совпадают ли индексы TEST: xtest vs ytest? ->\",\n",
    "      xtest.index.equals(ytest.index))\n",
    "\n",
    "print(\"Проверка размеров по X: |X_train| == |xtrain| + |xtest| ->\",\n",
    "      X_train.shape[0] == (xtest.shape[0] + xtrain.shape[0]))\n",
    "\n",
    "print(\"Проверка размеров по y: |y_train| == |ytrain| + |ytest| ->\",\n",
    "      y_train.shape[0] == (ytest.shape[0] + ytrain.shape[0]))\n",
    "\n",
    "print(\"Нет ли пересечений индексов между TRAIN и TEST? ->\",\n",
    "      set(xtrain.index).isdisjoint(set(xtest.index)))\n",
    "\n",
    "print(\"Полное покрытие: TRAIN ∪ TEST == все индексы X_train? ->\",\n",
    "      (set(xtrain.index) | set(xtest.index)) == set(X_train.index))\n"
   ]
  },
  {
   "cell_type": "markdown",
   "id": "22e06dbc",
   "metadata": {},
   "source": [
    "#### 3.2 Randomly split data into 3 parts with parameters validation_size and test_size, return train, validation and test samples."
   ]
  },
  {
   "cell_type": "code",
   "execution_count": 139,
   "id": "a09fad0c",
   "metadata": {},
   "outputs": [],
   "source": [
    "def train_val_test_split21(X,y,validation_size: float,test_size: float, random_state:int = 21, shuffle: bool = True):\n",
    "    n = len(X)\n",
    "    if len(y) != n:\n",
    "        raise ValueError(f'X and y have different lenghts {n} vs {len(y)}')\n",
    "    if not (0.0<float(test_size)<1):\n",
    "        raise ValueError(f'test_size must be in (0,1), got {test_size}')\n",
    "    if not (0.0<float(validation_size)<1):\n",
    "        raise ValueError(f'validation_size must be in (0,1), got {validation_size}')\n",
    "    if validation_size + test_size >= 1.0:\n",
    "        raise ValueError(\"validation_size + test_size must be < 1\")\n",
    "    if n < 3:\n",
    "        raise ValueError(\"Need at least 3 samples to split into train/val/test\")\n",
    "    rng = np.random.RandomState(random_state)\n",
    "    \n",
    "    idx = np.arange(n)\n",
    "\n",
    "    perm = rng.permutation(idx) if shuffle else idx\n",
    "\n",
    "    n_val = int(np.ceil(n*float(validation_size)))\n",
    "    n_val = min(n-2,n_val)\n",
    "    n_test = int(np.ceil(n*float(test_size)))\n",
    "    n_test = min(n-2,n_test)\n",
    "    n_train = n - (n_val+n_test)\n",
    "\n",
    "    train_idx = perm[:n_train]\n",
    "    val_idx = perm[n_train:n_train+n_val]\n",
    "    test_idx = perm[n_val+n_train:]\n",
    "\n",
    "    X_train = X.iloc[train_idx] if hasattr(X,'iloc') else X[train_idx]\n",
    "    X_val = X.iloc[val_idx] if hasattr(X,'iloc') else X[val_idx]\n",
    "    X_test = X.iloc[test_idx] if hasattr(X,'iloc') else X[test_idx]\n",
    "    y_train = y.iloc[train_idx] if hasattr(y,'iloc') else y[train_idx]\n",
    "    y_val = y.iloc[val_idx] if hasattr(y,'iloc') else y[val_idx]\n",
    "    y_test = y.iloc[test_idx] if hasattr(y,'iloc') else y[test_idx]\n",
    "\n",
    "    return X_train, X_val, X_test, y_train, y_val, y_test"
   ]
  },
  {
   "cell_type": "code",
   "execution_count": 140,
   "id": "757fbee8",
   "metadata": {},
   "outputs": [],
   "source": [
    "xtrain, xval, xtest, ytrain, yval, ytest = train_val_test_split21(X_train,y_train,test_size=0.2,validation_size=0.1,random_state=21)"
   ]
  },
  {
   "cell_type": "code",
   "execution_count": 141,
   "id": "67d9873b",
   "metadata": {},
   "outputs": [
    {
     "name": "stdout",
     "output_type": "stream",
     "text": [
      "Совпадают ли индексы TRAIN: xtrain vs ytrain? -> True\n",
      "Совпадают ли индексы VAL: xval vs yval? -> True\n",
      "Совпадают ли индексы TEST: xtest vs ytest? -> True\n",
      "Проверка размеров по X: |X_train| == |xtrain| + |xtest| + |xval| -> True\n",
      "Проверка размеров по y: |y_train| == |ytrain| + |ytest| + |yval| -> False\n",
      "Нет ли пересечений индексов между TRAIN и TEST? -> True\n",
      "Нет ли пересечений индексов между TRAIN и VAL? -> True\n",
      "Нет ли пересечений индексов между TEST и VAL? -> True\n",
      "Полное покрытие: TRAIN ∪ TEST == все индексы X_train? -> True\n"
     ]
    }
   ],
   "source": [
    "print(\"Совпадают ли индексы TRAIN: xtrain vs ytrain? ->\",\n",
    "      xtrain.index.equals(ytrain.index))\n",
    "\n",
    "print(\"Совпадают ли индексы VAL: xval vs yval? ->\",\n",
    "      xval.index.equals(yval.index))\n",
    "print(\"Совпадают ли индексы TEST: xtest vs ytest? ->\",\n",
    "      xtest.index.equals(ytest.index))\n",
    "\n",
    "print(\"Проверка размеров по X: |X_train| == |xtrain| + |xtest| + |xval| ->\",\n",
    "      X_train.shape[0] == (xtest.shape[0] + xtrain.shape[0])+xval.shape[0])\n",
    "\n",
    "print(\"Проверка размеров по y: |y_train| == |ytrain| + |ytest| + |yval| ->\",\n",
    "      y_train.shape[0] == (ytest.shape[0] + ytrain.shape[0]))\n",
    "\n",
    "print(\"Нет ли пересечений индексов между TRAIN и TEST? ->\",\n",
    "      set(xtrain.index).isdisjoint(set(xtest.index)))\n",
    "print(\"Нет ли пересечений индексов между TRAIN и VAL? ->\",\n",
    "      set(xtrain.index).isdisjoint(set(xval.index)))\n",
    "print(\"Нет ли пересечений индексов между TEST и VAL? ->\",\n",
    "      set(xtest.index).isdisjoint(set(xval.index)))\n",
    "\n",
    "print(\"Полное покрытие: TRAIN ∪ TEST == все индексы X_train? ->\",\n",
    "      (set(xtrain.index) | set(xtest.index) | set(xval.index) ) == set(X_train.index))\n"
   ]
  },
  {
   "cell_type": "markdown",
   "id": "559129f4",
   "metadata": {},
   "source": [
    "#### 3.3 Split data into 2 parts with parameter date_split, return train and test samples split by date_split param."
   ]
  },
  {
   "cell_type": "code",
   "execution_count": 142,
   "id": "6493769e",
   "metadata": {},
   "outputs": [],
   "source": [
    "\n",
    "\n",
    "def train_test_date_split(X: pd.DataFrame, y: pd.Series, date_col: str, date_split: str,drop_na_dates: bool = True,\n",
    "    sort_by_time: bool = True):\n",
    "    if not X.index.equals(y.index):\n",
    "        raise ValueError(\"X and y indices do not match\")\n",
    "    if date_col not in X.columns:\n",
    "        raise ValueError(f\"Column '{date_col}' not found in X\")\n",
    "    dates = pd.to_datetime(X[date_col], errors=\"coerce\",utc=True)\n",
    "    cut = pd.to_datetime(date_split,utc=True)\n",
    "\n",
    "    if drop_na_dates:\n",
    "        keep = dates.notna()\n",
    "        X, y, dates = X.loc[keep], y.loc[keep], dates.loc[keep]\n",
    "\n",
    "    if sort_by_time:\n",
    "        order = dates.sort_values().index\n",
    "        X, y, dates = X.loc[order], y.loc[order], dates.loc[order]\n",
    "    mask = (dates <= cut)\n",
    "    X_train, y_train = X.loc[mask], y.loc[mask]\n",
    "    X_test,  y_test  = X.loc[~mask], y.loc[~mask]\n",
    "    return X_train, X_test, y_train, y_test\n"
   ]
  },
  {
   "cell_type": "code",
   "execution_count": 143,
   "id": "b2f57bd8",
   "metadata": {},
   "outputs": [],
   "source": [
    "xtrain,xtest,ytrain,ytest=train_test_date_split(X_train,y_train, 'created', '2016-06-01')\n"
   ]
  },
  {
   "cell_type": "markdown",
   "id": "76cf9261",
   "metadata": {},
   "source": [
    "#### 3.4 Split data into 3 parts with parameters validation_date and test_date, return train, validation and test samples split by input params."
   ]
  },
  {
   "cell_type": "code",
   "execution_count": 144,
   "id": "6133450e",
   "metadata": {},
   "outputs": [],
   "source": [
    "\n",
    "def train_val_test_date_split(\n",
    "    X: pd.DataFrame,\n",
    "    y: pd.Series,\n",
    "    date_col: str,\n",
    "    validation_date: str,\n",
    "    test_date: str,\n",
    "    drop_na_dates: bool = True,\n",
    "    sort_by_time: bool = True,\n",
    "):\n",
    "    if not X.index.equals(y.index):\n",
    "        raise ValueError(\"X and y indices do not match\")\n",
    "    if date_col not in X.columns:\n",
    "        raise ValueError(f\"Column '{date_col}' not found in X\")\n",
    "\n",
    "    dates = pd.to_datetime(X[date_col], errors=\"coerce\", utc=True)\n",
    "    cut_val  = pd.to_datetime(validation_date, utc=True)\n",
    "    cut_test = pd.to_datetime(test_date,      utc=True)\n",
    "\n",
    "    if not (cut_val < cut_test):\n",
    "        raise ValueError(\"validation_date must be strictly earlier than test_date\")\n",
    "\n",
    "\n",
    "    if drop_na_dates:\n",
    "        keep = dates.notna()\n",
    "        X, y, dates = X.loc[keep], y.loc[keep], dates.loc[keep]\n",
    "\n",
    "    if sort_by_time:\n",
    "        order = dates.sort_values().index\n",
    "        X, y, dates = X.loc[order], y.loc[order], dates.loc[order]\n",
    "\n",
    "\n",
    "    m_train = dates <  cut_val\n",
    "    m_val   = (dates >= cut_val) & (dates <  cut_test)\n",
    "    m_test  = dates >= cut_test\n",
    "\n",
    "\n",
    "    X_train, y_train = X.loc[m_train], y.loc[m_train]\n",
    "    X_val,   y_val   = X.loc[m_val],   y.loc[m_val]\n",
    "    X_test,  y_test  = X.loc[m_test],  y.loc[m_test]\n",
    "    return X_train, X_val, X_test, y_train, y_val, y_test\n"
   ]
  },
  {
   "cell_type": "code",
   "execution_count": 145,
   "id": "a9bc2d3f",
   "metadata": {},
   "outputs": [],
   "source": [
    "xtrain, x_val, xtest,ytrain,y_val, ytest=train_val_test_date_split(X_train,y_train, 'created', '2016-05-01','2016-06-01')\n",
    "\n"
   ]
  },
  {
   "cell_type": "markdown",
   "id": "48f7b9b1",
   "metadata": {},
   "source": [
    "#### 3.5 Make split procedure determenistic. What does it mean?\n",
    "##### Детерминированная процедура сплита означает, что при одинаковых входных данных и одинаковых параметрах результат разбиения всегда будет одинаковым.\n",
    "##### В нашем случае это обеспечивается фиксированием random_state (начального состояния генератора случайных чисел). Если random_state зафиксирован, то случайная перестановка индексов всегда будет одна и та же → разбиение повторяется."
   ]
  },
  {
   "cell_type": "markdown",
   "id": "b5546d86",
   "metadata": {},
   "source": [
    "### 4 Implement the next cross-validation methods\n",
    "#### 4.1 K-Fold, where k is the input parameter, returns a list of train and test indices."
   ]
  },
  {
   "cell_type": "code",
   "execution_count": 146,
   "id": "261a789f",
   "metadata": {},
   "outputs": [],
   "source": [
    "class KFold21():\n",
    "    def __init__(self, k:int, shuffle:bool=False, random_state:int=21):\n",
    "        if k<2:\n",
    "            raise ValueError(\"k must be greater then 1\")\n",
    "        self.k = k\n",
    "        self.shuffle = shuffle\n",
    "        self.random_state = random_state\n",
    "\n",
    "    def split(self,X):\n",
    "        n = X.shape[0]\n",
    "\n",
    "        if n<self.k:\n",
    "            raise ValueError('Number of samples must be greater then number of splits')\n",
    "        \n",
    "        if self.shuffle:\n",
    "            rng = np.random.RandomState(self.random_state)\n",
    "            idx = rng.permutation(np.arange(n))\n",
    "        else: idx = np.arange(n)\n",
    "\n",
    "        fold_sizes = np.full(self.k,n//self.k,dtype=int)\n",
    "        fold_sizes[:(n%self.k)]+=1\n",
    "        \n",
    "        cur = 0\n",
    "        for i in range(self.k):\n",
    "            start, stop = cur, cur+fold_sizes[i]\n",
    "            test_idx = idx[start:stop]\n",
    "            train_idx = np.concatenate([idx[:start], idx[stop:]])\n",
    "            cur = stop\n",
    "            yield train_idx, test_idx\n"
   ]
  },
  {
   "cell_type": "markdown",
   "id": "6f784f5f",
   "metadata": {},
   "source": [
    "#### 4.2 Grouped K-Fold, where k and group_field are input parameters, returns list of train and test indices."
   ]
  },
  {
   "cell_type": "code",
   "execution_count": 147,
   "id": "a3c0ddd1",
   "metadata": {},
   "outputs": [],
   "source": [
    "import numpy as np\n",
    "\n",
    "class GroupKFold21:\n",
    "    def __init__(self, k: int, group_fields:Sequence, shuffle: bool = False, random_state: int = 21):\n",
    "        if k < 2:\n",
    "            raise ValueError(\"k must be >= 2\")\n",
    "        self.k = int(k)\n",
    "        self.groups = np.asarray(group_fields)\n",
    "        self.shuffle = bool(shuffle)\n",
    "        self.random_state = int(random_state)\n",
    "    def split(self, X):\n",
    "        n = len(X)\n",
    "        if n != len(self.groups):\n",
    "            raise ValueError(f\"len(X) ({n}) != len(groups) ({len(self.groups)})\")\n",
    "\n",
    "        g_unique, g_codes = np.unique(self.groups, return_inverse=True)\n",
    "        n_groups = len(g_unique)\n",
    "        if n_groups < self.k:\n",
    "            raise ValueError(f\"n_groups ({n_groups}) must be >= k ({self.k})\")\n",
    "        \n",
    "\n",
    "        g_idx = np.arange(n_groups)\n",
    "        if self.shuffle:\n",
    "            rng = np.random.RandomState(self.random_state)\n",
    "            rng.shuffle(g_idx)\n",
    "\n",
    "        fold_sizes = np.full(self.k, n_groups // self.k, dtype=int)\n",
    "        fold_sizes[: (n_groups % self.k)] += 1\n",
    "\n",
    "        rows_by_group = [np.flatnonzero(g_codes == gi) for gi in range(n_groups)]\n",
    "\n",
    "        cur = 0\n",
    "        for i in range(self.k):\n",
    "            start, stop = cur, cur + fold_sizes[i]\n",
    "            test_g = g_idx[start:stop]\n",
    "            cur = stop\n",
    "\n",
    "            if test_g.size == 0:\n",
    "                test_idx = np.array([], dtype=int)\n",
    "            else:\n",
    "                test_idx = np.concatenate([rows_by_group[gi] for gi in test_g]).astype(int, copy=False)\n",
    "\n",
    "            mask = np.ones(n, dtype=bool)\n",
    "            mask[test_idx] = False\n",
    "            train_idx = np.flatnonzero(mask)\n",
    "\n",
    "            yield train_idx, test_idx\n"
   ]
  },
  {
   "cell_type": "markdown",
   "id": "2bcdc512",
   "metadata": {},
   "source": [
    "#### 4.3 Stratified K-fold, where k and stratify_field are input parameters, returns list of train and test indices."
   ]
  },
  {
   "cell_type": "code",
   "execution_count": 148,
   "id": "c48715f6",
   "metadata": {},
   "outputs": [],
   "source": [
    "\n",
    "class StratifiedKFold21:\n",
    "    def __init__(self, k: int, stratify_field: Sequence, shuffle: bool = False, random_state: int = 21):\n",
    "        if k < 2:\n",
    "            raise ValueError(\"Number of splits must be >= 2\")\n",
    "        self.k = int(k)\n",
    "        self.y = np.array(stratify_field)\n",
    "        self.shuffle = shuffle\n",
    "        self.random_state = random_state\n",
    "\n",
    "    def split(self, X):\n",
    "        n = len(X)\n",
    "        if n < self.k:\n",
    "            raise ValueError(f\"Number of samples ({n}) must be >= number of splits ({self.k})\")\n",
    "\n",
    "\n",
    "        y_unique, y_codes, y_counts = np.unique(self.y, return_inverse=True, return_counts=True)\n",
    "        if len(y_unique) < 2:\n",
    "            raise ValueError(\"Need at least 2 classes for stratification\")\n",
    "        if np.any(y_counts < self.k):\n",
    "            raise ValueError(\"each class must have at least k samples for stratified k-fold\")\n",
    "\n",
    "        rng = np.random.RandomState(self.random_state)\n",
    "\n",
    "\n",
    "        idx_by_class = [np.flatnonzero(y_codes == ci) for ci in range(len(y_unique))]\n",
    "        if self.shuffle:\n",
    "            for arr in idx_by_class:\n",
    "                rng.shuffle(arr)\n",
    "\n",
    "   \n",
    "        fold_sizes_per_class = [np.full(self.k, c // self.k, int) for c in y_counts]\n",
    "        for fs, c in zip(fold_sizes_per_class, y_counts):\n",
    "            fs[: (c % self.k)] += 1\n",
    "\n",
    "\n",
    "        folds = [[] for _ in range(self.k)]\n",
    "        for cls_idx, arr in enumerate(idx_by_class):\n",
    "            cur = 0\n",
    "            for i in range(self.k):\n",
    "                size = fold_sizes_per_class[cls_idx][i]\n",
    "                folds[i].extend(arr[cur:cur + size])\n",
    "                cur += size\n",
    "\n",
    "\n",
    "        for i in range(self.k):\n",
    "            test_idx = np.array(folds[i])\n",
    "            mask = np.ones(n, dtype=bool)\n",
    "            mask[test_idx] = False\n",
    "            train_idx = np.flatnonzero(mask)\n",
    "            yield np.sort(train_idx), np.sort(test_idx)\n"
   ]
  },
  {
   "cell_type": "markdown",
   "id": "61de573a",
   "metadata": {},
   "source": [
    "#### 4.4 Time series split, where k and date_field are input parameters, returns list of train and test indices."
   ]
  },
  {
   "cell_type": "code",
   "execution_count": 149,
   "id": "36642217",
   "metadata": {},
   "outputs": [],
   "source": [
    "class TimeSeriesSplit21:\n",
    "    def __init__(self,k:int,date_field:Sequence):\n",
    "        self.k = k\n",
    "        self.date_col = date_field\n",
    "    def split(self,X):\n",
    "        n = len(self.date_col)\n",
    "        if n!=X.shape[0]:\n",
    "            raise ValueError(f'Numbers of rows in X({X.shape[0]}) != numbers of rows in date_field ({n})')\n",
    "        date = pd.to_datetime(self.date_col, errors=\"coerce\", utc=True).sort_values().index\n",
    "        test_size = max(1,n//(self.k+1))\n",
    "        train0 = n - self.k*test_size\n",
    "        for i in range(self.k):\n",
    "            train_end = train0 + i*test_size\n",
    "            train_idx = date[:train_end]\n",
    "            test_idx = date[train_end:train_end+test_size]\n",
    "            yield train_idx, test_idx\n",
    "\n",
    "\n"
   ]
  },
  {
   "cell_type": "markdown",
   "id": "5fa4ef3c",
   "metadata": {},
   "source": [
    "### 5 Cross-validation comparison:\n",
    "#### 5.1 Apply all the validation methods implemented above to our dataset. To apply Stratified algorithm you should preprocess target.\n",
    "#### 5.2 Apply the appropriate methods from sklearn.\n",
    "#### 5.3 Compare the resulting feature distributions for the training part of the dataset between sklearn and your implementation."
   ]
  },
  {
   "cell_type": "code",
   "execution_count": 150,
   "id": "1508a41c",
   "metadata": {},
   "outputs": [],
   "source": [
    "bins = [0, 2000, 2500, 4100, 5800, float(\"inf\")]\n",
    "labels = [\"very_low\", \"low\", \"mid\", \"high\", \"luxury\"]\n",
    "\n",
    "y_train_labeled = pd.cut(y_train, bins=bins, labels=labels, right=False)\n",
    "\n"
   ]
  },
  {
   "cell_type": "code",
   "execution_count": 151,
   "id": "336931b2",
   "metadata": {},
   "outputs": [
    {
     "data": {
      "text/plain": [
       "price\n",
       "mid         24613\n",
       "high         7791\n",
       "low          7528\n",
       "very_low     4294\n",
       "luxury       4117\n",
       "Name: count, dtype: int64"
      ]
     },
     "execution_count": 151,
     "metadata": {},
     "output_type": "execute_result"
    }
   ],
   "source": [
    "y_train_labeled.value_counts()"
   ]
  },
  {
   "cell_type": "markdown",
   "id": "09037319",
   "metadata": {},
   "source": [
    "Kfold21"
   ]
  },
  {
   "cell_type": "code",
   "execution_count": 152,
   "id": "5ef2c183",
   "metadata": {},
   "outputs": [
    {
     "name": "stdout",
     "output_type": "stream",
     "text": [
      "[ 8  9 10 11 12 13 14 15 16 17 18 19 20 21 22 23 24 25 26 27 28 29] [0 1 2 3 4 5 6 7]\n",
      "[ 0  1  2  3  4  5  6  7 16 17 18 19 20 21 22 23 24 25 26 27 28 29] [ 8  9 10 11 12 13 14 15]\n",
      "[ 0  1  2  3  4  5  6  7  8  9 10 11 12 13 14 15 23 24 25 26 27 28 29] [16 17 18 19 20 21 22]\n",
      "[ 0  1  2  3  4  5  6  7  8  9 10 11 12 13 14 15 16 17 18 19 20 21 22] [23 24 25 26 27 28 29]\n"
     ]
    }
   ],
   "source": [
    "kf21 = KFold21(4)\n",
    "for train_idx, test_idx in kf21.split(X_train.iloc[:30]):\n",
    "    print(train_idx, test_idx)"
   ]
  },
  {
   "cell_type": "markdown",
   "id": "1a597148",
   "metadata": {},
   "source": [
    "Sklearn Kfold"
   ]
  },
  {
   "cell_type": "code",
   "execution_count": 153,
   "id": "3de3efcb",
   "metadata": {},
   "outputs": [
    {
     "name": "stdout",
     "output_type": "stream",
     "text": [
      "[ 8  9 10 11 12 13 14 15 16 17 18 19 20 21 22 23 24 25 26 27 28 29] [0 1 2 3 4 5 6 7]\n",
      "[ 0  1  2  3  4  5  6  7 16 17 18 19 20 21 22 23 24 25 26 27 28 29] [ 8  9 10 11 12 13 14 15]\n",
      "[ 0  1  2  3  4  5  6  7  8  9 10 11 12 13 14 15 23 24 25 26 27 28 29] [16 17 18 19 20 21 22]\n",
      "[ 0  1  2  3  4  5  6  7  8  9 10 11 12 13 14 15 16 17 18 19 20 21 22] [23 24 25 26 27 28 29]\n"
     ]
    }
   ],
   "source": [
    "kf = KFold(4)\n",
    "for train_idx, test_idx in kf.split(X_train.iloc[:30]):\n",
    "    print(train_idx, test_idx)"
   ]
  },
  {
   "cell_type": "code",
   "execution_count": 154,
   "id": "027196eb",
   "metadata": {},
   "outputs": [],
   "source": [
    "def compare_train_distributions(X_train_own, X_train_skl):\n",
    "    stats = pd.DataFrame({\n",
    "        'mean_own': X_train_own.mean(numeric_only=True),\n",
    "        'mean_skl': X_train_skl.mean(numeric_only=True),\n",
    "        'std_own':  X_train_own.std(numeric_only=True, ddof=0),\n",
    "        'std_skl':  X_train_skl.std(numeric_only=True, ddof=0),\n",
    "    })\n",
    "    stats['Δmean'] = (stats['mean_own'] - stats['mean_skl']).abs()\n",
    "    stats['Δstd']  = (stats['std_own']  - stats['std_skl']).abs()\n",
    "    return stats.sort_values('Δmean', ascending=False)\n"
   ]
  },
  {
   "cell_type": "code",
   "execution_count": 155,
   "id": "d30ef49d",
   "metadata": {},
   "outputs": [
    {
     "name": "stdout",
     "output_type": "stream",
     "text": [
      "KFold fold=0: max Δmean=0.000000, max Δstd=0.000000\n"
     ]
    },
    {
     "data": {
      "text/html": [
       "<div>\n",
       "<style scoped>\n",
       "    .dataframe tbody tr th:only-of-type {\n",
       "        vertical-align: middle;\n",
       "    }\n",
       "\n",
       "    .dataframe tbody tr th {\n",
       "        vertical-align: top;\n",
       "    }\n",
       "\n",
       "    .dataframe thead th {\n",
       "        text-align: right;\n",
       "    }\n",
       "</style>\n",
       "<table border=\"1\" class=\"dataframe\">\n",
       "  <thead>\n",
       "    <tr style=\"text-align: right;\">\n",
       "      <th></th>\n",
       "      <th>mean_own</th>\n",
       "      <th>mean_skl</th>\n",
       "      <th>std_own</th>\n",
       "      <th>std_skl</th>\n",
       "      <th>Δmean</th>\n",
       "      <th>Δstd</th>\n",
       "    </tr>\n",
       "  </thead>\n",
       "  <tbody>\n",
       "    <tr>\n",
       "      <th>Elevator</th>\n",
       "      <td>0.528422</td>\n",
       "      <td>0.528422</td>\n",
       "      <td>0.499192</td>\n",
       "      <td>0.499192</td>\n",
       "      <td>0.0</td>\n",
       "      <td>0.0</td>\n",
       "    </tr>\n",
       "    <tr>\n",
       "      <th>HardwoodFloors</th>\n",
       "      <td>0.480459</td>\n",
       "      <td>0.480459</td>\n",
       "      <td>0.499618</td>\n",
       "      <td>0.499618</td>\n",
       "      <td>0.0</td>\n",
       "      <td>0.0</td>\n",
       "    </tr>\n",
       "    <tr>\n",
       "      <th>bathrooms</th>\n",
       "      <td>1.196362</td>\n",
       "      <td>1.196362</td>\n",
       "      <td>0.458025</td>\n",
       "      <td>0.458025</td>\n",
       "      <td>0.0</td>\n",
       "      <td>0.0</td>\n",
       "    </tr>\n",
       "    <tr>\n",
       "      <th>Terrace</th>\n",
       "      <td>0.045371</td>\n",
       "      <td>0.045371</td>\n",
       "      <td>0.208116</td>\n",
       "      <td>0.208116</td>\n",
       "      <td>0.0</td>\n",
       "      <td>0.0</td>\n",
       "    </tr>\n",
       "    <tr>\n",
       "      <th>NewConstruction</th>\n",
       "      <td>0.051549</td>\n",
       "      <td>0.051549</td>\n",
       "      <td>0.221114</td>\n",
       "      <td>0.221114</td>\n",
       "      <td>0.0</td>\n",
       "      <td>0.0</td>\n",
       "    </tr>\n",
       "  </tbody>\n",
       "</table>\n",
       "</div>"
      ],
      "text/plain": [
       "                 mean_own  mean_skl   std_own   std_skl  Δmean  Δstd\n",
       "Elevator         0.528422  0.528422  0.499192  0.499192    0.0   0.0\n",
       "HardwoodFloors   0.480459  0.480459  0.499618  0.499618    0.0   0.0\n",
       "bathrooms        1.196362  1.196362  0.458025  0.458025    0.0   0.0\n",
       "Terrace          0.045371  0.045371  0.208116  0.208116    0.0   0.0\n",
       "NewConstruction  0.051549  0.051549  0.221114  0.221114    0.0   0.0"
      ]
     },
     "metadata": {},
     "output_type": "display_data"
    },
    {
     "name": "stdout",
     "output_type": "stream",
     "text": [
      "KFold fold=1: max Δmean=0.000000, max Δstd=0.000000\n"
     ]
    },
    {
     "data": {
      "text/html": [
       "<div>\n",
       "<style scoped>\n",
       "    .dataframe tbody tr th:only-of-type {\n",
       "        vertical-align: middle;\n",
       "    }\n",
       "\n",
       "    .dataframe tbody tr th {\n",
       "        vertical-align: top;\n",
       "    }\n",
       "\n",
       "    .dataframe thead th {\n",
       "        text-align: right;\n",
       "    }\n",
       "</style>\n",
       "<table border=\"1\" class=\"dataframe\">\n",
       "  <thead>\n",
       "    <tr style=\"text-align: right;\">\n",
       "      <th></th>\n",
       "      <th>mean_own</th>\n",
       "      <th>mean_skl</th>\n",
       "      <th>std_own</th>\n",
       "      <th>std_skl</th>\n",
       "      <th>Δmean</th>\n",
       "      <th>Δstd</th>\n",
       "    </tr>\n",
       "  </thead>\n",
       "  <tbody>\n",
       "    <tr>\n",
       "      <th>Elevator</th>\n",
       "      <td>0.523182</td>\n",
       "      <td>0.523182</td>\n",
       "      <td>0.499462</td>\n",
       "      <td>0.499462</td>\n",
       "      <td>0.0</td>\n",
       "      <td>0.0</td>\n",
       "    </tr>\n",
       "    <tr>\n",
       "      <th>HardwoodFloors</th>\n",
       "      <td>0.479356</td>\n",
       "      <td>0.479356</td>\n",
       "      <td>0.499574</td>\n",
       "      <td>0.499574</td>\n",
       "      <td>0.0</td>\n",
       "      <td>0.0</td>\n",
       "    </tr>\n",
       "    <tr>\n",
       "      <th>bathrooms</th>\n",
       "      <td>1.193535</td>\n",
       "      <td>1.193535</td>\n",
       "      <td>0.452107</td>\n",
       "      <td>0.452107</td>\n",
       "      <td>0.0</td>\n",
       "      <td>0.0</td>\n",
       "    </tr>\n",
       "    <tr>\n",
       "      <th>Terrace</th>\n",
       "      <td>0.044791</td>\n",
       "      <td>0.044791</td>\n",
       "      <td>0.206846</td>\n",
       "      <td>0.206846</td>\n",
       "      <td>0.0</td>\n",
       "      <td>0.0</td>\n",
       "    </tr>\n",
       "    <tr>\n",
       "      <th>NewConstruction</th>\n",
       "      <td>0.051687</td>\n",
       "      <td>0.051687</td>\n",
       "      <td>0.221393</td>\n",
       "      <td>0.221393</td>\n",
       "      <td>0.0</td>\n",
       "      <td>0.0</td>\n",
       "    </tr>\n",
       "  </tbody>\n",
       "</table>\n",
       "</div>"
      ],
      "text/plain": [
       "                 mean_own  mean_skl   std_own   std_skl  Δmean  Δstd\n",
       "Elevator         0.523182  0.523182  0.499462  0.499462    0.0   0.0\n",
       "HardwoodFloors   0.479356  0.479356  0.499574  0.499574    0.0   0.0\n",
       "bathrooms        1.193535  1.193535  0.452107  0.452107    0.0   0.0\n",
       "Terrace          0.044791  0.044791  0.206846  0.206846    0.0   0.0\n",
       "NewConstruction  0.051687  0.051687  0.221393  0.221393    0.0   0.0"
      ]
     },
     "metadata": {},
     "output_type": "display_data"
    },
    {
     "name": "stdout",
     "output_type": "stream",
     "text": [
      "KFold fold=2: max Δmean=0.000000, max Δstd=0.000000\n"
     ]
    },
    {
     "data": {
      "text/html": [
       "<div>\n",
       "<style scoped>\n",
       "    .dataframe tbody tr th:only-of-type {\n",
       "        vertical-align: middle;\n",
       "    }\n",
       "\n",
       "    .dataframe tbody tr th {\n",
       "        vertical-align: top;\n",
       "    }\n",
       "\n",
       "    .dataframe thead th {\n",
       "        text-align: right;\n",
       "    }\n",
       "</style>\n",
       "<table border=\"1\" class=\"dataframe\">\n",
       "  <thead>\n",
       "    <tr style=\"text-align: right;\">\n",
       "      <th></th>\n",
       "      <th>mean_own</th>\n",
       "      <th>mean_skl</th>\n",
       "      <th>std_own</th>\n",
       "      <th>std_skl</th>\n",
       "      <th>Δmean</th>\n",
       "      <th>Δstd</th>\n",
       "    </tr>\n",
       "  </thead>\n",
       "  <tbody>\n",
       "    <tr>\n",
       "      <th>Elevator</th>\n",
       "      <td>0.523071</td>\n",
       "      <td>0.523071</td>\n",
       "      <td>0.499467</td>\n",
       "      <td>0.499467</td>\n",
       "      <td>0.0</td>\n",
       "      <td>0.0</td>\n",
       "    </tr>\n",
       "    <tr>\n",
       "      <th>HardwoodFloors</th>\n",
       "      <td>0.479549</td>\n",
       "      <td>0.479549</td>\n",
       "      <td>0.499582</td>\n",
       "      <td>0.499582</td>\n",
       "      <td>0.0</td>\n",
       "      <td>0.0</td>\n",
       "    </tr>\n",
       "    <tr>\n",
       "      <th>bathrooms</th>\n",
       "      <td>1.192018</td>\n",
       "      <td>1.192018</td>\n",
       "      <td>0.454941</td>\n",
       "      <td>0.454941</td>\n",
       "      <td>0.0</td>\n",
       "      <td>0.0</td>\n",
       "    </tr>\n",
       "    <tr>\n",
       "      <th>Terrace</th>\n",
       "      <td>0.044791</td>\n",
       "      <td>0.044791</td>\n",
       "      <td>0.206846</td>\n",
       "      <td>0.206846</td>\n",
       "      <td>0.0</td>\n",
       "      <td>0.0</td>\n",
       "    </tr>\n",
       "    <tr>\n",
       "      <th>NewConstruction</th>\n",
       "      <td>0.052238</td>\n",
       "      <td>0.052238</td>\n",
       "      <td>0.222507</td>\n",
       "      <td>0.222507</td>\n",
       "      <td>0.0</td>\n",
       "      <td>0.0</td>\n",
       "    </tr>\n",
       "  </tbody>\n",
       "</table>\n",
       "</div>"
      ],
      "text/plain": [
       "                 mean_own  mean_skl   std_own   std_skl  Δmean  Δstd\n",
       "Elevator         0.523071  0.523071  0.499467  0.499467    0.0   0.0\n",
       "HardwoodFloors   0.479549  0.479549  0.499582  0.499582    0.0   0.0\n",
       "bathrooms        1.192018  1.192018  0.454941  0.454941    0.0   0.0\n",
       "Terrace          0.044791  0.044791  0.206846  0.206846    0.0   0.0\n",
       "NewConstruction  0.052238  0.052238  0.222507  0.222507    0.0   0.0"
      ]
     },
     "metadata": {},
     "output_type": "display_data"
    },
    {
     "name": "stdout",
     "output_type": "stream",
     "text": [
      "KFold fold=3: max Δmean=0.000000, max Δstd=0.000000\n"
     ]
    },
    {
     "data": {
      "text/html": [
       "<div>\n",
       "<style scoped>\n",
       "    .dataframe tbody tr th:only-of-type {\n",
       "        vertical-align: middle;\n",
       "    }\n",
       "\n",
       "    .dataframe tbody tr th {\n",
       "        vertical-align: top;\n",
       "    }\n",
       "\n",
       "    .dataframe thead th {\n",
       "        text-align: right;\n",
       "    }\n",
       "</style>\n",
       "<table border=\"1\" class=\"dataframe\">\n",
       "  <thead>\n",
       "    <tr style=\"text-align: right;\">\n",
       "      <th></th>\n",
       "      <th>mean_own</th>\n",
       "      <th>mean_skl</th>\n",
       "      <th>std_own</th>\n",
       "      <th>std_skl</th>\n",
       "      <th>Δmean</th>\n",
       "      <th>Δstd</th>\n",
       "    </tr>\n",
       "  </thead>\n",
       "  <tbody>\n",
       "    <tr>\n",
       "      <th>Elevator</th>\n",
       "      <td>0.524905</td>\n",
       "      <td>0.524905</td>\n",
       "      <td>0.499379</td>\n",
       "      <td>0.499379</td>\n",
       "      <td>0.0</td>\n",
       "      <td>0.0</td>\n",
       "    </tr>\n",
       "    <tr>\n",
       "      <th>HardwoodFloors</th>\n",
       "      <td>0.475785</td>\n",
       "      <td>0.475785</td>\n",
       "      <td>0.499413</td>\n",
       "      <td>0.499413</td>\n",
       "      <td>0.0</td>\n",
       "      <td>0.0</td>\n",
       "    </tr>\n",
       "    <tr>\n",
       "      <th>bathrooms</th>\n",
       "      <td>1.196688</td>\n",
       "      <td>1.196688</td>\n",
       "      <td>0.457079</td>\n",
       "      <td>0.457079</td>\n",
       "      <td>0.0</td>\n",
       "      <td>0.0</td>\n",
       "    </tr>\n",
       "    <tr>\n",
       "      <th>Terrace</th>\n",
       "      <td>0.045176</td>\n",
       "      <td>0.045176</td>\n",
       "      <td>0.207691</td>\n",
       "      <td>0.207691</td>\n",
       "      <td>0.0</td>\n",
       "      <td>0.0</td>\n",
       "    </tr>\n",
       "    <tr>\n",
       "      <th>NewConstruction</th>\n",
       "      <td>0.051713</td>\n",
       "      <td>0.051713</td>\n",
       "      <td>0.221446</td>\n",
       "      <td>0.221446</td>\n",
       "      <td>0.0</td>\n",
       "      <td>0.0</td>\n",
       "    </tr>\n",
       "  </tbody>\n",
       "</table>\n",
       "</div>"
      ],
      "text/plain": [
       "                 mean_own  mean_skl   std_own   std_skl  Δmean  Δstd\n",
       "Elevator         0.524905  0.524905  0.499379  0.499379    0.0   0.0\n",
       "HardwoodFloors   0.475785  0.475785  0.499413  0.499413    0.0   0.0\n",
       "bathrooms        1.196688  1.196688  0.457079  0.457079    0.0   0.0\n",
       "Terrace          0.045176  0.045176  0.207691  0.207691    0.0   0.0\n",
       "NewConstruction  0.051713  0.051713  0.221446  0.221446    0.0   0.0"
      ]
     },
     "metadata": {},
     "output_type": "display_data"
    }
   ],
   "source": [
    "\n",
    "for fold, ((tr_own, _), (tr_skl, _)) in enumerate(zip(kf21.split(X_train), kf.split(X_train))):\n",
    "    X_train_own = X_train.iloc[tr_own][feature_list]  # берём только 22 признака\n",
    "    X_train_skl = X_train.iloc[tr_skl][feature_list]\n",
    "    stats = compare_train_distributions(X_train_own, X_train_skl)\n",
    "    print(f'KFold fold={fold}: max Δmean={stats[\"Δmean\"].max():.6f}, max Δstd={stats[\"Δstd\"].max():.6f}')\n",
    "    display(stats.head(5))  \n"
   ]
  },
  {
   "cell_type": "markdown",
   "id": "dde62310",
   "metadata": {},
   "source": [
    "#### Разницы между sklear KFold и KFold21 нет"
   ]
  },
  {
   "cell_type": "markdown",
   "id": "9800273c",
   "metadata": {},
   "source": [
    "GroupKfold21"
   ]
  },
  {
   "cell_type": "code",
   "execution_count": 156,
   "id": "1c39b021",
   "metadata": {},
   "outputs": [
    {
     "name": "stdout",
     "output_type": "stream",
     "text": [
      "[ 0  1  3  4  6  7  9 11 12 13 14 16 18] [ 2  5  8 10 15 17 19] [2, 1, 0, 2, 3, 0, 1, 1, 0, 2, 0, 2, 2, 3, 4, 0, 1, 0, 2, 0]\n",
      "[ 0  2  3  4  5  8  9 10 11 12 13 14 15 17 18 19] [ 1  6  7 16] [2, 1, 0, 2, 3, 0, 1, 1, 0, 2, 0, 2, 2, 3, 4, 0, 1, 0, 2, 0]\n",
      "[ 1  2  4  5  6  7  8 10 13 14 15 16 17 19] [ 0  3  9 11 12 18] [2, 1, 0, 2, 3, 0, 1, 1, 0, 2, 0, 2, 2, 3, 4, 0, 1, 0, 2, 0]\n",
      "[ 0  1  2  3  5  6  7  8  9 10 11 12 14 15 16 17 18 19] [ 4 13] [2, 1, 0, 2, 3, 0, 1, 1, 0, 2, 0, 2, 2, 3, 4, 0, 1, 0, 2, 0]\n",
      "[ 0  1  2  3  4  5  6  7  8  9 10 11 12 13 15 16 17 18 19] [14] [2, 1, 0, 2, 3, 0, 1, 1, 0, 2, 0, 2, 2, 3, 4, 0, 1, 0, 2, 0]\n"
     ]
    }
   ],
   "source": [
    "gkf21 = GroupKFold21(5,X_train['bedrooms'].iloc[250:270])\n",
    "for train_idx, test_idx in gkf21.split(X_train.iloc[250:270]):\n",
    "    print(train_idx, test_idx, list(X_train['bedrooms'].iloc[250:270]))"
   ]
  },
  {
   "cell_type": "markdown",
   "id": "0b4205d4",
   "metadata": {},
   "source": [
    "Sklearn GroupKfold"
   ]
  },
  {
   "cell_type": "code",
   "execution_count": 157,
   "id": "0a55ae6a",
   "metadata": {},
   "outputs": [
    {
     "name": "stdout",
     "output_type": "stream",
     "text": [
      "[ 0  1  3  4  6  7  9 11 12 13 14 16 18] [ 2  5  8 10 15 17 19] [2, 1, 0, 2, 3, 0, 1, 1, 0, 2, 0, 2, 2, 3, 4, 0, 1, 0, 2, 0]\n",
      "[ 1  2  4  5  6  7  8 10 13 14 15 16 17 19] [ 0  3  9 11 12 18] [2, 1, 0, 2, 3, 0, 1, 1, 0, 2, 0, 2, 2, 3, 4, 0, 1, 0, 2, 0]\n",
      "[ 0  2  3  4  5  8  9 10 11 12 13 14 15 17 18 19] [ 1  6  7 16] [2, 1, 0, 2, 3, 0, 1, 1, 0, 2, 0, 2, 2, 3, 4, 0, 1, 0, 2, 0]\n",
      "[ 0  1  2  3  5  6  7  8  9 10 11 12 14 15 16 17 18 19] [ 4 13] [2, 1, 0, 2, 3, 0, 1, 1, 0, 2, 0, 2, 2, 3, 4, 0, 1, 0, 2, 0]\n",
      "[ 0  1  2  3  4  5  6  7  8  9 10 11 12 13 15 16 17 18 19] [14] [2, 1, 0, 2, 3, 0, 1, 1, 0, 2, 0, 2, 2, 3, 4, 0, 1, 0, 2, 0]\n"
     ]
    }
   ],
   "source": [
    "gkf = GroupKFold(5)\n",
    "for train_idx, test_idx in gkf.split(X_train.iloc[250:270],groups=X_train['bedrooms'].iloc[250:270]):\n",
    "    print(train_idx, test_idx, list(X_train['bedrooms'].iloc[250:270]))"
   ]
  },
  {
   "cell_type": "markdown",
   "id": "4d8379d1",
   "metadata": {},
   "source": [
    "#### Разницы между sklear GroupKFold и GroupKFold21 нет"
   ]
  },
  {
   "cell_type": "markdown",
   "id": "bf0a027f",
   "metadata": {},
   "source": [
    "StratifiedKFold21"
   ]
  },
  {
   "cell_type": "code",
   "execution_count": 158,
   "id": "05355385",
   "metadata": {},
   "outputs": [
    {
     "name": "stdout",
     "output_type": "stream",
     "text": [
      "Indecies [ 6  9 13 15 16 18 19 20 21 23 24 25 26 27 28 29 30 31 32 33 34 35 36 37\n",
      " 38 39 40 41 42 43 44 45 46 47 48 49] [ 0  1  2  3  4  5  7  8 10 11 12 14 17 22]\n",
      "Count of classes [6, 3, 3, 1, 1] [18, 6, 6, 3, 3] [24, 9, 9, 4, 4]\n",
      "Indecies [ 0  1  2  3  4  5  7  8  9 10 11 12 14 17 21 22 27 28 29 30 32 33 34 35\n",
      " 36 37 38 39 40 41 42 43 44 45 46 47 48 49] [ 6 13 15 16 18 19 20 23 24 25 26 31]\n",
      "Count of classes [6, 2, 2, 1, 1] [18, 7, 7, 3, 3] [24, 9, 9, 4, 4]\n",
      "Indecies [ 0  1  2  3  4  5  6  7  8 10 11 12 13 14 15 16 17 18 19 20 21 22 23 24\n",
      " 25 26 31 35 39 40 41 42 43 44 46 47 48 49] [ 9 27 28 29 30 32 33 34 36 37 38 45]\n",
      "Count of classes [6, 2, 2, 1, 1] [18, 7, 7, 3, 3] [24, 9, 9, 4, 4]\n",
      "Indecies [ 0  1  2  3  4  5  6  7  8  9 10 11 12 13 14 15 16 17 18 19 20 22 23 24\n",
      " 25 26 27 28 29 30 31 32 33 34 36 37 38 45] [21 35 39 40 41 42 43 44 46 47 48 49]\n",
      "Count of classes [6, 2, 2, 1, 1] [18, 7, 7, 3, 3] [24, 9, 9, 4, 4]\n"
     ]
    }
   ],
   "source": [
    "y_small = y_train_labeled[:50]\n",
    "skf21 = StratifiedKFold21(4,y_small)\n",
    "for train_idx, test_idx in skf21.split(X_train.iloc[:50]):\n",
    "    print ('Indecies',train_idx,test_idx)\n",
    "    print('Count of classes',list(y_small.iloc[test_idx].value_counts()),list(y_small.iloc[train_idx].value_counts()),list(y_small.value_counts()))\n",
    "\n"
   ]
  },
  {
   "cell_type": "markdown",
   "id": "91215170",
   "metadata": {},
   "source": [
    "Sklearn StratifiedKFold"
   ]
  },
  {
   "cell_type": "code",
   "execution_count": 159,
   "id": "2a460cbb",
   "metadata": {},
   "outputs": [
    {
     "name": "stdout",
     "output_type": "stream",
     "text": [
      "Indecies [ 6  9 13 15 16 18 19 20 21 22 23 24 25 26 27 28 29 30 31 32 33 34 35 36\n",
      " 37 38 39 40 41 42 43 44 45 46 47 48 49] [ 0  1  2  3  4  5  7  8 10 11 12 14 17]\n",
      "Count of classes [6, 3, 2, 1, 1] [18, 7, 6, 3, 3] [24, 9, 9, 4, 4]\n",
      "Indecies [ 0  1  2  3  4  5  7  8  9 10 11 12 14 17 21 27 28 29 30 32 33 34 35 36\n",
      " 37 38 39 40 41 42 43 44 45 46 47 48 49] [ 6 13 15 16 18 19 20 22 23 24 25 26 31]\n",
      "Count of classes [6, 3, 2, 1, 1] [18, 7, 6, 3, 3] [24, 9, 9, 4, 4]\n",
      "Indecies [ 0  1  2  3  4  5  6  7  8 10 11 12 13 14 15 16 17 18 19 20 21 22 23 24\n",
      " 25 26 31 35 39 40 41 42 43 44 46 47 48 49] [ 9 27 28 29 30 32 33 34 36 37 38 45]\n",
      "Count of classes [6, 2, 2, 1, 1] [18, 7, 7, 3, 3] [24, 9, 9, 4, 4]\n",
      "Indecies [ 0  1  2  3  4  5  6  7  8  9 10 11 12 13 14 15 16 17 18 19 20 22 23 24\n",
      " 25 26 27 28 29 30 31 32 33 34 36 37 38 45] [21 35 39 40 41 42 43 44 46 47 48 49]\n",
      "Count of classes [6, 2, 2, 1, 1] [18, 7, 7, 3, 3] [24, 9, 9, 4, 4]\n"
     ]
    }
   ],
   "source": [
    "y_small = y_train_labeled[:50]\n",
    "skf = StratifiedKFold(4)\n",
    "for train_idx, test_idx in skf.split(X_train.iloc[:50],y=y_small):\n",
    "    print ('Indecies',train_idx,test_idx)\n",
    "    print('Count of classes',list(y_small.iloc[test_idx].value_counts()),list(y_small.iloc[train_idx].value_counts()),list(y_small.value_counts()))\n",
    "\n"
   ]
  },
  {
   "cell_type": "markdown",
   "id": "ba5b241c",
   "metadata": {},
   "source": [
    "#### Разницы между sklearn StratifiedKFold и StratifiedKFold21 практически нет\n"
   ]
  },
  {
   "cell_type": "code",
   "execution_count": 160,
   "id": "3ae7706b",
   "metadata": {},
   "outputs": [],
   "source": [
    "tss21 = TimeSeriesSplit21(3,X_train['created'])\n"
   ]
  },
  {
   "cell_type": "code",
   "execution_count": 161,
   "id": "63dd0b52",
   "metadata": {},
   "outputs": [],
   "source": [
    "X_sorted = X_train.copy().sort_values('created')\n",
    "tss = TimeSeriesSplit(n_splits=3)\n",
    "\n",
    "\n"
   ]
  },
  {
   "cell_type": "code",
   "execution_count": 162,
   "id": "98f14415",
   "metadata": {},
   "outputs": [
    {
     "name": "stdout",
     "output_type": "stream",
     "text": [
      "TSS fold=0: max Δmean=0.000000, max Δstd=0.000000\n"
     ]
    },
    {
     "data": {
      "text/html": [
       "<div>\n",
       "<style scoped>\n",
       "    .dataframe tbody tr th:only-of-type {\n",
       "        vertical-align: middle;\n",
       "    }\n",
       "\n",
       "    .dataframe tbody tr th {\n",
       "        vertical-align: top;\n",
       "    }\n",
       "\n",
       "    .dataframe thead th {\n",
       "        text-align: right;\n",
       "    }\n",
       "</style>\n",
       "<table border=\"1\" class=\"dataframe\">\n",
       "  <thead>\n",
       "    <tr style=\"text-align: right;\">\n",
       "      <th></th>\n",
       "      <th>mean_own</th>\n",
       "      <th>mean_skl</th>\n",
       "      <th>std_own</th>\n",
       "      <th>std_skl</th>\n",
       "      <th>Δmean</th>\n",
       "      <th>Δstd</th>\n",
       "    </tr>\n",
       "  </thead>\n",
       "  <tbody>\n",
       "    <tr>\n",
       "      <th>Elevator</th>\n",
       "      <td>0.523991</td>\n",
       "      <td>0.523991</td>\n",
       "      <td>0.499424</td>\n",
       "      <td>0.499424</td>\n",
       "      <td>0.0</td>\n",
       "      <td>0.0</td>\n",
       "    </tr>\n",
       "    <tr>\n",
       "      <th>HardwoodFloors</th>\n",
       "      <td>0.484365</td>\n",
       "      <td>0.484365</td>\n",
       "      <td>0.499755</td>\n",
       "      <td>0.499755</td>\n",
       "      <td>0.0</td>\n",
       "      <td>0.0</td>\n",
       "    </tr>\n",
       "    <tr>\n",
       "      <th>bathrooms</th>\n",
       "      <td>1.190313</td>\n",
       "      <td>1.190313</td>\n",
       "      <td>0.451296</td>\n",
       "      <td>0.451296</td>\n",
       "      <td>0.0</td>\n",
       "      <td>0.0</td>\n",
       "    </tr>\n",
       "    <tr>\n",
       "      <th>Terrace</th>\n",
       "      <td>0.045086</td>\n",
       "      <td>0.045086</td>\n",
       "      <td>0.207493</td>\n",
       "      <td>0.207493</td>\n",
       "      <td>0.0</td>\n",
       "      <td>0.0</td>\n",
       "    </tr>\n",
       "    <tr>\n",
       "      <th>NewConstruction</th>\n",
       "      <td>0.053359</td>\n",
       "      <td>0.053359</td>\n",
       "      <td>0.224748</td>\n",
       "      <td>0.224748</td>\n",
       "      <td>0.0</td>\n",
       "      <td>0.0</td>\n",
       "    </tr>\n",
       "  </tbody>\n",
       "</table>\n",
       "</div>"
      ],
      "text/plain": [
       "                 mean_own  mean_skl   std_own   std_skl  Δmean  Δstd\n",
       "Elevator         0.523991  0.523991  0.499424  0.499424    0.0   0.0\n",
       "HardwoodFloors   0.484365  0.484365  0.499755  0.499755    0.0   0.0\n",
       "bathrooms        1.190313  1.190313  0.451296  0.451296    0.0   0.0\n",
       "Terrace          0.045086  0.045086  0.207493  0.207493    0.0   0.0\n",
       "NewConstruction  0.053359  0.053359  0.224748  0.224748    0.0   0.0"
      ]
     },
     "metadata": {},
     "output_type": "display_data"
    },
    {
     "name": "stdout",
     "output_type": "stream",
     "text": [
      "TSS fold=1: max Δmean=0.000000, max Δstd=0.000000\n"
     ]
    },
    {
     "data": {
      "text/html": [
       "<div>\n",
       "<style scoped>\n",
       "    .dataframe tbody tr th:only-of-type {\n",
       "        vertical-align: middle;\n",
       "    }\n",
       "\n",
       "    .dataframe tbody tr th {\n",
       "        vertical-align: top;\n",
       "    }\n",
       "\n",
       "    .dataframe thead th {\n",
       "        text-align: right;\n",
       "    }\n",
       "</style>\n",
       "<table border=\"1\" class=\"dataframe\">\n",
       "  <thead>\n",
       "    <tr style=\"text-align: right;\">\n",
       "      <th></th>\n",
       "      <th>mean_own</th>\n",
       "      <th>mean_skl</th>\n",
       "      <th>std_own</th>\n",
       "      <th>std_skl</th>\n",
       "      <th>Δmean</th>\n",
       "      <th>Δstd</th>\n",
       "    </tr>\n",
       "  </thead>\n",
       "  <tbody>\n",
       "    <tr>\n",
       "      <th>Elevator</th>\n",
       "      <td>0.533364</td>\n",
       "      <td>0.533364</td>\n",
       "      <td>0.498886</td>\n",
       "      <td>0.498886</td>\n",
       "      <td>0.0</td>\n",
       "      <td>0.0</td>\n",
       "    </tr>\n",
       "    <tr>\n",
       "      <th>HardwoodFloors</th>\n",
       "      <td>0.484963</td>\n",
       "      <td>0.484963</td>\n",
       "      <td>0.499774</td>\n",
       "      <td>0.499774</td>\n",
       "      <td>0.0</td>\n",
       "      <td>0.0</td>\n",
       "    </tr>\n",
       "    <tr>\n",
       "      <th>bathrooms</th>\n",
       "      <td>1.194742</td>\n",
       "      <td>1.194742</td>\n",
       "      <td>0.455390</td>\n",
       "      <td>0.455390</td>\n",
       "      <td>0.0</td>\n",
       "      <td>0.0</td>\n",
       "    </tr>\n",
       "    <tr>\n",
       "      <th>Terrace</th>\n",
       "      <td>0.046126</td>\n",
       "      <td>0.046126</td>\n",
       "      <td>0.209758</td>\n",
       "      <td>0.209758</td>\n",
       "      <td>0.0</td>\n",
       "      <td>0.0</td>\n",
       "    </tr>\n",
       "    <tr>\n",
       "      <th>NewConstruction</th>\n",
       "      <td>0.051256</td>\n",
       "      <td>0.051256</td>\n",
       "      <td>0.220518</td>\n",
       "      <td>0.220518</td>\n",
       "      <td>0.0</td>\n",
       "      <td>0.0</td>\n",
       "    </tr>\n",
       "  </tbody>\n",
       "</table>\n",
       "</div>"
      ],
      "text/plain": [
       "                 mean_own  mean_skl   std_own   std_skl  Δmean  Δstd\n",
       "Elevator         0.533364  0.533364  0.498886  0.498886    0.0   0.0\n",
       "HardwoodFloors   0.484963  0.484963  0.499774  0.499774    0.0   0.0\n",
       "bathrooms        1.194742  1.194742  0.455390  0.455390    0.0   0.0\n",
       "Terrace          0.046126  0.046126  0.209758  0.209758    0.0   0.0\n",
       "NewConstruction  0.051256  0.051256  0.220518  0.220518    0.0   0.0"
      ]
     },
     "metadata": {},
     "output_type": "display_data"
    },
    {
     "name": "stdout",
     "output_type": "stream",
     "text": [
      "TSS fold=2: max Δmean=0.000000, max Δstd=0.000000\n"
     ]
    },
    {
     "data": {
      "text/html": [
       "<div>\n",
       "<style scoped>\n",
       "    .dataframe tbody tr th:only-of-type {\n",
       "        vertical-align: middle;\n",
       "    }\n",
       "\n",
       "    .dataframe tbody tr th {\n",
       "        vertical-align: top;\n",
       "    }\n",
       "\n",
       "    .dataframe thead th {\n",
       "        text-align: right;\n",
       "    }\n",
       "</style>\n",
       "<table border=\"1\" class=\"dataframe\">\n",
       "  <thead>\n",
       "    <tr style=\"text-align: right;\">\n",
       "      <th></th>\n",
       "      <th>mean_own</th>\n",
       "      <th>mean_skl</th>\n",
       "      <th>std_own</th>\n",
       "      <th>std_skl</th>\n",
       "      <th>Δmean</th>\n",
       "      <th>Δstd</th>\n",
       "    </tr>\n",
       "  </thead>\n",
       "  <tbody>\n",
       "    <tr>\n",
       "      <th>Elevator</th>\n",
       "      <td>0.532131</td>\n",
       "      <td>0.532131</td>\n",
       "      <td>0.498967</td>\n",
       "      <td>0.498967</td>\n",
       "      <td>0.0</td>\n",
       "      <td>0.0</td>\n",
       "    </tr>\n",
       "    <tr>\n",
       "      <th>HardwoodFloors</th>\n",
       "      <td>0.486182</td>\n",
       "      <td>0.486182</td>\n",
       "      <td>0.499809</td>\n",
       "      <td>0.499809</td>\n",
       "      <td>0.0</td>\n",
       "      <td>0.0</td>\n",
       "    </tr>\n",
       "    <tr>\n",
       "      <th>bathrooms</th>\n",
       "      <td>1.197625</td>\n",
       "      <td>1.197625</td>\n",
       "      <td>0.459099</td>\n",
       "      <td>0.459099</td>\n",
       "      <td>0.0</td>\n",
       "      <td>0.0</td>\n",
       "    </tr>\n",
       "    <tr>\n",
       "      <th>Terrace</th>\n",
       "      <td>0.046997</td>\n",
       "      <td>0.046997</td>\n",
       "      <td>0.211631</td>\n",
       "      <td>0.211631</td>\n",
       "      <td>0.0</td>\n",
       "      <td>0.0</td>\n",
       "    </tr>\n",
       "    <tr>\n",
       "      <th>NewConstruction</th>\n",
       "      <td>0.051547</td>\n",
       "      <td>0.051547</td>\n",
       "      <td>0.221111</td>\n",
       "      <td>0.221111</td>\n",
       "      <td>0.0</td>\n",
       "      <td>0.0</td>\n",
       "    </tr>\n",
       "  </tbody>\n",
       "</table>\n",
       "</div>"
      ],
      "text/plain": [
       "                 mean_own  mean_skl   std_own   std_skl  Δmean  Δstd\n",
       "Elevator         0.532131  0.532131  0.498967  0.498967    0.0   0.0\n",
       "HardwoodFloors   0.486182  0.486182  0.499809  0.499809    0.0   0.0\n",
       "bathrooms        1.197625  1.197625  0.459099  0.459099    0.0   0.0\n",
       "Terrace          0.046997  0.046997  0.211631  0.211631    0.0   0.0\n",
       "NewConstruction  0.051547  0.051547  0.221111  0.221111    0.0   0.0"
      ]
     },
     "metadata": {},
     "output_type": "display_data"
    }
   ],
   "source": [
    "for fold, ((tr_own, _), (tr_skl, _)) in enumerate(zip(tss21.split(X_train), tss.split(X_sorted))):\n",
    "    X_train_own = X_train.loc[tr_own][feature_list]\n",
    "    X_train_skl = X_sorted.iloc[tr_skl][feature_list]\n",
    "    stats = compare_train_distributions(X_train_own, X_train_skl)\n",
    "    print(f'TSS fold={fold}: max Δmean={stats[\"Δmean\"].max():.6f}, max Δstd={stats[\"Δstd\"].max():.6f}')\n",
    "    display(stats.head(5))"
   ]
  },
  {
   "cell_type": "markdown",
   "id": "568ee22d",
   "metadata": {},
   "source": [
    "#### Разницы между sklearn TimeSeriesSplit и TimeSeriesSplit21 на отсортированном по времени датасете нет.\n",
    "    TimeSeriesSplit21 корректно разделяет по дате неотсортированные массивы\n"
   ]
  },
  {
   "cell_type": "markdown",
   "id": "bf2cc833",
   "metadata": {},
   "source": [
    "### 5.4 Compare all validation schemes. Choose the best one. Explain your choice."
   ]
  },
  {
   "cell_type": "markdown",
   "id": "e6010fae",
   "metadata": {},
   "source": [
    "##### K-Fold (random) — предполагает i.i.d.; ломает временной порядок → утечки и завышенные метрики.\n",
    "\n",
    "##### Stratified K-Fold (по бинам price) — держит доли классов, но также предполагает i.i.d. и утечки по времени/повторам.\n",
    "\n",
    "##### Group K-Fold по bedrooms — нет подходящего столбца в признаках который можно использовать как группу, утечки не предотвращает и может смещать оценку.\n",
    "\n",
    "\n",
    "##### TimeSeriesSplit (created) — сохраняет причинность «прошлое→будущее», без утечек.\n",
    "\n",
    "#### Выбор:\n",
    "#### Берём TimeSeriesSplit по created. Это единственная схема из перечисленных, которая соответствует реальному использованию (предсказание для будущих объявлений) и минимизирует утечки"
   ]
  },
  {
   "cell_type": "markdown",
   "id": "6a0afef3",
   "metadata": {},
   "source": [
    "## 6 Feature Selection\n",
    "### 6.1 Fit a Lasso regression model with normalized features. Use your method for splitting samples into 3 parts by field created with 60/20/20 ratio — train/validation/test.\n"
   ]
  },
  {
   "cell_type": "code",
   "execution_count": 236,
   "id": "8b6a0fa3",
   "metadata": {},
   "outputs": [],
   "source": [
    "ts = pd.to_datetime(X_train['created'], utc=True, errors='coerce')\n",
    "val_date, test_date = ts.quantile(0.6), ts.quantile(0.8)\n"
   ]
  },
  {
   "cell_type": "code",
   "execution_count": 237,
   "id": "b09f58ae",
   "metadata": {},
   "outputs": [],
   "source": [
    "xtrain,xval,xtest,ytrain,yval,ytest = train_val_test_date_split(X_train,y_train,'created',val_date,test_date)"
   ]
  },
  {
   "cell_type": "code",
   "execution_count": 239,
   "id": "70f327ff",
   "metadata": {},
   "outputs": [
    {
     "name": "stdout",
     "output_type": "stream",
     "text": [
      "0.6000041371036138 0.19998758868915872 0.20000827420722753\n"
     ]
    }
   ],
   "source": [
    "print(xtrain.shape[0]/X_train.shape[0],xval.shape[0]/X_train.shape[0],xtest.shape[0]/X_train.shape[0])"
   ]
  },
  {
   "cell_type": "code",
   "execution_count": 240,
   "id": "7a7c8fea",
   "metadata": {},
   "outputs": [],
   "source": [
    "xtrain.drop(columns='created',inplace=True)\n",
    "xval.drop(columns='created',inplace=True)\n",
    "xtest.drop(columns='created',inplace=True)"
   ]
  },
  {
   "cell_type": "code",
   "execution_count": 242,
   "id": "a0d3c92a",
   "metadata": {},
   "outputs": [],
   "source": [
    "s = StandardScaler()\n",
    "xtrain_s = pd.DataFrame(s.fit_transform(xtrain,ytrain),columns=xtrain.columns,index=xtrain.index)\n",
    "xval_s = pd.DataFrame(s.transform(xval),columns=xval.columns,index=xval.index)\n",
    "xtest_s = pd.DataFrame(s.transform(xtest),columns=xtest.columns,index=xtest.index)"
   ]
  },
  {
   "cell_type": "code",
   "execution_count": 245,
   "id": "37aa9929",
   "metadata": {},
   "outputs": [],
   "source": [
    "alphas = np.logspace(0.1,0.8,100)\n",
    "\n",
    "\n"
   ]
  },
  {
   "cell_type": "code",
   "execution_count": 246,
   "id": "55141703",
   "metadata": {},
   "outputs": [],
   "source": [
    "best = None\n",
    "for alpha in alphas:\n",
    "    model = Lasso(alpha=alpha,max_iter=10000)\n",
    "    model.fit(xtrain_s,ytrain)\n",
    "    y_pred = model.predict(xval_s)\n",
    "    mae = mean_absolute_error(yval,y_pred)\n",
    "    if best is None or best[1]>mae:\n",
    "        best = (alpha,mae)\n"
   ]
  },
  {
   "cell_type": "code",
   "execution_count": 247,
   "id": "bcd0ebcf",
   "metadata": {},
   "outputs": [
    {
     "data": {
      "text/plain": [
       "(np.float64(6.309573444801933), 691.0349766659451)"
      ]
     },
     "execution_count": 247,
     "metadata": {},
     "output_type": "execute_result"
    }
   ],
   "source": [
    "best_alpha = best[0]\n",
    "best"
   ]
  },
  {
   "cell_type": "code",
   "execution_count": 275,
   "id": "f26b1c75",
   "metadata": {},
   "outputs": [
    {
     "data": {
      "text/html": [
       "<style>#sk-container-id-3 {\n",
       "  /* Definition of color scheme common for light and dark mode */\n",
       "  --sklearn-color-text: #000;\n",
       "  --sklearn-color-text-muted: #666;\n",
       "  --sklearn-color-line: gray;\n",
       "  /* Definition of color scheme for unfitted estimators */\n",
       "  --sklearn-color-unfitted-level-0: #fff5e6;\n",
       "  --sklearn-color-unfitted-level-1: #f6e4d2;\n",
       "  --sklearn-color-unfitted-level-2: #ffe0b3;\n",
       "  --sklearn-color-unfitted-level-3: chocolate;\n",
       "  /* Definition of color scheme for fitted estimators */\n",
       "  --sklearn-color-fitted-level-0: #f0f8ff;\n",
       "  --sklearn-color-fitted-level-1: #d4ebff;\n",
       "  --sklearn-color-fitted-level-2: #b3dbfd;\n",
       "  --sklearn-color-fitted-level-3: cornflowerblue;\n",
       "\n",
       "  /* Specific color for light theme */\n",
       "  --sklearn-color-text-on-default-background: var(--sg-text-color, var(--theme-code-foreground, var(--jp-content-font-color1, black)));\n",
       "  --sklearn-color-background: var(--sg-background-color, var(--theme-background, var(--jp-layout-color0, white)));\n",
       "  --sklearn-color-border-box: var(--sg-text-color, var(--theme-code-foreground, var(--jp-content-font-color1, black)));\n",
       "  --sklearn-color-icon: #696969;\n",
       "\n",
       "  @media (prefers-color-scheme: dark) {\n",
       "    /* Redefinition of color scheme for dark theme */\n",
       "    --sklearn-color-text-on-default-background: var(--sg-text-color, var(--theme-code-foreground, var(--jp-content-font-color1, white)));\n",
       "    --sklearn-color-background: var(--sg-background-color, var(--theme-background, var(--jp-layout-color0, #111)));\n",
       "    --sklearn-color-border-box: var(--sg-text-color, var(--theme-code-foreground, var(--jp-content-font-color1, white)));\n",
       "    --sklearn-color-icon: #878787;\n",
       "  }\n",
       "}\n",
       "\n",
       "#sk-container-id-3 {\n",
       "  color: var(--sklearn-color-text);\n",
       "}\n",
       "\n",
       "#sk-container-id-3 pre {\n",
       "  padding: 0;\n",
       "}\n",
       "\n",
       "#sk-container-id-3 input.sk-hidden--visually {\n",
       "  border: 0;\n",
       "  clip: rect(1px 1px 1px 1px);\n",
       "  clip: rect(1px, 1px, 1px, 1px);\n",
       "  height: 1px;\n",
       "  margin: -1px;\n",
       "  overflow: hidden;\n",
       "  padding: 0;\n",
       "  position: absolute;\n",
       "  width: 1px;\n",
       "}\n",
       "\n",
       "#sk-container-id-3 div.sk-dashed-wrapped {\n",
       "  border: 1px dashed var(--sklearn-color-line);\n",
       "  margin: 0 0.4em 0.5em 0.4em;\n",
       "  box-sizing: border-box;\n",
       "  padding-bottom: 0.4em;\n",
       "  background-color: var(--sklearn-color-background);\n",
       "}\n",
       "\n",
       "#sk-container-id-3 div.sk-container {\n",
       "  /* jupyter's `normalize.less` sets `[hidden] { display: none; }`\n",
       "     but bootstrap.min.css set `[hidden] { display: none !important; }`\n",
       "     so we also need the `!important` here to be able to override the\n",
       "     default hidden behavior on the sphinx rendered scikit-learn.org.\n",
       "     See: https://github.com/scikit-learn/scikit-learn/issues/21755 */\n",
       "  display: inline-block !important;\n",
       "  position: relative;\n",
       "}\n",
       "\n",
       "#sk-container-id-3 div.sk-text-repr-fallback {\n",
       "  display: none;\n",
       "}\n",
       "\n",
       "div.sk-parallel-item,\n",
       "div.sk-serial,\n",
       "div.sk-item {\n",
       "  /* draw centered vertical line to link estimators */\n",
       "  background-image: linear-gradient(var(--sklearn-color-text-on-default-background), var(--sklearn-color-text-on-default-background));\n",
       "  background-size: 2px 100%;\n",
       "  background-repeat: no-repeat;\n",
       "  background-position: center center;\n",
       "}\n",
       "\n",
       "/* Parallel-specific style estimator block */\n",
       "\n",
       "#sk-container-id-3 div.sk-parallel-item::after {\n",
       "  content: \"\";\n",
       "  width: 100%;\n",
       "  border-bottom: 2px solid var(--sklearn-color-text-on-default-background);\n",
       "  flex-grow: 1;\n",
       "}\n",
       "\n",
       "#sk-container-id-3 div.sk-parallel {\n",
       "  display: flex;\n",
       "  align-items: stretch;\n",
       "  justify-content: center;\n",
       "  background-color: var(--sklearn-color-background);\n",
       "  position: relative;\n",
       "}\n",
       "\n",
       "#sk-container-id-3 div.sk-parallel-item {\n",
       "  display: flex;\n",
       "  flex-direction: column;\n",
       "}\n",
       "\n",
       "#sk-container-id-3 div.sk-parallel-item:first-child::after {\n",
       "  align-self: flex-end;\n",
       "  width: 50%;\n",
       "}\n",
       "\n",
       "#sk-container-id-3 div.sk-parallel-item:last-child::after {\n",
       "  align-self: flex-start;\n",
       "  width: 50%;\n",
       "}\n",
       "\n",
       "#sk-container-id-3 div.sk-parallel-item:only-child::after {\n",
       "  width: 0;\n",
       "}\n",
       "\n",
       "/* Serial-specific style estimator block */\n",
       "\n",
       "#sk-container-id-3 div.sk-serial {\n",
       "  display: flex;\n",
       "  flex-direction: column;\n",
       "  align-items: center;\n",
       "  background-color: var(--sklearn-color-background);\n",
       "  padding-right: 1em;\n",
       "  padding-left: 1em;\n",
       "}\n",
       "\n",
       "\n",
       "/* Toggleable style: style used for estimator/Pipeline/ColumnTransformer box that is\n",
       "clickable and can be expanded/collapsed.\n",
       "- Pipeline and ColumnTransformer use this feature and define the default style\n",
       "- Estimators will overwrite some part of the style using the `sk-estimator` class\n",
       "*/\n",
       "\n",
       "/* Pipeline and ColumnTransformer style (default) */\n",
       "\n",
       "#sk-container-id-3 div.sk-toggleable {\n",
       "  /* Default theme specific background. It is overwritten whether we have a\n",
       "  specific estimator or a Pipeline/ColumnTransformer */\n",
       "  background-color: var(--sklearn-color-background);\n",
       "}\n",
       "\n",
       "/* Toggleable label */\n",
       "#sk-container-id-3 label.sk-toggleable__label {\n",
       "  cursor: pointer;\n",
       "  display: flex;\n",
       "  width: 100%;\n",
       "  margin-bottom: 0;\n",
       "  padding: 0.5em;\n",
       "  box-sizing: border-box;\n",
       "  text-align: center;\n",
       "  align-items: start;\n",
       "  justify-content: space-between;\n",
       "  gap: 0.5em;\n",
       "}\n",
       "\n",
       "#sk-container-id-3 label.sk-toggleable__label .caption {\n",
       "  font-size: 0.6rem;\n",
       "  font-weight: lighter;\n",
       "  color: var(--sklearn-color-text-muted);\n",
       "}\n",
       "\n",
       "#sk-container-id-3 label.sk-toggleable__label-arrow:before {\n",
       "  /* Arrow on the left of the label */\n",
       "  content: \"▸\";\n",
       "  float: left;\n",
       "  margin-right: 0.25em;\n",
       "  color: var(--sklearn-color-icon);\n",
       "}\n",
       "\n",
       "#sk-container-id-3 label.sk-toggleable__label-arrow:hover:before {\n",
       "  color: var(--sklearn-color-text);\n",
       "}\n",
       "\n",
       "/* Toggleable content - dropdown */\n",
       "\n",
       "#sk-container-id-3 div.sk-toggleable__content {\n",
       "  display: none;\n",
       "  text-align: left;\n",
       "  /* unfitted */\n",
       "  background-color: var(--sklearn-color-unfitted-level-0);\n",
       "}\n",
       "\n",
       "#sk-container-id-3 div.sk-toggleable__content.fitted {\n",
       "  /* fitted */\n",
       "  background-color: var(--sklearn-color-fitted-level-0);\n",
       "}\n",
       "\n",
       "#sk-container-id-3 div.sk-toggleable__content pre {\n",
       "  margin: 0.2em;\n",
       "  border-radius: 0.25em;\n",
       "  color: var(--sklearn-color-text);\n",
       "  /* unfitted */\n",
       "  background-color: var(--sklearn-color-unfitted-level-0);\n",
       "}\n",
       "\n",
       "#sk-container-id-3 div.sk-toggleable__content.fitted pre {\n",
       "  /* unfitted */\n",
       "  background-color: var(--sklearn-color-fitted-level-0);\n",
       "}\n",
       "\n",
       "#sk-container-id-3 input.sk-toggleable__control:checked~div.sk-toggleable__content {\n",
       "  /* Expand drop-down */\n",
       "  display: block;\n",
       "  width: 100%;\n",
       "  overflow: visible;\n",
       "}\n",
       "\n",
       "#sk-container-id-3 input.sk-toggleable__control:checked~label.sk-toggleable__label-arrow:before {\n",
       "  content: \"▾\";\n",
       "}\n",
       "\n",
       "/* Pipeline/ColumnTransformer-specific style */\n",
       "\n",
       "#sk-container-id-3 div.sk-label input.sk-toggleable__control:checked~label.sk-toggleable__label {\n",
       "  color: var(--sklearn-color-text);\n",
       "  background-color: var(--sklearn-color-unfitted-level-2);\n",
       "}\n",
       "\n",
       "#sk-container-id-3 div.sk-label.fitted input.sk-toggleable__control:checked~label.sk-toggleable__label {\n",
       "  background-color: var(--sklearn-color-fitted-level-2);\n",
       "}\n",
       "\n",
       "/* Estimator-specific style */\n",
       "\n",
       "/* Colorize estimator box */\n",
       "#sk-container-id-3 div.sk-estimator input.sk-toggleable__control:checked~label.sk-toggleable__label {\n",
       "  /* unfitted */\n",
       "  background-color: var(--sklearn-color-unfitted-level-2);\n",
       "}\n",
       "\n",
       "#sk-container-id-3 div.sk-estimator.fitted input.sk-toggleable__control:checked~label.sk-toggleable__label {\n",
       "  /* fitted */\n",
       "  background-color: var(--sklearn-color-fitted-level-2);\n",
       "}\n",
       "\n",
       "#sk-container-id-3 div.sk-label label.sk-toggleable__label,\n",
       "#sk-container-id-3 div.sk-label label {\n",
       "  /* The background is the default theme color */\n",
       "  color: var(--sklearn-color-text-on-default-background);\n",
       "}\n",
       "\n",
       "/* On hover, darken the color of the background */\n",
       "#sk-container-id-3 div.sk-label:hover label.sk-toggleable__label {\n",
       "  color: var(--sklearn-color-text);\n",
       "  background-color: var(--sklearn-color-unfitted-level-2);\n",
       "}\n",
       "\n",
       "/* Label box, darken color on hover, fitted */\n",
       "#sk-container-id-3 div.sk-label.fitted:hover label.sk-toggleable__label.fitted {\n",
       "  color: var(--sklearn-color-text);\n",
       "  background-color: var(--sklearn-color-fitted-level-2);\n",
       "}\n",
       "\n",
       "/* Estimator label */\n",
       "\n",
       "#sk-container-id-3 div.sk-label label {\n",
       "  font-family: monospace;\n",
       "  font-weight: bold;\n",
       "  display: inline-block;\n",
       "  line-height: 1.2em;\n",
       "}\n",
       "\n",
       "#sk-container-id-3 div.sk-label-container {\n",
       "  text-align: center;\n",
       "}\n",
       "\n",
       "/* Estimator-specific */\n",
       "#sk-container-id-3 div.sk-estimator {\n",
       "  font-family: monospace;\n",
       "  border: 1px dotted var(--sklearn-color-border-box);\n",
       "  border-radius: 0.25em;\n",
       "  box-sizing: border-box;\n",
       "  margin-bottom: 0.5em;\n",
       "  /* unfitted */\n",
       "  background-color: var(--sklearn-color-unfitted-level-0);\n",
       "}\n",
       "\n",
       "#sk-container-id-3 div.sk-estimator.fitted {\n",
       "  /* fitted */\n",
       "  background-color: var(--sklearn-color-fitted-level-0);\n",
       "}\n",
       "\n",
       "/* on hover */\n",
       "#sk-container-id-3 div.sk-estimator:hover {\n",
       "  /* unfitted */\n",
       "  background-color: var(--sklearn-color-unfitted-level-2);\n",
       "}\n",
       "\n",
       "#sk-container-id-3 div.sk-estimator.fitted:hover {\n",
       "  /* fitted */\n",
       "  background-color: var(--sklearn-color-fitted-level-2);\n",
       "}\n",
       "\n",
       "/* Specification for estimator info (e.g. \"i\" and \"?\") */\n",
       "\n",
       "/* Common style for \"i\" and \"?\" */\n",
       "\n",
       ".sk-estimator-doc-link,\n",
       "a:link.sk-estimator-doc-link,\n",
       "a:visited.sk-estimator-doc-link {\n",
       "  float: right;\n",
       "  font-size: smaller;\n",
       "  line-height: 1em;\n",
       "  font-family: monospace;\n",
       "  background-color: var(--sklearn-color-background);\n",
       "  border-radius: 1em;\n",
       "  height: 1em;\n",
       "  width: 1em;\n",
       "  text-decoration: none !important;\n",
       "  margin-left: 0.5em;\n",
       "  text-align: center;\n",
       "  /* unfitted */\n",
       "  border: var(--sklearn-color-unfitted-level-1) 1pt solid;\n",
       "  color: var(--sklearn-color-unfitted-level-1);\n",
       "}\n",
       "\n",
       ".sk-estimator-doc-link.fitted,\n",
       "a:link.sk-estimator-doc-link.fitted,\n",
       "a:visited.sk-estimator-doc-link.fitted {\n",
       "  /* fitted */\n",
       "  border: var(--sklearn-color-fitted-level-1) 1pt solid;\n",
       "  color: var(--sklearn-color-fitted-level-1);\n",
       "}\n",
       "\n",
       "/* On hover */\n",
       "div.sk-estimator:hover .sk-estimator-doc-link:hover,\n",
       ".sk-estimator-doc-link:hover,\n",
       "div.sk-label-container:hover .sk-estimator-doc-link:hover,\n",
       ".sk-estimator-doc-link:hover {\n",
       "  /* unfitted */\n",
       "  background-color: var(--sklearn-color-unfitted-level-3);\n",
       "  color: var(--sklearn-color-background);\n",
       "  text-decoration: none;\n",
       "}\n",
       "\n",
       "div.sk-estimator.fitted:hover .sk-estimator-doc-link.fitted:hover,\n",
       ".sk-estimator-doc-link.fitted:hover,\n",
       "div.sk-label-container:hover .sk-estimator-doc-link.fitted:hover,\n",
       ".sk-estimator-doc-link.fitted:hover {\n",
       "  /* fitted */\n",
       "  background-color: var(--sklearn-color-fitted-level-3);\n",
       "  color: var(--sklearn-color-background);\n",
       "  text-decoration: none;\n",
       "}\n",
       "\n",
       "/* Span, style for the box shown on hovering the info icon */\n",
       ".sk-estimator-doc-link span {\n",
       "  display: none;\n",
       "  z-index: 9999;\n",
       "  position: relative;\n",
       "  font-weight: normal;\n",
       "  right: .2ex;\n",
       "  padding: .5ex;\n",
       "  margin: .5ex;\n",
       "  width: min-content;\n",
       "  min-width: 20ex;\n",
       "  max-width: 50ex;\n",
       "  color: var(--sklearn-color-text);\n",
       "  box-shadow: 2pt 2pt 4pt #999;\n",
       "  /* unfitted */\n",
       "  background: var(--sklearn-color-unfitted-level-0);\n",
       "  border: .5pt solid var(--sklearn-color-unfitted-level-3);\n",
       "}\n",
       "\n",
       ".sk-estimator-doc-link.fitted span {\n",
       "  /* fitted */\n",
       "  background: var(--sklearn-color-fitted-level-0);\n",
       "  border: var(--sklearn-color-fitted-level-3);\n",
       "}\n",
       "\n",
       ".sk-estimator-doc-link:hover span {\n",
       "  display: block;\n",
       "}\n",
       "\n",
       "/* \"?\"-specific style due to the `<a>` HTML tag */\n",
       "\n",
       "#sk-container-id-3 a.estimator_doc_link {\n",
       "  float: right;\n",
       "  font-size: 1rem;\n",
       "  line-height: 1em;\n",
       "  font-family: monospace;\n",
       "  background-color: var(--sklearn-color-background);\n",
       "  border-radius: 1rem;\n",
       "  height: 1rem;\n",
       "  width: 1rem;\n",
       "  text-decoration: none;\n",
       "  /* unfitted */\n",
       "  color: var(--sklearn-color-unfitted-level-1);\n",
       "  border: var(--sklearn-color-unfitted-level-1) 1pt solid;\n",
       "}\n",
       "\n",
       "#sk-container-id-3 a.estimator_doc_link.fitted {\n",
       "  /* fitted */\n",
       "  border: var(--sklearn-color-fitted-level-1) 1pt solid;\n",
       "  color: var(--sklearn-color-fitted-level-1);\n",
       "}\n",
       "\n",
       "/* On hover */\n",
       "#sk-container-id-3 a.estimator_doc_link:hover {\n",
       "  /* unfitted */\n",
       "  background-color: var(--sklearn-color-unfitted-level-3);\n",
       "  color: var(--sklearn-color-background);\n",
       "  text-decoration: none;\n",
       "}\n",
       "\n",
       "#sk-container-id-3 a.estimator_doc_link.fitted:hover {\n",
       "  /* fitted */\n",
       "  background-color: var(--sklearn-color-fitted-level-3);\n",
       "}\n",
       "\n",
       ".estimator-table summary {\n",
       "    padding: .5rem;\n",
       "    font-family: monospace;\n",
       "    cursor: pointer;\n",
       "}\n",
       "\n",
       ".estimator-table details[open] {\n",
       "    padding-left: 0.1rem;\n",
       "    padding-right: 0.1rem;\n",
       "    padding-bottom: 0.3rem;\n",
       "}\n",
       "\n",
       ".estimator-table .parameters-table {\n",
       "    margin-left: auto !important;\n",
       "    margin-right: auto !important;\n",
       "}\n",
       "\n",
       ".estimator-table .parameters-table tr:nth-child(odd) {\n",
       "    background-color: #fff;\n",
       "}\n",
       "\n",
       ".estimator-table .parameters-table tr:nth-child(even) {\n",
       "    background-color: #f6f6f6;\n",
       "}\n",
       "\n",
       ".estimator-table .parameters-table tr:hover {\n",
       "    background-color: #e0e0e0;\n",
       "}\n",
       "\n",
       ".estimator-table table td {\n",
       "    border: 1px solid rgba(106, 105, 104, 0.232);\n",
       "}\n",
       "\n",
       ".user-set td {\n",
       "    color:rgb(255, 94, 0);\n",
       "    text-align: left;\n",
       "}\n",
       "\n",
       ".user-set td.value pre {\n",
       "    color:rgb(255, 94, 0) !important;\n",
       "    background-color: transparent !important;\n",
       "}\n",
       "\n",
       ".default td {\n",
       "    color: black;\n",
       "    text-align: left;\n",
       "}\n",
       "\n",
       ".user-set td i,\n",
       ".default td i {\n",
       "    color: black;\n",
       "}\n",
       "\n",
       ".copy-paste-icon {\n",
       "    background-image: url(data:image/svg+xml;base64,PHN2ZyB4bWxucz0iaHR0cDovL3d3dy53My5vcmcvMjAwMC9zdmciIHZpZXdCb3g9IjAgMCA0NDggNTEyIj48IS0tIUZvbnQgQXdlc29tZSBGcmVlIDYuNy4yIGJ5IEBmb250YXdlc29tZSAtIGh0dHBzOi8vZm9udGF3ZXNvbWUuY29tIExpY2Vuc2UgLSBodHRwczovL2ZvbnRhd2Vzb21lLmNvbS9saWNlbnNlL2ZyZWUgQ29weXJpZ2h0IDIwMjUgRm9udGljb25zLCBJbmMuLS0+PHBhdGggZD0iTTIwOCAwTDMzMi4xIDBjMTIuNyAwIDI0LjkgNS4xIDMzLjkgMTQuMWw2Ny45IDY3LjljOSA5IDE0LjEgMjEuMiAxNC4xIDMzLjlMNDQ4IDMzNmMwIDI2LjUtMjEuNSA0OC00OCA0OGwtMTkyIDBjLTI2LjUgMC00OC0yMS41LTQ4LTQ4bDAtMjg4YzAtMjYuNSAyMS41LTQ4IDQ4LTQ4ek00OCAxMjhsODAgMCAwIDY0LTY0IDAgMCAyNTYgMTkyIDAgMC0zMiA2NCAwIDAgNDhjMCAyNi41LTIxLjUgNDgtNDggNDhMNDggNTEyYy0yNi41IDAtNDgtMjEuNS00OC00OEwwIDE3NmMwLTI2LjUgMjEuNS00OCA0OC00OHoiLz48L3N2Zz4=);\n",
       "    background-repeat: no-repeat;\n",
       "    background-size: 14px 14px;\n",
       "    background-position: 0;\n",
       "    display: inline-block;\n",
       "    width: 14px;\n",
       "    height: 14px;\n",
       "    cursor: pointer;\n",
       "}\n",
       "</style><body><div id=\"sk-container-id-3\" class=\"sk-top-container\"><div class=\"sk-text-repr-fallback\"><pre>Lasso(alpha=10)</pre><b>In a Jupyter environment, please rerun this cell to show the HTML representation or trust the notebook. <br />On GitHub, the HTML representation is unable to render, please try loading this page with nbviewer.org.</b></div><div class=\"sk-container\" hidden><div class=\"sk-item\"><div class=\"sk-estimator fitted sk-toggleable\"><input class=\"sk-toggleable__control sk-hidden--visually\" id=\"sk-estimator-id-5\" type=\"checkbox\" checked><label for=\"sk-estimator-id-5\" class=\"sk-toggleable__label fitted sk-toggleable__label-arrow\"><div><div>Lasso</div></div><div><a class=\"sk-estimator-doc-link fitted\" rel=\"noreferrer\" target=\"_blank\" href=\"https://scikit-learn.org/1.7/modules/generated/sklearn.linear_model.Lasso.html\">?<span>Documentation for Lasso</span></a><span class=\"sk-estimator-doc-link fitted\">i<span>Fitted</span></span></div></label><div class=\"sk-toggleable__content fitted\" data-param-prefix=\"\">\n",
       "        <div class=\"estimator-table\">\n",
       "            <details>\n",
       "                <summary>Parameters</summary>\n",
       "                <table class=\"parameters-table\">\n",
       "                  <tbody>\n",
       "                    \n",
       "        <tr class=\"user-set\">\n",
       "            <td><i class=\"copy-paste-icon\"\n",
       "                 onclick=\"copyToClipboard('alpha',\n",
       "                          this.parentElement.nextElementSibling)\"\n",
       "            ></i></td>\n",
       "            <td class=\"param\">alpha&nbsp;</td>\n",
       "            <td class=\"value\">10</td>\n",
       "        </tr>\n",
       "    \n",
       "\n",
       "        <tr class=\"default\">\n",
       "            <td><i class=\"copy-paste-icon\"\n",
       "                 onclick=\"copyToClipboard('fit_intercept',\n",
       "                          this.parentElement.nextElementSibling)\"\n",
       "            ></i></td>\n",
       "            <td class=\"param\">fit_intercept&nbsp;</td>\n",
       "            <td class=\"value\">True</td>\n",
       "        </tr>\n",
       "    \n",
       "\n",
       "        <tr class=\"default\">\n",
       "            <td><i class=\"copy-paste-icon\"\n",
       "                 onclick=\"copyToClipboard('precompute',\n",
       "                          this.parentElement.nextElementSibling)\"\n",
       "            ></i></td>\n",
       "            <td class=\"param\">precompute&nbsp;</td>\n",
       "            <td class=\"value\">False</td>\n",
       "        </tr>\n",
       "    \n",
       "\n",
       "        <tr class=\"default\">\n",
       "            <td><i class=\"copy-paste-icon\"\n",
       "                 onclick=\"copyToClipboard('copy_X',\n",
       "                          this.parentElement.nextElementSibling)\"\n",
       "            ></i></td>\n",
       "            <td class=\"param\">copy_X&nbsp;</td>\n",
       "            <td class=\"value\">True</td>\n",
       "        </tr>\n",
       "    \n",
       "\n",
       "        <tr class=\"default\">\n",
       "            <td><i class=\"copy-paste-icon\"\n",
       "                 onclick=\"copyToClipboard('max_iter',\n",
       "                          this.parentElement.nextElementSibling)\"\n",
       "            ></i></td>\n",
       "            <td class=\"param\">max_iter&nbsp;</td>\n",
       "            <td class=\"value\">1000</td>\n",
       "        </tr>\n",
       "    \n",
       "\n",
       "        <tr class=\"default\">\n",
       "            <td><i class=\"copy-paste-icon\"\n",
       "                 onclick=\"copyToClipboard('tol',\n",
       "                          this.parentElement.nextElementSibling)\"\n",
       "            ></i></td>\n",
       "            <td class=\"param\">tol&nbsp;</td>\n",
       "            <td class=\"value\">0.0001</td>\n",
       "        </tr>\n",
       "    \n",
       "\n",
       "        <tr class=\"default\">\n",
       "            <td><i class=\"copy-paste-icon\"\n",
       "                 onclick=\"copyToClipboard('warm_start',\n",
       "                          this.parentElement.nextElementSibling)\"\n",
       "            ></i></td>\n",
       "            <td class=\"param\">warm_start&nbsp;</td>\n",
       "            <td class=\"value\">False</td>\n",
       "        </tr>\n",
       "    \n",
       "\n",
       "        <tr class=\"default\">\n",
       "            <td><i class=\"copy-paste-icon\"\n",
       "                 onclick=\"copyToClipboard('positive',\n",
       "                          this.parentElement.nextElementSibling)\"\n",
       "            ></i></td>\n",
       "            <td class=\"param\">positive&nbsp;</td>\n",
       "            <td class=\"value\">False</td>\n",
       "        </tr>\n",
       "    \n",
       "\n",
       "        <tr class=\"default\">\n",
       "            <td><i class=\"copy-paste-icon\"\n",
       "                 onclick=\"copyToClipboard('random_state',\n",
       "                          this.parentElement.nextElementSibling)\"\n",
       "            ></i></td>\n",
       "            <td class=\"param\">random_state&nbsp;</td>\n",
       "            <td class=\"value\">None</td>\n",
       "        </tr>\n",
       "    \n",
       "\n",
       "        <tr class=\"default\">\n",
       "            <td><i class=\"copy-paste-icon\"\n",
       "                 onclick=\"copyToClipboard('selection',\n",
       "                          this.parentElement.nextElementSibling)\"\n",
       "            ></i></td>\n",
       "            <td class=\"param\">selection&nbsp;</td>\n",
       "            <td class=\"value\">&#x27;cyclic&#x27;</td>\n",
       "        </tr>\n",
       "    \n",
       "                  </tbody>\n",
       "                </table>\n",
       "            </details>\n",
       "        </div>\n",
       "    </div></div></div></div></div><script>function copyToClipboard(text, element) {\n",
       "    // Get the parameter prefix from the closest toggleable content\n",
       "    const toggleableContent = element.closest('.sk-toggleable__content');\n",
       "    const paramPrefix = toggleableContent ? toggleableContent.dataset.paramPrefix : '';\n",
       "    const fullParamName = paramPrefix ? `${paramPrefix}${text}` : text;\n",
       "\n",
       "    const originalStyle = element.style;\n",
       "    const computedStyle = window.getComputedStyle(element);\n",
       "    const originalWidth = computedStyle.width;\n",
       "    const originalHTML = element.innerHTML.replace('Copied!', '');\n",
       "\n",
       "    navigator.clipboard.writeText(fullParamName)\n",
       "        .then(() => {\n",
       "            element.style.width = originalWidth;\n",
       "            element.style.color = 'green';\n",
       "            element.innerHTML = \"Copied!\";\n",
       "\n",
       "            setTimeout(() => {\n",
       "                element.innerHTML = originalHTML;\n",
       "                element.style = originalStyle;\n",
       "            }, 2000);\n",
       "        })\n",
       "        .catch(err => {\n",
       "            console.error('Failed to copy:', err);\n",
       "            element.style.color = 'red';\n",
       "            element.innerHTML = \"Failed!\";\n",
       "            setTimeout(() => {\n",
       "                element.innerHTML = originalHTML;\n",
       "                element.style = originalStyle;\n",
       "            }, 2000);\n",
       "        });\n",
       "    return false;\n",
       "}\n",
       "\n",
       "document.querySelectorAll('.fa-regular.fa-copy').forEach(function(element) {\n",
       "    const toggleableContent = element.closest('.sk-toggleable__content');\n",
       "    const paramPrefix = toggleableContent ? toggleableContent.dataset.paramPrefix : '';\n",
       "    const paramName = element.parentElement.nextElementSibling.textContent.trim();\n",
       "    const fullParamName = paramPrefix ? `${paramPrefix}${paramName}` : paramName;\n",
       "\n",
       "    element.setAttribute('title', fullParamName);\n",
       "});\n",
       "</script></body>"
      ],
      "text/plain": [
       "Lasso(alpha=10)"
      ]
     },
     "execution_count": 275,
     "metadata": {},
     "output_type": "execute_result"
    }
   ],
   "source": [
    "best_lasso = Lasso(alpha=10)\n",
    "best_lasso.fit(s.fit_transform(X_train.drop(columns='created')),y_train)\n"
   ]
  },
  {
   "cell_type": "code",
   "execution_count": 267,
   "id": "5e927694",
   "metadata": {},
   "outputs": [],
   "source": [
    "y_pred_lasso = best_lasso.predict(xtest_s)"
   ]
  },
  {
   "cell_type": "code",
   "execution_count": 276,
   "id": "b7d0dda4",
   "metadata": {},
   "outputs": [
    {
     "name": "stdout",
     "output_type": "stream",
     "text": [
      "2419.9047616900875 2677.676114385131 -1.8680577138575294\n"
     ]
    }
   ],
   "source": [
    "mae_lasso = mean_absolute_error(ytest,y_pred_lasso)\n",
    "rmse_lasso = root_mean_squared_error(ytest,y_pred_lasso)\n",
    "r2_lasso = r2_score(ytest,y_pred_lasso)\n",
    "print(mae_lasso,rmse_lasso,r2_lasso)"
   ]
  },
  {
   "cell_type": "code",
   "execution_count": 277,
   "id": "070298da",
   "metadata": {},
   "outputs": [],
   "source": [
    "\n",
    "features_weights = dict(zip(xtrain_s.columns, best_lasso.coef_))"
   ]
  },
  {
   "cell_type": "code",
   "execution_count": 278,
   "id": "cda32855",
   "metadata": {},
   "outputs": [],
   "source": [
    "\n",
    "sorted_features = sorted(features_weights.items(), key=lambda x: x[1], reverse=True)\n"
   ]
  },
  {
   "cell_type": "code",
   "execution_count": 279,
   "id": "030d49d7",
   "metadata": {},
   "outputs": [
    {
     "data": {
      "text/plain": [
       "[('bathrooms', np.float64(684.0948391927272)),\n",
       " ('bedrooms', np.float64(515.1228331574633)),\n",
       " ('Doorman', np.float64(271.3509259833886)),\n",
       " ('LaundryinUnit', np.float64(154.5242933201422)),\n",
       " ('Elevator', np.float64(92.71231799583698)),\n",
       " ('FitnessCenter', np.float64(76.0728627382122)),\n",
       " ('Dishwasher', np.float64(51.213238277599054)),\n",
       " ('DiningRoom', np.float64(27.826844726331306)),\n",
       " ('DogsAllowed', np.float64(24.683237940093562)),\n",
       " ('Terrace', np.float64(17.925970473473953)),\n",
       " ('CatsAllowed', np.float64(0.0)),\n",
       " ('OutdoorSpace', np.float64(-0.0)),\n",
       " ('Balcony', np.float64(0.0)),\n",
       " ('SwimmingPool', np.float64(0.0)),\n",
       " ('Pre-War', np.float64(-12.216684655818643)),\n",
       " ('NewConstruction', np.float64(-14.642562301944045)),\n",
       " ('RoofDeck', np.float64(-24.43628362484189)),\n",
       " ('LaundryInBuilding', np.float64(-29.72365170077274)),\n",
       " ('NoFee', np.float64(-31.809120650697036)),\n",
       " ('HardwoodFloors', np.float64(-40.102304998801486)),\n",
       " ('HighSpeedInternet', np.float64(-47.01707282125585)),\n",
       " ('LaundryinBuilding', np.float64(-73.01609235777921)),\n",
       " ('interest_level', np.float64(-256.49052183433076))]"
      ]
     },
     "execution_count": 279,
     "metadata": {},
     "output_type": "execute_result"
    }
   ],
   "source": [
    "sorted_features"
   ]
  },
  {
   "cell_type": "code",
   "execution_count": 257,
   "id": "1f92a636",
   "metadata": {},
   "outputs": [],
   "source": [
    "\n",
    "top10_features = [f for f, w in sorted_features[:10]]\n"
   ]
  },
  {
   "cell_type": "code",
   "execution_count": 254,
   "id": "5cfc581c",
   "metadata": {},
   "outputs": [
    {
     "data": {
      "text/plain": [
       "['bathrooms',\n",
       " 'bedrooms',\n",
       " 'Doorman',\n",
       " 'interest_level',\n",
       " 'LaundryinUnit',\n",
       " 'Elevator',\n",
       " 'FitnessCenter',\n",
       " 'LaundryinBuilding',\n",
       " 'HighSpeedInternet',\n",
       " 'Dishwasher']"
      ]
     },
     "execution_count": 254,
     "metadata": {},
     "output_type": "execute_result"
    }
   ],
   "source": [
    "top10_features"
   ]
  },
  {
   "cell_type": "code",
   "execution_count": 178,
   "id": "fd3c4230",
   "metadata": {},
   "outputs": [],
   "source": [
    "xtrain_10,xval_10,xtest_10 = xtrain[top10_features],xval[top10_features],xtest[top10_features]"
   ]
  },
  {
   "cell_type": "code",
   "execution_count": 179,
   "id": "b302cea8",
   "metadata": {},
   "outputs": [],
   "source": [
    "s_10 = StandardScaler()\n",
    "xtrain_10_s = pd.DataFrame(s_10.fit_transform(xtrain_10,ytrain),columns=xtrain_10.columns,index=xtrain_10.index)\n",
    "xval_10_s = pd.DataFrame(s_10.transform(xval_10),columns=xval_10.columns,index=xval_10.index)\n",
    "xtest_10_s = pd.DataFrame(s_10.transform(xtest_10),columns=xtest_10.columns,index=xtest_10.index)"
   ]
  },
  {
   "cell_type": "code",
   "execution_count": 180,
   "id": "c057320a",
   "metadata": {},
   "outputs": [],
   "source": [
    "alphas = np.logspace(0.75,0.85,10000)\n",
    "\n",
    "\n",
    "\n"
   ]
  },
  {
   "cell_type": "code",
   "execution_count": 181,
   "id": "236ecdab",
   "metadata": {},
   "outputs": [],
   "source": [
    "best = None\n",
    "for alpha in alphas:\n",
    "    model = Lasso(alpha=alpha,max_iter=10000)\n",
    "    model.fit(xtrain_10_s,ytrain)\n",
    "    y_pred = model.predict(xval_10_s)\n",
    "    mae = mean_absolute_error(yval,y_pred)\n",
    "    if best is None or best[1]>mae:\n",
    "        best = (alpha,mae)\n"
   ]
  },
  {
   "cell_type": "code",
   "execution_count": 182,
   "id": "60508b50",
   "metadata": {},
   "outputs": [
    {
     "data": {
      "text/plain": [
       "np.float64(7.079457843841379)"
      ]
     },
     "execution_count": 182,
     "metadata": {},
     "output_type": "execute_result"
    }
   ],
   "source": [
    "best_alpha_10 = best[0]\n",
    "best_alpha_10"
   ]
  },
  {
   "cell_type": "code",
   "execution_count": 220,
   "id": "a80956dd",
   "metadata": {},
   "outputs": [],
   "source": [
    "best_lasso_10 = Lasso(alpha=10)\n",
    "best_lasso_10.fit(xtrain_10_s,ytrain)\n",
    "y_pred_lasso_10 = best_lasso_10.predict(xtest_10_s)\n"
   ]
  },
  {
   "cell_type": "code",
   "execution_count": 184,
   "id": "baad2f56",
   "metadata": {},
   "outputs": [
    {
     "name": "stdout",
     "output_type": "stream",
     "text": [
      "693.6825133481303 1003.3625596394942 0.5972944825370279\n"
     ]
    }
   ],
   "source": [
    "mae_lasso_10 = mean_absolute_error(ytest,y_pred_lasso_10)\n",
    "rmse_lasso_10 = root_mean_squared_error(ytest,y_pred_lasso_10)\n",
    "r2_lasso_10 = r2_score(ytest,y_pred_lasso_10)\n",
    "print(mae_lasso_10,rmse_lasso_10,r2_lasso_10)"
   ]
  },
  {
   "cell_type": "markdown",
   "id": "4217b6cb",
   "metadata": {},
   "source": [
    "#### 6.3 Implement method for simple feature selection by nan-ratio in feature and correlation. Apply this method to feature set and take top 10 features, refit model and measure quality."
   ]
  },
  {
   "cell_type": "code",
   "execution_count": 185,
   "id": "f0c9f678",
   "metadata": {},
   "outputs": [],
   "source": [
    "def nan_cor_selection(x:pd.DataFrame,y,max_nan_ratio:float = 0.3, top_k:int = 10):\n",
    "    Xnum = x.select_dtypes(include=[np.number]).copy()\n",
    "    nan_ratio = Xnum.isna().mean()\n",
    "    keep = nan_ratio[nan_ratio<=max_nan_ratio].index\n",
    "    Xfinal = Xnum[keep].fillna(Xnum[keep].median())\n",
    "    corrs = Xfinal.apply(lambda c:np.corrcoef(c,y)[0,1])\n",
    "    corrs_sorted = abs(corrs).sort_values(ascending=False)\n",
    "    return corrs_sorted[:top_k].index\n",
    "\n"
   ]
  },
  {
   "cell_type": "code",
   "execution_count": 186,
   "id": "56e5cd11",
   "metadata": {},
   "outputs": [],
   "source": [
    "\n",
    "top10 = nan_cor_selection(xtrain_s,ytrain,max_nan_ratio=0.5,top_k=10)"
   ]
  },
  {
   "cell_type": "code",
   "execution_count": 187,
   "id": "439ac224",
   "metadata": {},
   "outputs": [],
   "source": [
    "xtrain_f10,xval_f10,xtest_f10 = xtrain[top10],xval[top10],xtest[top10]"
   ]
  },
  {
   "cell_type": "code",
   "execution_count": 191,
   "id": "216fc744",
   "metadata": {},
   "outputs": [],
   "source": [
    "sf = StandardScaler()\n",
    "xtrain_f10_s = sf.fit_transform(xtrain_f10)\n",
    "xval_f10_s = sf.transform(xval_f10)\n",
    "xtest_f10_s = sf.transform(xtest_f10)"
   ]
  },
  {
   "cell_type": "code",
   "execution_count": null,
   "id": "ec813e2b",
   "metadata": {},
   "outputs": [],
   "source": [
    "alphas = np.logspace(0.9,1,1000)\n"
   ]
  },
  {
   "cell_type": "code",
   "execution_count": null,
   "id": "6ae1d262",
   "metadata": {},
   "outputs": [],
   "source": [
    "best = None\n",
    "for alpha in alphas:\n",
    "    model = Lasso(alpha=alpha,max_iter=10000)\n",
    "    model.fit(xtrain_f10_s,ytrain)\n",
    "    y_pred = model.predict(xval_f10_s)\n",
    "    mae = mean_absolute_error(yval,y_pred)\n",
    "    if best is None or best[1]>mae:\n",
    "        best = (alpha,mae)\n"
   ]
  },
  {
   "cell_type": "code",
   "execution_count": null,
   "id": "a8fff9f6",
   "metadata": {},
   "outputs": [
    {
     "data": {
      "text/plain": [
       "(np.float64(9.035578346138928), 728.0472167127635)"
      ]
     },
     "execution_count": 65,
     "metadata": {},
     "output_type": "execute_result"
    }
   ],
   "source": [
    "best"
   ]
  },
  {
   "cell_type": "code",
   "execution_count": 222,
   "id": "2ff1beb1",
   "metadata": {},
   "outputs": [],
   "source": [
    "best_lasso_f10 = Lasso(alpha=10)\n",
    "best_lasso_f10.fit(xtrain_f10_s,ytrain)\n",
    "y_pred_lasso_f10 = best_lasso_f10.predict(xtest_f10_s)\n"
   ]
  },
  {
   "cell_type": "code",
   "execution_count": 223,
   "id": "461747bc",
   "metadata": {},
   "outputs": [
    {
     "name": "stdout",
     "output_type": "stream",
     "text": [
      "698.979486620003 1009.8315982458205 0.5920849686313765\n"
     ]
    }
   ],
   "source": [
    "mae_lasso_f10 = mean_absolute_error(ytest,y_pred_lasso_f10)\n",
    "rmse_lasso_f10 = root_mean_squared_error(ytest,y_pred_lasso_f10)\n",
    "r2_lasso_f10 = r2_score(ytest,y_pred_lasso_f10)\n",
    "print(mae_lasso_f10,rmse_lasso_f10,r2_lasso_f10)\n"
   ]
  },
  {
   "cell_type": "code",
   "execution_count": 224,
   "id": "bb62ecdb",
   "metadata": {},
   "outputs": [
    {
     "data": {
      "text/plain": [
       "[('Elevator', np.float64(682.7510985024372)),\n",
       " ('HardwoodFloors', np.float64(508.85045224188843)),\n",
       " ('FitnessCenter', np.float64(-261.89029066582617)),\n",
       " ('CatsAllowed', np.float64(246.03979555341658)),\n",
       " ('DogsAllowed', np.float64(156.16330349659825)),\n",
       " ('LaundryinBuilding', np.float64(69.6707223748146)),\n",
       " ('Doorman', np.float64(33.46731626325472)),\n",
       " ('NoFee', np.float64(12.574620682460697)),\n",
       " ('Pre-War', np.float64(-7.402484203051084)),\n",
       " ('Dishwasher', np.float64(0.4970344603089793))]"
      ]
     },
     "execution_count": 224,
     "metadata": {},
     "output_type": "execute_result"
    }
   ],
   "source": [
    "\n",
    "features_weights = dict(zip(xtrain_s.columns, best_lasso_f10.coef_))\n",
    "sorted_features = sorted(features_weights.items(), key=lambda x: abs(x[1]), reverse=True)\n",
    "sorted_features\n"
   ]
  },
  {
   "cell_type": "code",
   "execution_count": 233,
   "id": "73d8c7e2",
   "metadata": {},
   "outputs": [],
   "source": [
    "from sklearn.metrics import mean_absolute_percentage_error\n",
    "def permutation_importance(xval: pd.DataFrame, yval, model,\n",
    "                           top_k: int = 10, n_repeats: int = 5, random_state: int = 21):\n",
    "    if not isinstance(xval, pd.DataFrame):\n",
    "        raise ValueError('xval must be pd.DataFrame')\n",
    "    if len(xval) != len(yval):\n",
    "        raise ValueError('length mismatch')\n",
    "\n",
    "    cols = xval.columns.to_list()\n",
    "    y_pred_base = model.predict(xval)\n",
    "    mae_base = mean_absolute_percentage_error(yval, y_pred_base)\n",
    "\n",
    "\n",
    "    rng = np.random.RandomState(random_state)\n",
    "    deltas = {}\n",
    "    for col in cols:\n",
    "        mae_list = []\n",
    "        for _ in range(n_repeats):\n",
    "            Xp = xval.copy()\n",
    "            shuffled = Xp[col].to_numpy(copy=True)\n",
    "            rng.shuffle(shuffled)\n",
    "            Xp[col] = shuffled\n",
    "            y_pred_j = model.predict(Xp)\n",
    "            mae_list.append(mean_absolute_percentage_error(yval, y_pred_j))\n",
    "        deltas[col] = np.mean(mae_list) - mae_base\n",
    "\n",
    "    imp = pd.Series(deltas).sort_values(ascending=False)\n",
    "    return imp.head(min(top_k, len(cols))), imp.head(min(top_k, len(cols))).index.tolist()\n"
   ]
  },
  {
   "cell_type": "code",
   "execution_count": 234,
   "id": "34af626a",
   "metadata": {},
   "outputs": [],
   "source": [
    "pi, top_10_pi= permutation_importance(xval_s,yval,best_lasso)"
   ]
  },
  {
   "cell_type": "code",
   "execution_count": 235,
   "id": "3e3a9398",
   "metadata": {},
   "outputs": [
    {
     "data": {
      "text/plain": [
       "bedrooms             0.086706\n",
       "bathrooms            0.060351\n",
       "Doorman              0.026455\n",
       "interest_level       0.022033\n",
       "LaundryinUnit        0.008876\n",
       "Elevator             0.004987\n",
       "FitnessCenter        0.002370\n",
       "Dishwasher           0.001571\n",
       "LaundryinBuilding    0.001074\n",
       "HighSpeedInternet    0.000760\n",
       "dtype: float64"
      ]
     },
     "execution_count": 235,
     "metadata": {},
     "output_type": "execute_result"
    }
   ],
   "source": [
    "pi"
   ]
  },
  {
   "cell_type": "code",
   "execution_count": null,
   "id": "b5531ccb",
   "metadata": {},
   "outputs": [],
   "source": [
    "xtrain_10_pi,xval_10_pi,xtest_10_pi = xtrain[top_10_pi],xval[top_10_pi],xtest[top_10_pi]"
   ]
  },
  {
   "cell_type": "code",
   "execution_count": null,
   "id": "46de89c0",
   "metadata": {},
   "outputs": [],
   "source": [
    "s_pi = StandardScaler()\n",
    "xtrain_10_s_pi = s_pi.fit_transform(xtrain_10_pi)\n",
    "xval_10_s_pi = s_pi.transform(xval_10_pi)\n",
    "xtest_10_s_pi = s_pi.transform(xtest_10_pi)\n"
   ]
  },
  {
   "cell_type": "code",
   "execution_count": null,
   "id": "41be8eb4",
   "metadata": {},
   "outputs": [],
   "source": [
    "alphas=np.logspace(0.95,1.07,1000)\n",
    "\n"
   ]
  },
  {
   "cell_type": "code",
   "execution_count": null,
   "id": "3cce9207",
   "metadata": {},
   "outputs": [],
   "source": [
    "\n",
    "best = None\n",
    "for alpha in alphas:\n",
    "    model = Lasso(alpha=alpha,max_iter=10000)\n",
    "    model.fit(xtrain_10_s_pi,ytrain)\n",
    "    y_pred = model.predict(xval_10_s_pi)\n",
    "    mae = mean_absolute_error(yval,y_pred)\n",
    "    if best is None or best[1]>mae:\n",
    "        best = (alpha,mae)\n"
   ]
  },
  {
   "cell_type": "code",
   "execution_count": null,
   "id": "081927bb",
   "metadata": {},
   "outputs": [
    {
     "data": {
      "text/plain": [
       "(np.float64(8.912509381337454), 721.1888975279774)"
      ]
     },
     "execution_count": 75,
     "metadata": {},
     "output_type": "execute_result"
    }
   ],
   "source": [
    "best"
   ]
  },
  {
   "cell_type": "code",
   "execution_count": null,
   "id": "e4d9fafd",
   "metadata": {},
   "outputs": [],
   "source": [
    "best_lasso_pi10 = Lasso(alpha=best[0])\n",
    "best_lasso_pi10.fit(xtrain_10_s_pi,ytrain)\n",
    "y_pred_lasso_10_pi = best_lasso_pi10.predict(xtest_10_s_pi)"
   ]
  },
  {
   "cell_type": "code",
   "execution_count": null,
   "id": "ce61d109",
   "metadata": {},
   "outputs": [
    {
     "name": "stdout",
     "output_type": "stream",
     "text": [
      "725.9853759745773 1042.4122579697168 0.5653388580730405\n"
     ]
    }
   ],
   "source": [
    "mae_lasso_pi10 = mean_absolute_error(ytest,y_pred_lasso_10_pi)\n",
    "rmse_lasso_pi10 = root_mean_squared_error(ytest,y_pred_lasso_10_pi)\n",
    "r2_lasso_pi10 = r2_score(ytest,y_pred_lasso_10_pi)\n",
    "print(mae_lasso_pi10,rmse_lasso_pi10,r2_lasso_pi10)\n"
   ]
  },
  {
   "cell_type": "markdown",
   "id": "491a4995",
   "metadata": {},
   "source": [
    "#### 6.5 Import Shap and also refit model on top 10 features.\n"
   ]
  },
  {
   "cell_type": "code",
   "execution_count": null,
   "id": "19fe603d",
   "metadata": {},
   "outputs": [],
   "source": [
    "explainer = shap.LinearExplainer(best_lasso,xtrain_s,feature_perturbation='interventional')\n",
    "shap_val = explainer(xval_s)\n",
    "\n"
   ]
  },
  {
   "cell_type": "code",
   "execution_count": null,
   "id": "8e6f196d",
   "metadata": {},
   "outputs": [],
   "source": [
    "shap_val_values = explainer.shap_values(xval_s)\n",
    "imp = pd.Series(np.abs(shap_val_values).mean(axis=0), index=xval_s.columns)\n",
    "imp = imp.sort_values(ascending=False)\n"
   ]
  },
  {
   "cell_type": "code",
   "execution_count": null,
   "id": "188fa517",
   "metadata": {},
   "outputs": [
    {
     "data": {
      "image/png": "[encoded data removed]",
      "text/plain": [
       "<Figure size 800x950 with 2 Axes>"
      ]
     },
     "metadata": {},
     "output_type": "display_data"
    }
   ],
   "source": [
    "shap.summary_plot(shap_val_values, xval_s)"
   ]
  },
  {
   "cell_type": "code",
   "execution_count": 263,
   "id": "f2b2f624",
   "metadata": {},
   "outputs": [
    {
     "data": {
      "text/plain": [
       "bathrooms            583.579365\n",
       "bedrooms             421.905495\n",
       "Doorman              296.088466\n",
       "LaundryinUnit        170.889223\n",
       "Elevator             112.754563\n",
       "FitnessCenter         97.449152\n",
       "LaundryinBuilding     91.549735\n",
       "NoFee                 63.474011\n",
       "HardwoodFloors        56.406858\n",
       "Dishwasher            52.789521\n",
       "HighSpeedInternet     42.610192\n",
       "DogsAllowed           37.416021\n",
       "LaundryInBuilding     28.557924\n",
       "RoofDeck              20.341139\n",
       "DiningRoom            15.633920\n",
       "NewConstruction       13.143753\n",
       "Terrace               12.366672\n",
       "OutdoorSpace          11.253830\n",
       "Balcony                9.159058\n",
       "Pre-War                3.890899\n",
       "SwimmingPool           0.000000\n",
       "CatsAllowed            0.000000\n",
       "dtype: float64"
      ]
     },
     "execution_count": 263,
     "metadata": {},
     "output_type": "execute_result"
    }
   ],
   "source": [
    "imp"
   ]
  },
  {
   "cell_type": "code",
   "execution_count": null,
   "id": "94ccb953",
   "metadata": {},
   "outputs": [
    {
     "data": {
      "text/plain": [
       "['bathrooms',\n",
       " 'bedrooms',\n",
       " 'Doorman',\n",
       " 'LaundryinUnit',\n",
       " 'Elevator',\n",
       " 'FitnessCenter',\n",
       " 'LaundryinBuilding',\n",
       " 'NoFee',\n",
       " 'HardwoodFloors',\n",
       " 'Dishwasher']"
      ]
     },
     "execution_count": 81,
     "metadata": {},
     "output_type": "execute_result"
    }
   ],
   "source": [
    "top10_shap = imp.head(10).index.tolist()\n",
    "top10_shap\n"
   ]
  },
  {
   "cell_type": "code",
   "execution_count": null,
   "id": "b8a6093d",
   "metadata": {},
   "outputs": [],
   "source": [
    "xtrain_10_shap,xval_10_shap,xtest_10_shap = xtrain[top10_shap],x_val[top10_shap],xtest[top10_shap]\n",
    "s_shap = StandardScaler()\n",
    "xtrain_10_shap_s = s_shap.fit_transform(xtrain_10_shap)\n",
    "xval_10_shap_s = s_shap.transform(xval_10_shap)\n",
    "xtest_10_shap_s = s_shap.transform(xtest_10_shap)"
   ]
  },
  {
   "cell_type": "code",
   "execution_count": null,
   "id": "7b174f49",
   "metadata": {},
   "outputs": [],
   "source": [
    "alphas = np.logspace(0.99,1.1,1000)\n"
   ]
  },
  {
   "cell_type": "code",
   "execution_count": null,
   "id": "606452d4",
   "metadata": {},
   "outputs": [],
   "source": [
    "\n",
    "best = None\n",
    "for alpha in alphas:\n",
    "    model = Lasso(alpha=alpha,max_iter=10000)\n",
    "    model.fit(xtrain_10_shap_s,ytrain)\n",
    "    y_pred = model.predict(xval_10_shap_s)\n",
    "\n",
    "    mae = mean_absolute_error(y_val,y_pred)\n",
    "    if best is None or best[1]>mae:\n",
    "        best = (alpha,mae)\n"
   ]
  },
  {
   "cell_type": "code",
   "execution_count": null,
   "id": "305944ff",
   "metadata": {},
   "outputs": [
    {
     "data": {
      "text/plain": [
       "(np.float64(9.772372209558107), 706.8792917784945)"
      ]
     },
     "execution_count": 85,
     "metadata": {},
     "output_type": "execute_result"
    }
   ],
   "source": [
    "best"
   ]
  },
  {
   "cell_type": "code",
   "execution_count": null,
   "id": "0c7f56d1",
   "metadata": {},
   "outputs": [],
   "source": [
    "best_lasso_10_shap = Lasso(alpha=best[0])\n",
    "best_lasso_10_shap.fit(xtrain_10_shap_s,ytrain)\n",
    "y_pred_lasso_10_shap = best_lasso_10_shap.predict(xtest_10_shap_s)\n"
   ]
  },
  {
   "cell_type": "code",
   "execution_count": null,
   "id": "83ef7cef",
   "metadata": {},
   "outputs": [
    {
     "name": "stdout",
     "output_type": "stream",
     "text": [
      "724.4669397640077 1042.023161381441 0.5656632855762429\n"
     ]
    }
   ],
   "source": [
    "mae_lasso_10_shap = mean_absolute_error(ytest,y_pred_lasso_10_shap)\n",
    "rmse_lasso_10_shap = root_mean_squared_error(ytest,y_pred_lasso_10_shap)\n",
    "r2_lasso_10_shap = r2_score(ytest,y_pred_lasso_10_shap)\n",
    "print(mae_lasso_10_shap,rmse_lasso_10_shap,r2_lasso_10_shap)\n"
   ]
  },
  {
   "cell_type": "markdown",
   "id": "b1ff54f0",
   "metadata": {},
   "source": [
    "#### 6.6 Compare the quality of these methods for different aspects — speed, metrics and stability.\n",
    "\n",
    "\n",
    "\n"
   ]
  },
  {
   "cell_type": "code",
   "execution_count": null,
   "id": "ed83e841",
   "metadata": {},
   "outputs": [
    {
     "name": "stdout",
     "output_type": "stream",
     "text": [
      "2.79 ms ± 173 μs per loop (mean ± std. dev. of 7 runs, 100 loops each)\n"
     ]
    }
   ],
   "source": [
    "%%timeit\n",
    "best_lasso = Lasso(alpha=6.309573444801933)\n",
    "best_lasso.fit(xtrain_s,ytrain)\n",
    "y_pred_lasso = best_lasso.predict(xtest_s)\n",
    "features_weights = dict(zip(xtrain_s.columns, best_lasso.coef_))\n",
    "sorted_features = sorted(features_weights.items(), key=lambda x: abs(x[1]), reverse=True)\n",
    "top10_features = [f for f, w in sorted_features[:10]]\n"
   ]
  },
  {
   "cell_type": "code",
   "execution_count": null,
   "id": "a8880078",
   "metadata": {},
   "outputs": [
    {
     "name": "stdout",
     "output_type": "stream",
     "text": [
      "8.8 ms ± 157 μs per loop (mean ± std. dev. of 7 runs, 100 loops each)\n"
     ]
    }
   ],
   "source": [
    "%%timeit\n",
    "t = nan_cor_selection(xtrain_s,ytrain,max_nan_ratio=0.5,top_k=10)"
   ]
  },
  {
   "cell_type": "code",
   "execution_count": null,
   "id": "f6318f3d",
   "metadata": {},
   "outputs": [
    {
     "name": "stdout",
     "output_type": "stream",
     "text": [
      "60.5 ms ± 719 μs per loop (mean ± std. dev. of 7 runs, 10 loops each)\n"
     ]
    }
   ],
   "source": [
    "%%timeit\n",
    "permutation_importance(xval_s,yval,best_lasso)"
   ]
  },
  {
   "cell_type": "code",
   "execution_count": null,
   "id": "174f0bbc",
   "metadata": {},
   "outputs": [
    {
     "name": "stdout",
     "output_type": "stream",
     "text": [
      "199 μs ± 3.32 μs per loop (mean ± std. dev. of 7 runs, 10,000 loops each)\n"
     ]
    }
   ],
   "source": [
    "%%timeit\n",
    "shap_val_values = explainer.shap_values(xval_s)\n",
    "imp = pd.Series(np.abs(shap_val_values).mean(axis=0), index=xval_s.columns)\n",
    "imp = imp.sort_values(ascending=False)\n",
    "top10_shap = imp.head(10).index.tolist()\n",
    "\n"
   ]
  },
  {
   "cell_type": "code",
   "execution_count": null,
   "id": "74444860",
   "metadata": {},
   "outputs": [
    {
     "name": "stdout",
     "output_type": "stream",
     "text": [
      "Lasso feature selection:                 MAE - 725.2376567496437, RMSE - 1040.156766083042, R2 - 0.5672177961644181, time ~ 2.58 ms ± 33.6\n",
      "Pearson's correlation feature selection: MAE - 729.2579584173212, RMSE - 1047.0235459386113, R2 - 0.5614847572305601, time ~ 8.29 ms ± 147\n",
      "Permutation importance feature selection:MAE - 725.9853759745773, RMSE - 1042.4122579697168, R2 - 0.5653388580730405, time ~ 60.5 ms ± 4.14\n",
      "SHAP feature selection:                  MAE - 724.4669397640077, RMSE - 1042.023161381441, R2 - 0.5656632855762429, time ~ 193 μs ± 33.1 μs\n"
     ]
    }
   ],
   "source": [
    "print(f\"Lasso feature selection:                 MAE - {mae_lasso_10}, RMSE - {rmse_lasso_10}, R2 - {r2_lasso_10}, time ~ 2.58 ms ± 33.6\")\n",
    "print(f\"Pearson's correlation feature selection: MAE - {mae_lasso_f10}, RMSE - {rmse_lasso_f10}, R2 - {r2_lasso_f10}, time ~ 8.29 ms ± 147\" )\n",
    "print(f\"Permutation importance feature selection:MAE - {mae_lasso_pi10}, RMSE - {rmse_lasso_pi10}, R2 - {r2_lasso_pi10}, time ~ 60.5 ms ± 4.14\")\n",
    "print(f\"SHAP feature selection:                  MAE - {mae_lasso_10_shap}, RMSE - {rmse_lasso_10_shap}, R2 - {r2_lasso_10_shap}, time ~ 193 μs ± 33.1 μs\")"
   ]
  },
  {
   "cell_type": "markdown",
   "id": "205553f7",
   "metadata": {},
   "source": [
    "### 7. Hyperparameter optimization"
   ]
  },
  {
   "cell_type": "markdown",
   "id": "ff3dd822",
   "metadata": {},
   "source": [
    "#### 7.1 Implement grid search and random search methods for alpha and l1_ratio for sklearn's ElasticNet model."
   ]
  },
  {
   "cell_type": "code",
   "execution_count": null,
   "id": "439f02fa",
   "metadata": {},
   "outputs": [],
   "source": [
    "def elasticnet_gridsearch(X, y, alphas: Sequence, l1_ratios: Sequence,\n",
    "                          test_size: float = 0.2, random_state: int = 21):\n",
    "    if not (0.0 < float(test_size) < 1.0):\n",
    "        raise ValueError(\"test_size must be in (0,1)\")\n",
    "    X_train, X_val, y_train, y_val = train_test_split21(X, y, test_size=test_size, random_state=random_state)\n",
    "    sc = StandardScaler()\n",
    "    X_train_scaled = sc.fit_transform(X_train,y_train)\n",
    "    X_val_scaled = sc.transform(X_val)\n",
    "    best_score, best_params, best_model = np.inf, None, None\n",
    "    for alpha in alphas:\n",
    "        for l1 in l1_ratios:\n",
    "            model = ElasticNet(alpha=alpha, l1_ratio=l1, random_state=21, max_iter=10000)\n",
    "            model.fit(X_train_scaled, y_train)\n",
    "            y_pred = model.predict(X_val_scaled)\n",
    "            mae = mean_absolute_error(y_val, y_pred)\n",
    "            if mae < best_score:\n",
    "                best_score, best_params, best_model = mae, {\"alpha\": alpha, \"l1_ratio\": l1}, model\n",
    "    return best_params, best_score, best_model"
   ]
  },
  {
   "cell_type": "code",
   "execution_count": null,
   "id": "c0999ee6",
   "metadata": {},
   "outputs": [],
   "source": [
    "\n",
    "def elasticnet_randomsearch(\n",
    "    X, y,\n",
    "    alphas_logspace: tuple,        \n",
    "    l1_ratios_linspace: tuple,     \n",
    "    n_iter: int,\n",
    "    test_size: float = 0.2,\n",
    "    random_state: int = 21\n",
    "):\n",
    "\n",
    "    if not (0.0 < float(test_size) < 1.0):\n",
    "        raise ValueError(\"test_size must be in (0,1)\")\n",
    "    if len(alphas_logspace) != 2 or alphas_logspace[0] >= alphas_logspace[1]:\n",
    "        raise ValueError(\"alphas_logspace should be (low_exp, high_exp) with low<high\")\n",
    "    if len(l1_ratios_linspace) != 2 or not (0.0 <= l1_ratios_linspace[0] < l1_ratios_linspace[1] <= 1.0):\n",
    "        raise ValueError(\"l1_ratios_linspace should satisfy 0 <= low < high <= 1\")\n",
    "    if n_iter < 1:\n",
    "        raise ValueError(\"n_iter must be >= 1\")\n",
    "    \n",
    "\n",
    "    X_train, X_val, y_train, y_val = train_test_split21(X, y, test_size=test_size, random_state=random_state)\n",
    "    sc = StandardScaler()\n",
    "    X_train_scaled = sc.fit_transform(X_train,y_train)\n",
    "    X_val_scaled = sc.transform(X_val)\n",
    "\n",
    "    rng = np.random.RandomState(random_state)\n",
    "\n",
    "    best_score = float(\"inf\")\n",
    "    best_params = None\n",
    "\n",
    "    exp_lo, exp_hi = alphas_logspace\n",
    "    l1_lo, l1_hi   = l1_ratios_linspace\n",
    "\n",
    "    for _ in range(n_iter):\n",
    "\n",
    "        alpha = 10 ** rng.uniform(exp_lo, exp_hi)   # log-uniform\n",
    "        l1    = rng.uniform(l1_lo, l1_hi)           # uniform\n",
    "\n",
    "        model = ElasticNet(alpha=alpha, l1_ratio=l1, random_state=21, max_iter=10000)\n",
    "        model.fit(X_train_scaled, y_train)\n",
    "        y_pred = model.predict(X_val_scaled)\n",
    "        mae = mean_absolute_error(y_val, y_pred)\n",
    "\n",
    "        if mae < best_score:\n",
    "            best_score  = mae\n",
    "            best_params = {\"alpha\": float(alpha), \"l1_ratio\": float(l1)}\n",
    "            best_model  = model\n",
    "\n",
    "    return best_params, best_score, best_model\n"
   ]
  },
  {
   "cell_type": "markdown",
   "id": "7f8dfe8d",
   "metadata": {},
   "source": [
    "#### 7.2 Find the best combination of model hyperparameters"
   ]
  },
  {
   "cell_type": "code",
   "execution_count": null,
   "id": "09b94af9",
   "metadata": {},
   "outputs": [
    {
     "name": "stdout",
     "output_type": "stream",
     "text": [
      "{'alpha': np.float64(7.220809018385466), 'l1_ratio': np.float64(1.0)} 709.1792366653906\n",
      "{'alpha': 0.07074545099643877, 'l1_ratio': 0.5904577635433566} 709.3782656691324\n"
     ]
    }
   ],
   "source": [
    "\n",
    "X_raw_train = X_train.drop(columns='created')\n",
    "X_raw_test  = X_test.drop(columns='created')\n",
    "\n",
    "alphas = np.logspace(0, 1, 100)\n",
    "l1_ratios = np.linspace(0, 1, 100)\n",
    "\n",
    "best_params, best_score, _ = elasticnet_gridsearch(X_raw_train, y_train, alphas, l1_ratios)\n",
    "best_rand_params, best_rand_score, _ = elasticnet_randomsearch(X_raw_train, y_train,\n",
    "                                                               alphas_logspace=(-3, 5),\n",
    "                                                               l1_ratios_linspace=(0, 1),\n",
    "                                                               n_iter=100)\n",
    "print(best_params, best_score)\n",
    "print(best_rand_params, best_rand_score)\n"
   ]
  },
  {
   "cell_type": "markdown",
   "id": "1d5b771d",
   "metadata": {},
   "source": [
    "#### 7.3 Fit the resulting model"
   ]
  },
  {
   "cell_type": "code",
   "execution_count": null,
   "id": "b5bfdede",
   "metadata": {},
   "outputs": [
    {
     "data": {
      "text/html": [
       "<style>#sk-container-id-1 {\n",
       "  /* Definition of color scheme common for light and dark mode */\n",
       "  --sklearn-color-text: #000;\n",
       "  --sklearn-color-text-muted: #666;\n",
       "  --sklearn-color-line: gray;\n",
       "  /* Definition of color scheme for unfitted estimators */\n",
       "  --sklearn-color-unfitted-level-0: #fff5e6;\n",
       "  --sklearn-color-unfitted-level-1: #f6e4d2;\n",
       "  --sklearn-color-unfitted-level-2: #ffe0b3;\n",
       "  --sklearn-color-unfitted-level-3: chocolate;\n",
       "  /* Definition of color scheme for fitted estimators */\n",
       "  --sklearn-color-fitted-level-0: #f0f8ff;\n",
       "  --sklearn-color-fitted-level-1: #d4ebff;\n",
       "  --sklearn-color-fitted-level-2: #b3dbfd;\n",
       "  --sklearn-color-fitted-level-3: cornflowerblue;\n",
       "\n",
       "  /* Specific color for light theme */\n",
       "  --sklearn-color-text-on-default-background: var(--sg-text-color, var(--theme-code-foreground, var(--jp-content-font-color1, black)));\n",
       "  --sklearn-color-background: var(--sg-background-color, var(--theme-background, var(--jp-layout-color0, white)));\n",
       "  --sklearn-color-border-box: var(--sg-text-color, var(--theme-code-foreground, var(--jp-content-font-color1, black)));\n",
       "  --sklearn-color-icon: #696969;\n",
       "\n",
       "  @media (prefers-color-scheme: dark) {\n",
       "    /* Redefinition of color scheme for dark theme */\n",
       "    --sklearn-color-text-on-default-background: var(--sg-text-color, var(--theme-code-foreground, var(--jp-content-font-color1, white)));\n",
       "    --sklearn-color-background: var(--sg-background-color, var(--theme-background, var(--jp-layout-color0, #111)));\n",
       "    --sklearn-color-border-box: var(--sg-text-color, var(--theme-code-foreground, var(--jp-content-font-color1, white)));\n",
       "    --sklearn-color-icon: #878787;\n",
       "  }\n",
       "}\n",
       "\n",
       "#sk-container-id-1 {\n",
       "  color: var(--sklearn-color-text);\n",
       "}\n",
       "\n",
       "#sk-container-id-1 pre {\n",
       "  padding: 0;\n",
       "}\n",
       "\n",
       "#sk-container-id-1 input.sk-hidden--visually {\n",
       "  border: 0;\n",
       "  clip: rect(1px 1px 1px 1px);\n",
       "  clip: rect(1px, 1px, 1px, 1px);\n",
       "  height: 1px;\n",
       "  margin: -1px;\n",
       "  overflow: hidden;\n",
       "  padding: 0;\n",
       "  position: absolute;\n",
       "  width: 1px;\n",
       "}\n",
       "\n",
       "#sk-container-id-1 div.sk-dashed-wrapped {\n",
       "  border: 1px dashed var(--sklearn-color-line);\n",
       "  margin: 0 0.4em 0.5em 0.4em;\n",
       "  box-sizing: border-box;\n",
       "  padding-bottom: 0.4em;\n",
       "  background-color: var(--sklearn-color-background);\n",
       "}\n",
       "\n",
       "#sk-container-id-1 div.sk-container {\n",
       "  /* jupyter's `normalize.less` sets `[hidden] { display: none; }`\n",
       "     but bootstrap.min.css set `[hidden] { display: none !important; }`\n",
       "     so we also need the `!important` here to be able to override the\n",
       "     default hidden behavior on the sphinx rendered scikit-learn.org.\n",
       "     See: https://github.com/scikit-learn/scikit-learn/issues/21755 */\n",
       "  display: inline-block !important;\n",
       "  position: relative;\n",
       "}\n",
       "\n",
       "#sk-container-id-1 div.sk-text-repr-fallback {\n",
       "  display: none;\n",
       "}\n",
       "\n",
       "div.sk-parallel-item,\n",
       "div.sk-serial,\n",
       "div.sk-item {\n",
       "  /* draw centered vertical line to link estimators */\n",
       "  background-image: linear-gradient(var(--sklearn-color-text-on-default-background), var(--sklearn-color-text-on-default-background));\n",
       "  background-size: 2px 100%;\n",
       "  background-repeat: no-repeat;\n",
       "  background-position: center center;\n",
       "}\n",
       "\n",
       "/* Parallel-specific style estimator block */\n",
       "\n",
       "#sk-container-id-1 div.sk-parallel-item::after {\n",
       "  content: \"\";\n",
       "  width: 100%;\n",
       "  border-bottom: 2px solid var(--sklearn-color-text-on-default-background);\n",
       "  flex-grow: 1;\n",
       "}\n",
       "\n",
       "#sk-container-id-1 div.sk-parallel {\n",
       "  display: flex;\n",
       "  align-items: stretch;\n",
       "  justify-content: center;\n",
       "  background-color: var(--sklearn-color-background);\n",
       "  position: relative;\n",
       "}\n",
       "\n",
       "#sk-container-id-1 div.sk-parallel-item {\n",
       "  display: flex;\n",
       "  flex-direction: column;\n",
       "}\n",
       "\n",
       "#sk-container-id-1 div.sk-parallel-item:first-child::after {\n",
       "  align-self: flex-end;\n",
       "  width: 50%;\n",
       "}\n",
       "\n",
       "#sk-container-id-1 div.sk-parallel-item:last-child::after {\n",
       "  align-self: flex-start;\n",
       "  width: 50%;\n",
       "}\n",
       "\n",
       "#sk-container-id-1 div.sk-parallel-item:only-child::after {\n",
       "  width: 0;\n",
       "}\n",
       "\n",
       "/* Serial-specific style estimator block */\n",
       "\n",
       "#sk-container-id-1 div.sk-serial {\n",
       "  display: flex;\n",
       "  flex-direction: column;\n",
       "  align-items: center;\n",
       "  background-color: var(--sklearn-color-background);\n",
       "  padding-right: 1em;\n",
       "  padding-left: 1em;\n",
       "}\n",
       "\n",
       "\n",
       "/* Toggleable style: style used for estimator/Pipeline/ColumnTransformer box that is\n",
       "clickable and can be expanded/collapsed.\n",
       "- Pipeline and ColumnTransformer use this feature and define the default style\n",
       "- Estimators will overwrite some part of the style using the `sk-estimator` class\n",
       "*/\n",
       "\n",
       "/* Pipeline and ColumnTransformer style (default) */\n",
       "\n",
       "#sk-container-id-1 div.sk-toggleable {\n",
       "  /* Default theme specific background. It is overwritten whether we have a\n",
       "  specific estimator or a Pipeline/ColumnTransformer */\n",
       "  background-color: var(--sklearn-color-background);\n",
       "}\n",
       "\n",
       "/* Toggleable label */\n",
       "#sk-container-id-1 label.sk-toggleable__label {\n",
       "  cursor: pointer;\n",
       "  display: flex;\n",
       "  width: 100%;\n",
       "  margin-bottom: 0;\n",
       "  padding: 0.5em;\n",
       "  box-sizing: border-box;\n",
       "  text-align: center;\n",
       "  align-items: start;\n",
       "  justify-content: space-between;\n",
       "  gap: 0.5em;\n",
       "}\n",
       "\n",
       "#sk-container-id-1 label.sk-toggleable__label .caption {\n",
       "  font-size: 0.6rem;\n",
       "  font-weight: lighter;\n",
       "  color: var(--sklearn-color-text-muted);\n",
       "}\n",
       "\n",
       "#sk-container-id-1 label.sk-toggleable__label-arrow:before {\n",
       "  /* Arrow on the left of the label */\n",
       "  content: \"▸\";\n",
       "  float: left;\n",
       "  margin-right: 0.25em;\n",
       "  color: var(--sklearn-color-icon);\n",
       "}\n",
       "\n",
       "#sk-container-id-1 label.sk-toggleable__label-arrow:hover:before {\n",
       "  color: var(--sklearn-color-text);\n",
       "}\n",
       "\n",
       "/* Toggleable content - dropdown */\n",
       "\n",
       "#sk-container-id-1 div.sk-toggleable__content {\n",
       "  display: none;\n",
       "  text-align: left;\n",
       "  /* unfitted */\n",
       "  background-color: var(--sklearn-color-unfitted-level-0);\n",
       "}\n",
       "\n",
       "#sk-container-id-1 div.sk-toggleable__content.fitted {\n",
       "  /* fitted */\n",
       "  background-color: var(--sklearn-color-fitted-level-0);\n",
       "}\n",
       "\n",
       "#sk-container-id-1 div.sk-toggleable__content pre {\n",
       "  margin: 0.2em;\n",
       "  border-radius: 0.25em;\n",
       "  color: var(--sklearn-color-text);\n",
       "  /* unfitted */\n",
       "  background-color: var(--sklearn-color-unfitted-level-0);\n",
       "}\n",
       "\n",
       "#sk-container-id-1 div.sk-toggleable__content.fitted pre {\n",
       "  /* unfitted */\n",
       "  background-color: var(--sklearn-color-fitted-level-0);\n",
       "}\n",
       "\n",
       "#sk-container-id-1 input.sk-toggleable__control:checked~div.sk-toggleable__content {\n",
       "  /* Expand drop-down */\n",
       "  display: block;\n",
       "  width: 100%;\n",
       "  overflow: visible;\n",
       "}\n",
       "\n",
       "#sk-container-id-1 input.sk-toggleable__control:checked~label.sk-toggleable__label-arrow:before {\n",
       "  content: \"▾\";\n",
       "}\n",
       "\n",
       "/* Pipeline/ColumnTransformer-specific style */\n",
       "\n",
       "#sk-container-id-1 div.sk-label input.sk-toggleable__control:checked~label.sk-toggleable__label {\n",
       "  color: var(--sklearn-color-text);\n",
       "  background-color: var(--sklearn-color-unfitted-level-2);\n",
       "}\n",
       "\n",
       "#sk-container-id-1 div.sk-label.fitted input.sk-toggleable__control:checked~label.sk-toggleable__label {\n",
       "  background-color: var(--sklearn-color-fitted-level-2);\n",
       "}\n",
       "\n",
       "/* Estimator-specific style */\n",
       "\n",
       "/* Colorize estimator box */\n",
       "#sk-container-id-1 div.sk-estimator input.sk-toggleable__control:checked~label.sk-toggleable__label {\n",
       "  /* unfitted */\n",
       "  background-color: var(--sklearn-color-unfitted-level-2);\n",
       "}\n",
       "\n",
       "#sk-container-id-1 div.sk-estimator.fitted input.sk-toggleable__control:checked~label.sk-toggleable__label {\n",
       "  /* fitted */\n",
       "  background-color: var(--sklearn-color-fitted-level-2);\n",
       "}\n",
       "\n",
       "#sk-container-id-1 div.sk-label label.sk-toggleable__label,\n",
       "#sk-container-id-1 div.sk-label label {\n",
       "  /* The background is the default theme color */\n",
       "  color: var(--sklearn-color-text-on-default-background);\n",
       "}\n",
       "\n",
       "/* On hover, darken the color of the background */\n",
       "#sk-container-id-1 div.sk-label:hover label.sk-toggleable__label {\n",
       "  color: var(--sklearn-color-text);\n",
       "  background-color: var(--sklearn-color-unfitted-level-2);\n",
       "}\n",
       "\n",
       "/* Label box, darken color on hover, fitted */\n",
       "#sk-container-id-1 div.sk-label.fitted:hover label.sk-toggleable__label.fitted {\n",
       "  color: var(--sklearn-color-text);\n",
       "  background-color: var(--sklearn-color-fitted-level-2);\n",
       "}\n",
       "\n",
       "/* Estimator label */\n",
       "\n",
       "#sk-container-id-1 div.sk-label label {\n",
       "  font-family: monospace;\n",
       "  font-weight: bold;\n",
       "  display: inline-block;\n",
       "  line-height: 1.2em;\n",
       "}\n",
       "\n",
       "#sk-container-id-1 div.sk-label-container {\n",
       "  text-align: center;\n",
       "}\n",
       "\n",
       "/* Estimator-specific */\n",
       "#sk-container-id-1 div.sk-estimator {\n",
       "  font-family: monospace;\n",
       "  border: 1px dotted var(--sklearn-color-border-box);\n",
       "  border-radius: 0.25em;\n",
       "  box-sizing: border-box;\n",
       "  margin-bottom: 0.5em;\n",
       "  /* unfitted */\n",
       "  background-color: var(--sklearn-color-unfitted-level-0);\n",
       "}\n",
       "\n",
       "#sk-container-id-1 div.sk-estimator.fitted {\n",
       "  /* fitted */\n",
       "  background-color: var(--sklearn-color-fitted-level-0);\n",
       "}\n",
       "\n",
       "/* on hover */\n",
       "#sk-container-id-1 div.sk-estimator:hover {\n",
       "  /* unfitted */\n",
       "  background-color: var(--sklearn-color-unfitted-level-2);\n",
       "}\n",
       "\n",
       "#sk-container-id-1 div.sk-estimator.fitted:hover {\n",
       "  /* fitted */\n",
       "  background-color: var(--sklearn-color-fitted-level-2);\n",
       "}\n",
       "\n",
       "/* Specification for estimator info (e.g. \"i\" and \"?\") */\n",
       "\n",
       "/* Common style for \"i\" and \"?\" */\n",
       "\n",
       ".sk-estimator-doc-link,\n",
       "a:link.sk-estimator-doc-link,\n",
       "a:visited.sk-estimator-doc-link {\n",
       "  float: right;\n",
       "  font-size: smaller;\n",
       "  line-height: 1em;\n",
       "  font-family: monospace;\n",
       "  background-color: var(--sklearn-color-background);\n",
       "  border-radius: 1em;\n",
       "  height: 1em;\n",
       "  width: 1em;\n",
       "  text-decoration: none !important;\n",
       "  margin-left: 0.5em;\n",
       "  text-align: center;\n",
       "  /* unfitted */\n",
       "  border: var(--sklearn-color-unfitted-level-1) 1pt solid;\n",
       "  color: var(--sklearn-color-unfitted-level-1);\n",
       "}\n",
       "\n",
       ".sk-estimator-doc-link.fitted,\n",
       "a:link.sk-estimator-doc-link.fitted,\n",
       "a:visited.sk-estimator-doc-link.fitted {\n",
       "  /* fitted */\n",
       "  border: var(--sklearn-color-fitted-level-1) 1pt solid;\n",
       "  color: var(--sklearn-color-fitted-level-1);\n",
       "}\n",
       "\n",
       "/* On hover */\n",
       "div.sk-estimator:hover .sk-estimator-doc-link:hover,\n",
       ".sk-estimator-doc-link:hover,\n",
       "div.sk-label-container:hover .sk-estimator-doc-link:hover,\n",
       ".sk-estimator-doc-link:hover {\n",
       "  /* unfitted */\n",
       "  background-color: var(--sklearn-color-unfitted-level-3);\n",
       "  color: var(--sklearn-color-background);\n",
       "  text-decoration: none;\n",
       "}\n",
       "\n",
       "div.sk-estimator.fitted:hover .sk-estimator-doc-link.fitted:hover,\n",
       ".sk-estimator-doc-link.fitted:hover,\n",
       "div.sk-label-container:hover .sk-estimator-doc-link.fitted:hover,\n",
       ".sk-estimator-doc-link.fitted:hover {\n",
       "  /* fitted */\n",
       "  background-color: var(--sklearn-color-fitted-level-3);\n",
       "  color: var(--sklearn-color-background);\n",
       "  text-decoration: none;\n",
       "}\n",
       "\n",
       "/* Span, style for the box shown on hovering the info icon */\n",
       ".sk-estimator-doc-link span {\n",
       "  display: none;\n",
       "  z-index: 9999;\n",
       "  position: relative;\n",
       "  font-weight: normal;\n",
       "  right: .2ex;\n",
       "  padding: .5ex;\n",
       "  margin: .5ex;\n",
       "  width: min-content;\n",
       "  min-width: 20ex;\n",
       "  max-width: 50ex;\n",
       "  color: var(--sklearn-color-text);\n",
       "  box-shadow: 2pt 2pt 4pt #999;\n",
       "  /* unfitted */\n",
       "  background: var(--sklearn-color-unfitted-level-0);\n",
       "  border: .5pt solid var(--sklearn-color-unfitted-level-3);\n",
       "}\n",
       "\n",
       ".sk-estimator-doc-link.fitted span {\n",
       "  /* fitted */\n",
       "  background: var(--sklearn-color-fitted-level-0);\n",
       "  border: var(--sklearn-color-fitted-level-3);\n",
       "}\n",
       "\n",
       ".sk-estimator-doc-link:hover span {\n",
       "  display: block;\n",
       "}\n",
       "\n",
       "/* \"?\"-specific style due to the `<a>` HTML tag */\n",
       "\n",
       "#sk-container-id-1 a.estimator_doc_link {\n",
       "  float: right;\n",
       "  font-size: 1rem;\n",
       "  line-height: 1em;\n",
       "  font-family: monospace;\n",
       "  background-color: var(--sklearn-color-background);\n",
       "  border-radius: 1rem;\n",
       "  height: 1rem;\n",
       "  width: 1rem;\n",
       "  text-decoration: none;\n",
       "  /* unfitted */\n",
       "  color: var(--sklearn-color-unfitted-level-1);\n",
       "  border: var(--sklearn-color-unfitted-level-1) 1pt solid;\n",
       "}\n",
       "\n",
       "#sk-container-id-1 a.estimator_doc_link.fitted {\n",
       "  /* fitted */\n",
       "  border: var(--sklearn-color-fitted-level-1) 1pt solid;\n",
       "  color: var(--sklearn-color-fitted-level-1);\n",
       "}\n",
       "\n",
       "/* On hover */\n",
       "#sk-container-id-1 a.estimator_doc_link:hover {\n",
       "  /* unfitted */\n",
       "  background-color: var(--sklearn-color-unfitted-level-3);\n",
       "  color: var(--sklearn-color-background);\n",
       "  text-decoration: none;\n",
       "}\n",
       "\n",
       "#sk-container-id-1 a.estimator_doc_link.fitted:hover {\n",
       "  /* fitted */\n",
       "  background-color: var(--sklearn-color-fitted-level-3);\n",
       "}\n",
       "\n",
       ".estimator-table summary {\n",
       "    padding: .5rem;\n",
       "    font-family: monospace;\n",
       "    cursor: pointer;\n",
       "}\n",
       "\n",
       ".estimator-table details[open] {\n",
       "    padding-left: 0.1rem;\n",
       "    padding-right: 0.1rem;\n",
       "    padding-bottom: 0.3rem;\n",
       "}\n",
       "\n",
       ".estimator-table .parameters-table {\n",
       "    margin-left: auto !important;\n",
       "    margin-right: auto !important;\n",
       "}\n",
       "\n",
       ".estimator-table .parameters-table tr:nth-child(odd) {\n",
       "    background-color: #fff;\n",
       "}\n",
       "\n",
       ".estimator-table .parameters-table tr:nth-child(even) {\n",
       "    background-color: #f6f6f6;\n",
       "}\n",
       "\n",
       ".estimator-table .parameters-table tr:hover {\n",
       "    background-color: #e0e0e0;\n",
       "}\n",
       "\n",
       ".estimator-table table td {\n",
       "    border: 1px solid rgba(106, 105, 104, 0.232);\n",
       "}\n",
       "\n",
       ".user-set td {\n",
       "    color:rgb(255, 94, 0);\n",
       "    text-align: left;\n",
       "}\n",
       "\n",
       ".user-set td.value pre {\n",
       "    color:rgb(255, 94, 0) !important;\n",
       "    background-color: transparent !important;\n",
       "}\n",
       "\n",
       ".default td {\n",
       "    color: black;\n",
       "    text-align: left;\n",
       "}\n",
       "\n",
       ".user-set td i,\n",
       ".default td i {\n",
       "    color: black;\n",
       "}\n",
       "\n",
       ".copy-paste-icon {\n",
       "    background-image: url(data:image/svg+xml;base64,PHN2ZyB4bWxucz0iaHR0cDovL3d3dy53My5vcmcvMjAwMC9zdmciIHZpZXdCb3g9IjAgMCA0NDggNTEyIj48IS0tIUZvbnQgQXdlc29tZSBGcmVlIDYuNy4yIGJ5IEBmb250YXdlc29tZSAtIGh0dHBzOi8vZm9udGF3ZXNvbWUuY29tIExpY2Vuc2UgLSBodHRwczovL2ZvbnRhd2Vzb21lLmNvbS9saWNlbnNlL2ZyZWUgQ29weXJpZ2h0IDIwMjUgRm9udGljb25zLCBJbmMuLS0+PHBhdGggZD0iTTIwOCAwTDMzMi4xIDBjMTIuNyAwIDI0LjkgNS4xIDMzLjkgMTQuMWw2Ny45IDY3LjljOSA5IDE0LjEgMjEuMiAxNC4xIDMzLjlMNDQ4IDMzNmMwIDI2LjUtMjEuNSA0OC00OCA0OGwtMTkyIDBjLTI2LjUgMC00OC0yMS41LTQ4LTQ4bDAtMjg4YzAtMjYuNSAyMS41LTQ4IDQ4LTQ4ek00OCAxMjhsODAgMCAwIDY0LTY0IDAgMCAyNTYgMTkyIDAgMC0zMiA2NCAwIDAgNDhjMCAyNi41LTIxLjUgNDgtNDggNDhMNDggNTEyYy0yNi41IDAtNDgtMjEuNS00OC00OEwwIDE3NmMwLTI2LjUgMjEuNS00OCA0OC00OHoiLz48L3N2Zz4=);\n",
       "    background-repeat: no-repeat;\n",
       "    background-size: 14px 14px;\n",
       "    background-position: 0;\n",
       "    display: inline-block;\n",
       "    width: 14px;\n",
       "    height: 14px;\n",
       "    cursor: pointer;\n",
       "}\n",
       "</style><body><div id=\"sk-container-id-1\" class=\"sk-top-container\"><div class=\"sk-text-repr-fallback\"><pre>Pipeline(steps=[(&#x27;sc&#x27;, StandardScaler()),\n",
       "                (&#x27;en&#x27;,\n",
       "                 ElasticNet(alpha=np.float64(7.220809018385466),\n",
       "                            l1_ratio=np.float64(1.0), max_iter=10000,\n",
       "                            random_state=21))])</pre><b>In a Jupyter environment, please rerun this cell to show the HTML representation or trust the notebook. <br />On GitHub, the HTML representation is unable to render, please try loading this page with nbviewer.org.</b></div><div class=\"sk-container\" hidden><div class=\"sk-item sk-dashed-wrapped\"><div class=\"sk-label-container\"><div class=\"sk-label fitted sk-toggleable\"><input class=\"sk-toggleable__control sk-hidden--visually\" id=\"sk-estimator-id-1\" type=\"checkbox\" ><label for=\"sk-estimator-id-1\" class=\"sk-toggleable__label fitted sk-toggleable__label-arrow\"><div><div>Pipeline</div></div><div><a class=\"sk-estimator-doc-link fitted\" rel=\"noreferrer\" target=\"_blank\" href=\"https://scikit-learn.org/1.7/modules/generated/sklearn.pipeline.Pipeline.html\">?<span>Documentation for Pipeline</span></a><span class=\"sk-estimator-doc-link fitted\">i<span>Fitted</span></span></div></label><div class=\"sk-toggleable__content fitted\" data-param-prefix=\"\">\n",
       "        <div class=\"estimator-table\">\n",
       "            <details>\n",
       "                <summary>Parameters</summary>\n",
       "                <table class=\"parameters-table\">\n",
       "                  <tbody>\n",
       "                    \n",
       "        <tr class=\"user-set\">\n",
       "            <td><i class=\"copy-paste-icon\"\n",
       "                 onclick=\"copyToClipboard('steps',\n",
       "                          this.parentElement.nextElementSibling)\"\n",
       "            ></i></td>\n",
       "            <td class=\"param\">steps&nbsp;</td>\n",
       "            <td class=\"value\">[(&#x27;sc&#x27;, ...), (&#x27;en&#x27;, ...)]</td>\n",
       "        </tr>\n",
       "    \n",
       "\n",
       "        <tr class=\"default\">\n",
       "            <td><i class=\"copy-paste-icon\"\n",
       "                 onclick=\"copyToClipboard('transform_input',\n",
       "                          this.parentElement.nextElementSibling)\"\n",
       "            ></i></td>\n",
       "            <td class=\"param\">transform_input&nbsp;</td>\n",
       "            <td class=\"value\">None</td>\n",
       "        </tr>\n",
       "    \n",
       "\n",
       "        <tr class=\"default\">\n",
       "            <td><i class=\"copy-paste-icon\"\n",
       "                 onclick=\"copyToClipboard('memory',\n",
       "                          this.parentElement.nextElementSibling)\"\n",
       "            ></i></td>\n",
       "            <td class=\"param\">memory&nbsp;</td>\n",
       "            <td class=\"value\">None</td>\n",
       "        </tr>\n",
       "    \n",
       "\n",
       "        <tr class=\"default\">\n",
       "            <td><i class=\"copy-paste-icon\"\n",
       "                 onclick=\"copyToClipboard('verbose',\n",
       "                          this.parentElement.nextElementSibling)\"\n",
       "            ></i></td>\n",
       "            <td class=\"param\">verbose&nbsp;</td>\n",
       "            <td class=\"value\">False</td>\n",
       "        </tr>\n",
       "    \n",
       "                  </tbody>\n",
       "                </table>\n",
       "            </details>\n",
       "        </div>\n",
       "    </div></div></div><div class=\"sk-serial\"><div class=\"sk-item\"><div class=\"sk-estimator fitted sk-toggleable\"><input class=\"sk-toggleable__control sk-hidden--visually\" id=\"sk-estimator-id-2\" type=\"checkbox\" ><label for=\"sk-estimator-id-2\" class=\"sk-toggleable__label fitted sk-toggleable__label-arrow\"><div><div>StandardScaler</div></div><div><a class=\"sk-estimator-doc-link fitted\" rel=\"noreferrer\" target=\"_blank\" href=\"https://scikit-learn.org/1.7/modules/generated/sklearn.preprocessing.StandardScaler.html\">?<span>Documentation for StandardScaler</span></a></div></label><div class=\"sk-toggleable__content fitted\" data-param-prefix=\"sc__\">\n",
       "        <div class=\"estimator-table\">\n",
       "            <details>\n",
       "                <summary>Parameters</summary>\n",
       "                <table class=\"parameters-table\">\n",
       "                  <tbody>\n",
       "                    \n",
       "        <tr class=\"default\">\n",
       "            <td><i class=\"copy-paste-icon\"\n",
       "                 onclick=\"copyToClipboard('copy',\n",
       "                          this.parentElement.nextElementSibling)\"\n",
       "            ></i></td>\n",
       "            <td class=\"param\">copy&nbsp;</td>\n",
       "            <td class=\"value\">True</td>\n",
       "        </tr>\n",
       "    \n",
       "\n",
       "        <tr class=\"default\">\n",
       "            <td><i class=\"copy-paste-icon\"\n",
       "                 onclick=\"copyToClipboard('with_mean',\n",
       "                          this.parentElement.nextElementSibling)\"\n",
       "            ></i></td>\n",
       "            <td class=\"param\">with_mean&nbsp;</td>\n",
       "            <td class=\"value\">True</td>\n",
       "        </tr>\n",
       "    \n",
       "\n",
       "        <tr class=\"default\">\n",
       "            <td><i class=\"copy-paste-icon\"\n",
       "                 onclick=\"copyToClipboard('with_std',\n",
       "                          this.parentElement.nextElementSibling)\"\n",
       "            ></i></td>\n",
       "            <td class=\"param\">with_std&nbsp;</td>\n",
       "            <td class=\"value\">True</td>\n",
       "        </tr>\n",
       "    \n",
       "                  </tbody>\n",
       "                </table>\n",
       "            </details>\n",
       "        </div>\n",
       "    </div></div></div><div class=\"sk-item\"><div class=\"sk-estimator fitted sk-toggleable\"><input class=\"sk-toggleable__control sk-hidden--visually\" id=\"sk-estimator-id-3\" type=\"checkbox\" ><label for=\"sk-estimator-id-3\" class=\"sk-toggleable__label fitted sk-toggleable__label-arrow\"><div><div>ElasticNet</div></div><div><a class=\"sk-estimator-doc-link fitted\" rel=\"noreferrer\" target=\"_blank\" href=\"https://scikit-learn.org/1.7/modules/generated/sklearn.linear_model.ElasticNet.html\">?<span>Documentation for ElasticNet</span></a></div></label><div class=\"sk-toggleable__content fitted\" data-param-prefix=\"en__\">\n",
       "        <div class=\"estimator-table\">\n",
       "            <details>\n",
       "                <summary>Parameters</summary>\n",
       "                <table class=\"parameters-table\">\n",
       "                  <tbody>\n",
       "                    \n",
       "        <tr class=\"user-set\">\n",
       "            <td><i class=\"copy-paste-icon\"\n",
       "                 onclick=\"copyToClipboard('alpha',\n",
       "                          this.parentElement.nextElementSibling)\"\n",
       "            ></i></td>\n",
       "            <td class=\"param\">alpha&nbsp;</td>\n",
       "            <td class=\"value\">np.float64(7.220809018385466)</td>\n",
       "        </tr>\n",
       "    \n",
       "\n",
       "        <tr class=\"user-set\">\n",
       "            <td><i class=\"copy-paste-icon\"\n",
       "                 onclick=\"copyToClipboard('l1_ratio',\n",
       "                          this.parentElement.nextElementSibling)\"\n",
       "            ></i></td>\n",
       "            <td class=\"param\">l1_ratio&nbsp;</td>\n",
       "            <td class=\"value\">np.float64(1.0)</td>\n",
       "        </tr>\n",
       "    \n",
       "\n",
       "        <tr class=\"default\">\n",
       "            <td><i class=\"copy-paste-icon\"\n",
       "                 onclick=\"copyToClipboard('fit_intercept',\n",
       "                          this.parentElement.nextElementSibling)\"\n",
       "            ></i></td>\n",
       "            <td class=\"param\">fit_intercept&nbsp;</td>\n",
       "            <td class=\"value\">True</td>\n",
       "        </tr>\n",
       "    \n",
       "\n",
       "        <tr class=\"default\">\n",
       "            <td><i class=\"copy-paste-icon\"\n",
       "                 onclick=\"copyToClipboard('precompute',\n",
       "                          this.parentElement.nextElementSibling)\"\n",
       "            ></i></td>\n",
       "            <td class=\"param\">precompute&nbsp;</td>\n",
       "            <td class=\"value\">False</td>\n",
       "        </tr>\n",
       "    \n",
       "\n",
       "        <tr class=\"user-set\">\n",
       "            <td><i class=\"copy-paste-icon\"\n",
       "                 onclick=\"copyToClipboard('max_iter',\n",
       "                          this.parentElement.nextElementSibling)\"\n",
       "            ></i></td>\n",
       "            <td class=\"param\">max_iter&nbsp;</td>\n",
       "            <td class=\"value\">10000</td>\n",
       "        </tr>\n",
       "    \n",
       "\n",
       "        <tr class=\"default\">\n",
       "            <td><i class=\"copy-paste-icon\"\n",
       "                 onclick=\"copyToClipboard('copy_X',\n",
       "                          this.parentElement.nextElementSibling)\"\n",
       "            ></i></td>\n",
       "            <td class=\"param\">copy_X&nbsp;</td>\n",
       "            <td class=\"value\">True</td>\n",
       "        </tr>\n",
       "    \n",
       "\n",
       "        <tr class=\"default\">\n",
       "            <td><i class=\"copy-paste-icon\"\n",
       "                 onclick=\"copyToClipboard('tol',\n",
       "                          this.parentElement.nextElementSibling)\"\n",
       "            ></i></td>\n",
       "            <td class=\"param\">tol&nbsp;</td>\n",
       "            <td class=\"value\">0.0001</td>\n",
       "        </tr>\n",
       "    \n",
       "\n",
       "        <tr class=\"default\">\n",
       "            <td><i class=\"copy-paste-icon\"\n",
       "                 onclick=\"copyToClipboard('warm_start',\n",
       "                          this.parentElement.nextElementSibling)\"\n",
       "            ></i></td>\n",
       "            <td class=\"param\">warm_start&nbsp;</td>\n",
       "            <td class=\"value\">False</td>\n",
       "        </tr>\n",
       "    \n",
       "\n",
       "        <tr class=\"default\">\n",
       "            <td><i class=\"copy-paste-icon\"\n",
       "                 onclick=\"copyToClipboard('positive',\n",
       "                          this.parentElement.nextElementSibling)\"\n",
       "            ></i></td>\n",
       "            <td class=\"param\">positive&nbsp;</td>\n",
       "            <td class=\"value\">False</td>\n",
       "        </tr>\n",
       "    \n",
       "\n",
       "        <tr class=\"user-set\">\n",
       "            <td><i class=\"copy-paste-icon\"\n",
       "                 onclick=\"copyToClipboard('random_state',\n",
       "                          this.parentElement.nextElementSibling)\"\n",
       "            ></i></td>\n",
       "            <td class=\"param\">random_state&nbsp;</td>\n",
       "            <td class=\"value\">21</td>\n",
       "        </tr>\n",
       "    \n",
       "\n",
       "        <tr class=\"default\">\n",
       "            <td><i class=\"copy-paste-icon\"\n",
       "                 onclick=\"copyToClipboard('selection',\n",
       "                          this.parentElement.nextElementSibling)\"\n",
       "            ></i></td>\n",
       "            <td class=\"param\">selection&nbsp;</td>\n",
       "            <td class=\"value\">&#x27;cyclic&#x27;</td>\n",
       "        </tr>\n",
       "    \n",
       "                  </tbody>\n",
       "                </table>\n",
       "            </details>\n",
       "        </div>\n",
       "    </div></div></div></div></div></div></div><script>function copyToClipboard(text, element) {\n",
       "    // Get the parameter prefix from the closest toggleable content\n",
       "    const toggleableContent = element.closest('.sk-toggleable__content');\n",
       "    const paramPrefix = toggleableContent ? toggleableContent.dataset.paramPrefix : '';\n",
       "    const fullParamName = paramPrefix ? `${paramPrefix}${text}` : text;\n",
       "\n",
       "    const originalStyle = element.style;\n",
       "    const computedStyle = window.getComputedStyle(element);\n",
       "    const originalWidth = computedStyle.width;\n",
       "    const originalHTML = element.innerHTML.replace('Copied!', '');\n",
       "\n",
       "    navigator.clipboard.writeText(fullParamName)\n",
       "        .then(() => {\n",
       "            element.style.width = originalWidth;\n",
       "            element.style.color = 'green';\n",
       "            element.innerHTML = \"Copied!\";\n",
       "\n",
       "            setTimeout(() => {\n",
       "                element.innerHTML = originalHTML;\n",
       "                element.style = originalStyle;\n",
       "            }, 2000);\n",
       "        })\n",
       "        .catch(err => {\n",
       "            console.error('Failed to copy:', err);\n",
       "            element.style.color = 'red';\n",
       "            element.innerHTML = \"Failed!\";\n",
       "            setTimeout(() => {\n",
       "                element.innerHTML = originalHTML;\n",
       "                element.style = originalStyle;\n",
       "            }, 2000);\n",
       "        });\n",
       "    return false;\n",
       "}\n",
       "\n",
       "document.querySelectorAll('.fa-regular.fa-copy').forEach(function(element) {\n",
       "    const toggleableContent = element.closest('.sk-toggleable__content');\n",
       "    const paramPrefix = toggleableContent ? toggleableContent.dataset.paramPrefix : '';\n",
       "    const paramName = element.parentElement.nextElementSibling.textContent.trim();\n",
       "    const fullParamName = paramPrefix ? `${paramPrefix}${paramName}` : paramName;\n",
       "\n",
       "    element.setAttribute('title', fullParamName);\n",
       "});\n",
       "</script></body>"
      ],
      "text/plain": [
       "Pipeline(steps=[('sc', StandardScaler()),\n",
       "                ('en',\n",
       "                 ElasticNet(alpha=np.float64(7.220809018385466),\n",
       "                            l1_ratio=np.float64(1.0), max_iter=10000,\n",
       "                            random_state=21))])"
      ]
     },
     "execution_count": 96,
     "metadata": {},
     "output_type": "execute_result"
    }
   ],
   "source": [
    "best_alpha = best_params[\"alpha\"]\n",
    "best_l1    = best_params[\"l1_ratio\"]\n",
    "\n",
    "\n",
    "final_pipe = Pipeline([\n",
    "    (\"sc\", StandardScaler()),\n",
    "    (\"en\", ElasticNet(alpha=best_alpha, l1_ratio=best_l1, random_state=21, max_iter=10000)),\n",
    "])\n",
    "\n",
    "\n",
    "X_tr_final = X_train.drop(columns=\"created\")\n",
    "final_pipe.fit(X_tr_final, y_train)\n"
   ]
  },
  {
   "cell_type": "markdown",
   "id": "ff4daba1",
   "metadata": {},
   "source": [
    "#### 7.4 Import optuna and configure the same experiment with ElasticNet."
   ]
  },
  {
   "cell_type": "code",
   "execution_count": null,
   "id": "c9793e7b",
   "metadata": {},
   "outputs": [],
   "source": [
    "\n",
    "def objective(trial):\n",
    "    alpha = trial.suggest_loguniform(\"alpha\", 1e-4, 10.0)\n",
    "    l1_ratio = trial.suggest_uniform(\"l1_ratio\", 0.0, 1.0)\n",
    "\n",
    "\n",
    "    X_train, X_val, y_train, y_val = train_test_split21(X, y, test_size=0.2, random_state=21)\n",
    "    sc = StandardScaler()\n",
    "    X_train_scaled = sc.fit_transform(X_train,y_train)\n",
    "    X_val_scaled = sc.transform(X_val)\n",
    "\n",
    "\n",
    "    model = ElasticNet(alpha=alpha, l1_ratio=l1_ratio, random_state=21, max_iter=10000)\n",
    "    model.fit(X_train_scaled, y_train)\n",
    "    y_pred = model.predict(X_val_scaled)\n",
    "    mae = mean_absolute_error(y_val, y_pred)\n",
    "    return mae\n",
    "X=X_train.drop(columns='created')\n",
    "y=y_train\n",
    "optuna.logging.set_verbosity(optuna.logging.WARNING)\n",
    "sampler = optuna.samplers.TPESampler(seed=21)\n"
   ]
  },
  {
   "cell_type": "code",
   "execution_count": null,
   "id": "66c5f692",
   "metadata": {},
   "outputs": [
    {
     "data": {
      "application/vnd.jupyter.widget-view+json": {
       "model_id": "ba9bb34671cb4d9193ae146aff92c856",
       "version_major": 2,
       "version_minor": 0
      },
      "text/plain": [
       "  0%|          | 0/100 [00:00<?, ?it/s]"
      ]
     },
     "metadata": {},
     "output_type": "display_data"
    },
    {
     "name": "stdout",
     "output_type": "stream",
     "text": [
      "Best params: {'alpha': 0.33201339593981416, 'l1_ratio': 0.9101509044501483}\n",
      "Best MAE: 709.3753028578765\n"
     ]
    }
   ],
   "source": [
    "\n",
    "study = optuna.create_study(direction=\"minimize\",sampler=sampler)\n",
    "study.optimize(objective, n_trials=100,show_progress_bar=True)\n",
    "\n",
    "print(\"Best params:\", study.best_params)\n",
    "print(\"Best MAE:\", study.best_value)"
   ]
  },
  {
   "cell_type": "markdown",
   "id": "85ec2fca",
   "metadata": {},
   "source": [
    "#### 7.5 Estimate metrics and compare approaches"
   ]
  },
  {
   "cell_type": "code",
   "execution_count": null,
   "id": "aca05de0",
   "metadata": {},
   "outputs": [],
   "source": [
    "alpha_gridsearch, l1_ratio_gridsearch = best_params.values()\n",
    "alpha_randomsearch, l1_randomsearch = best_rand_params.values()\n",
    "alpha_optuna, l1_optuna = study.best_params.values()\n"
   ]
  },
  {
   "cell_type": "code",
   "execution_count": null,
   "id": "cd43e7d4",
   "metadata": {},
   "outputs": [],
   "source": [
    "alpha_grid, l1_grid = best_params[\"alpha\"], best_params[\"l1_ratio\"]\n",
    "alpha_rand, l1_rand = best_rand_params[\"alpha\"], best_rand_params[\"l1_ratio\"]\n",
    "alpha_opt,  l1_opt  = study.best_params[\"alpha\"], study.best_params[\"l1_ratio\"]\n",
    "\n",
    "def make_pipe(a, l1):\n",
    "    return Pipeline([\n",
    "        ('sc', StandardScaler()),\n",
    "        ('en', ElasticNet(alpha=a, l1_ratio=l1, random_state=21, max_iter=10000))\n",
    "    ])\n",
    "\n",
    "pipe_gs     = make_pipe(alpha_grid, l1_grid).fit(X_raw_train, y_train)\n",
    "pipe_rs     = make_pipe(alpha_rand, l1_rand).fit(X_raw_train, y_train)\n",
    "pipe_optuna = make_pipe(alpha_opt,  l1_opt ).fit(X_raw_train, y_train)\n",
    "\n",
    "y_pred_gs     = pipe_gs.predict(X_raw_test)\n",
    "y_pred_rs     = pipe_rs.predict(X_raw_test)\n",
    "y_pred_optuna = pipe_optuna.predict(X_raw_test)\n",
    "\n",
    "mae_gs  = mean_absolute_error(y_test, y_pred_gs)\n",
    "rmse_gs = root_mean_squared_error(y_test, y_pred_gs)\n",
    "r2_gs   = r2_score(y_test, y_pred_gs)\n",
    "\n",
    "mae_rs  = mean_absolute_error(y_test, y_pred_rs)\n",
    "rmse_rs = root_mean_squared_error(y_test, y_pred_rs)\n",
    "r2_rs   = r2_score(y_test, y_pred_rs)\n",
    "\n",
    "mae_optuna  = mean_absolute_error(y_test, y_pred_optuna)\n",
    "rmse_optuna = root_mean_squared_error(y_test, y_pred_optuna)\n",
    "r2_optuna   = r2_score(y_test, y_pred_optuna)\n"
   ]
  },
  {
   "cell_type": "code",
   "execution_count": null,
   "id": "86bffcd5",
   "metadata": {},
   "outputs": [
    {
     "name": "stdout",
     "output_type": "stream",
     "text": [
      "GridSearch params Elastic net   MAE - 712.3433122135002, RMSE - 1214.3165506529424, R2 - 0.4044888809156372, iters = 10000, time ~ 50.4 s ± 4.53 s \n",
      "RandomSearch params Elastic net MAE - 712.3789738421818, RMSE - 1205.9702202151989, R2 - 0.41264697008537377, iters = 100, time - 559 ms ± 28.2 ms \n",
      "Optuna params Elastic net       MAE - 712.3455823679253, RMSE - 1205.7750487491855, R2 - 0.4128370664474519, iters = 100, time - 1.2 s ± 64.6\n"
     ]
    }
   ],
   "source": [
    "print(f'GridSearch params Elastic net   MAE - {mae_gs}, RMSE - {rmse_gs}, R2 - {r2_gs}, iters = {10000}, time ~ 50.4 s ± 4.53 s ')\n",
    "print(f'RandomSearch params Elastic net MAE - {mae_rs}, RMSE - {rmse_rs}, R2 - {r2_rs}, iters = {100}, time - 559 ms ± 28.2 ms ')\n",
    "print(f'Optuna params Elastic net       MAE - {mae_optuna}, RMSE - {rmse_optuna}, R2 - {r2_optuna}, iters = {100}, time - 1.2 s ± 64.6')"
   ]
  },
  {
   "cell_type": "markdown",
   "id": "2870de11",
   "metadata": {},
   "source": [
    "#### Все три метода дают близкие результаты по MAE (~712). Однако:\n",
    "\n",
    "##### GridSearch достигает лучшего MAE (712.343) но требует ~10 000 итераций и ~50 с, что делает его наименее эффективным.\n",
    "\n",
    "##### RandomSearch достигает  MAE (712.379)  всего за ~100 итераций и <1 с.\n",
    "\n",
    "##### Optuna показывает сопоставимое качество (MAE 712.3456) за ~100 итераций, но дольше по времени (~1.2 с).\n",
    "\n",
    "##### Таким образом, по метрике MAE и скорости наиболее эффективным является RandomSearch, тогда как Optuna предпочтительнее, если важна стабильность и воспроизводимость поиска."
   ]
  },
  {
   "cell_type": "markdown",
   "id": "5a2a881d",
   "metadata": {},
   "source": [
    "#### 7.6 Run optuna on one of the cross-validation schemes."
   ]
  },
  {
   "cell_type": "code",
   "execution_count": null,
   "id": "d7f80482",
   "metadata": {},
   "outputs": [
    {
     "name": "stdout",
     "output_type": "stream",
     "text": [
      "{'alpha': 5.609542239884382, 'l1_ratio': 0.9986295970809719} 707.9725026417448\n"
     ]
    }
   ],
   "source": [
    "\n",
    "def objective_cv(trial):\n",
    "    alpha = trial.suggest_float(\"alpha\", 1e-4, 10.0, log=True)\n",
    "    l1    = trial.suggest_float(\"l1_ratio\", 0.0, 1.0)\n",
    "    tss = TimeSeriesSplit21(k=5, date_field=X_cv['created'])\n",
    "    maes = []\n",
    "    for tr_idx, va_idx in tss.split(X_cv):\n",
    "        X_tr = X_cv.drop(columns='created').loc[tr_idx]\n",
    "        X_val = X_cv.drop(columns='created').loc[va_idx]\n",
    "        y_tr = y_cv.loc[tr_idx]\n",
    "        y_val = y_cv.loc[va_idx]\n",
    "\n",
    "        pipe = Pipeline([\n",
    "        ('sc', StandardScaler()),\n",
    "        ('en', ElasticNet(alpha=alpha, l1_ratio=l1, random_state=21, max_iter=10000))])\n",
    "        pipe.fit(X_tr, y_tr)\n",
    "        y_pred = pipe.predict(X_val)\n",
    "        maes.append(mean_absolute_error(y_val, y_pred))\n",
    "    return float(np.mean(maes))\n",
    "X_cv = X_train\n",
    "y_cv = y_train\n",
    "study = optuna.create_study(direction=\"minimize\", sampler=sampler)\n",
    "study.optimize(objective_cv, n_trials=1000)\n",
    "print(study.best_params, study.best_value)\n"
   ]
  },
  {
   "cell_type": "code",
   "execution_count": null,
   "id": "963b528f",
   "metadata": {},
   "outputs": [],
   "source": [
    "alpha_optuna_cv, l1_optuna_cv = study.best_params.values()"
   ]
  },
  {
   "cell_type": "code",
   "execution_count": null,
   "id": "0a967d10",
   "metadata": {},
   "outputs": [],
   "source": [
    "final_pipe_cv = Pipeline([\n",
    "    ('sc', StandardScaler()),\n",
    "    ('en', ElasticNet(alpha=alpha_optuna_cv, l1_ratio=l1_optuna_cv, random_state=21, max_iter=10000))\n",
    "])\n",
    "final_pipe_cv.fit(X_raw_train, y_train)\n",
    "y_pred_optuna_cv = final_pipe_cv.predict(X_raw_test)\n",
    "\n",
    "mae_optuna_cv  = mean_absolute_error(y_test, y_pred_optuna_cv)\n",
    "rmse_optuna_cv = root_mean_squared_error(y_test, y_pred_optuna_cv)\n",
    "r2_optuna_cv   = r2_score(y_test, y_pred_optuna_cv)\n"
   ]
  },
  {
   "cell_type": "code",
   "execution_count": null,
   "id": "18b20e52",
   "metadata": {},
   "outputs": [
    {
     "name": "stdout",
     "output_type": "stream",
     "text": [
      "Optuna_cv params Elastic net       MAE - 712.2679969024142, RMSE - 1211.9798643824086, R2 - 0.4067785372904281\n",
      "GridSearch params Elastic net   MAE - 712.3433122135002, RMSE - 1214.3165506529424, R2 - 0.4044888809156372, iters = 10000, time ~ 50.4 s ± 4.53 s \n",
      "RandomSearch params Elastic net MAE - 712.3789738421818, RMSE - 1205.9702202151989, R2 - 0.41264697008537377, iters = 100, time - 559 ms ± 28.2 ms \n",
      "Optuna params Elastic net       MAE - 712.3455823679253, RMSE - 1205.7750487491855, R2 - 0.4128370664474519, iters = 100, time - 1.2 s ± 64.6\n"
     ]
    }
   ],
   "source": [
    "print(f'Optuna_cv params Elastic net       MAE - {mae_optuna_cv}, RMSE - {rmse_optuna_cv}, R2 - {r2_optuna_cv}')\n",
    "print(f'GridSearch params Elastic net   MAE - {mae_gs}, RMSE - {rmse_gs}, R2 - {r2_gs}, iters = {10000}, time ~ 50.4 s ± 4.53 s ')\n",
    "print(f'RandomSearch params Elastic net MAE - {mae_rs}, RMSE - {rmse_rs}, R2 - {r2_rs}, iters = {100}, time - 559 ms ± 28.2 ms ')\n",
    "print(f'Optuna params Elastic net       MAE - {mae_optuna}, RMSE - {rmse_optuna}, R2 - {r2_optuna}, iters = {100}, time - 1.2 s ± 64.6')"
   ]
  }
 ],
 "metadata": {
  "kernelspec": {
   "display_name": "Python 3",
   "language": "python",
   "name": "python3"
  },
  "language_info": {
   "codemirror_mode": {
    "name": "ipython",
    "version": 3
   },
   "file_extension": ".py",
   "mimetype": "text/x-python",
   "name": "python",
   "nbconvert_exporter": "python",
   "pygments_lexer": "ipython3",
   "version": "3.13.3"
  }
 },
 "nbformat": 4,
 "nbformat_minor": 5
}
